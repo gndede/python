{
  "nbformat": 4,
  "nbformat_minor": 0,
  "metadata": {
    "kernelspec": {
      "display_name": "Python 3",
      "language": "python",
      "name": "python3"
    },
    "language_info": {
      "codemirror_mode": {
        "name": "ipython",
        "version": 3
      },
      "file_extension": ".py",
      "mimetype": "text/x-python",
      "name": "python",
      "nbconvert_exporter": "python",
      "pygments_lexer": "ipython3",
      "version": "3.8.5"
    },
    "colab": {
      "name": "OOP17.ipynb",
      "provenance": [],
      "include_colab_link": true
    }
  },
  "cells": [
    {
      "cell_type": "markdown",
      "metadata": {
        "id": "view-in-github",
        "colab_type": "text"
      },
      "source": [
        "<a href=\"https://colab.research.google.com/github/gndede/python/blob/main/OOP17.ipynb\" target=\"_parent\"><img src=\"https://colab.research.google.com/assets/colab-badge.svg\" alt=\"Open In Colab\"/></a>"
      ]
    },
    {
      "cell_type": "code",
      "metadata": {
        "id": "nEpxAF08W-Qo",
        "outputId": "1ee26026-92db-4851-9547-09c988e1e224"
      },
      "source": [
        "class person:\n",
        "    def __init__(self,name,age):\n",
        "        self.name = name\n",
        "        self.age=age\n",
        "    def myfun(self):\n",
        "        print(\"my name is \" + self.name)\n",
        "        print(\"my age is \" + self.age)\n",
        "        \n",
        "p1=person(\"John\", '29')\n",
        "p1.myfun()"
      ],
      "execution_count": null,
      "outputs": [
        {
          "output_type": "stream",
          "text": [
            "my name is John\n",
            "my age is 29\n"
          ],
          "name": "stdout"
        }
      ]
    },
    {
      "cell_type": "code",
      "metadata": {
        "id": "r0DLY6h9W-Qp",
        "outputId": "a917c5f0-7850-4540-d6af-2ea934fc1d24"
      },
      "source": [
        "class person1:\n",
        "    def __init__(self,fname,lname):\n",
        "        self.firstname = fname\n",
        "        self.lastname=lname\n",
        "        \n",
        "    def printname(self):\n",
        "        print(self.firstname, self.lastname)\n",
        "        \n",
        "x = person1(\"John\", \"Deric\")  #On your code, this line could have been the problem. don't leave a space between the Person1 and the left bracket.\n",
        "x.printname()"
      ],
      "execution_count": null,
      "outputs": [
        {
          "output_type": "stream",
          "text": [
            "John Deric\n"
          ],
          "name": "stdout"
        }
      ]
    },
    {
      "cell_type": "code",
      "metadata": {
        "id": "YCal8XAAW-Qp"
      },
      "source": [
        ""
      ],
      "execution_count": null,
      "outputs": []
    }
  ]
}