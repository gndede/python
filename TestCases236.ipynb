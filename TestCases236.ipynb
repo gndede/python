{
  "nbformat": 4,
  "nbformat_minor": 0,
  "metadata": {
    "colab": {
      "provenance": [],
      "authorship_tag": "ABX9TyNyy0JjK4rxN891Dq58DPNt",
      "include_colab_link": true
    },
    "kernelspec": {
      "name": "python3",
      "display_name": "Python 3"
    },
    "language_info": {
      "name": "python"
    }
  },
  "cells": [
    {
      "cell_type": "markdown",
      "metadata": {
        "id": "view-in-github",
        "colab_type": "text"
      },
      "source": [
        "<a href=\"https://colab.research.google.com/github/gndede/python/blob/main/TestCases236.ipynb\" target=\"_parent\"><img src=\"https://colab.research.google.com/assets/colab-badge.svg\" alt=\"Open In Colab\"/></a>"
      ]
    },
    {
      "cell_type": "code",
      "execution_count": 2,
      "metadata": {
        "colab": {
          "base_uri": "https://localhost:8080/"
        },
        "id": "tmSa_w_zW-QI",
        "outputId": "e26a4bc3-3650-4786-ba29-22d14b1dc099"
      },
      "outputs": [
        {
          "output_type": "stream",
          "name": "stdout",
          "text": [
            "Enter the base of the triangle : 64\n",
            "Enter the height of the triangle : 76\n",
            "Area =  2432.0\n"
          ]
        }
      ],
      "source": [
        "#Triangle.py\n",
        "#Finding the area of a triangle\n",
        "b = int(input(\"Enter the base of the triangle : \"))\n",
        "#Enter the base of the triangle : 30\n",
        "h = int(input(\"Enter the height of the triangle : \"))\n",
        "#Enter the height of the triangle : 50\n",
        "area = (b*h/2)\n",
        "print(\"Area = \", area)"
      ]
    },
    {
      "cell_type": "code",
      "source": [
        "#Python Program to find Area and Perimeter of a Triangle\n",
        "\n",
        "a = float(input('Please Enter the First side of a Triangle: '))\n",
        "b = float(input('Please Enter the Second side of a Triangle: '))\n",
        "c = float(input('Please Enter the Third side of a Triangle: '))\n",
        "\n",
        "# calculate the Perimeter\n",
        "Perimeter = a + b + c\n",
        "\n",
        "# calculate the semi-perimeter\n",
        "s = (a + b + c) / 2\n",
        "\n",
        "# calculate the area\n",
        "Area = float((s*(s-a)(s-b)(s-c)) ** 0.5)\n",
        "\n",
        "print(\"\\n The Perimeter of Triangle = %.2f\" %Perimeter);\n",
        "print(\" The Semi Perimeter of Triangle = %.2f\" %s);\n",
        "print(\" The Area of a Triangle is %0.2f\" %Area)"
      ],
      "metadata": {
        "colab": {
          "base_uri": "https://localhost:8080/",
          "height": 289
        },
        "id": "w_Mo7dCCXcqt",
        "outputId": "12662a88-36d3-4746-d63d-fd917c667f2f"
      },
      "execution_count": 4,
      "outputs": [
        {
          "name": "stdout",
          "output_type": "stream",
          "text": [
            "Please Enter the First side of a Triangle: 32\n",
            "Please Enter the Second side of a Triangle: 32\n",
            "Please Enter the Third side of a Triangle: 23\n"
          ]
        },
        {
          "output_type": "error",
          "ename": "TypeError",
          "evalue": "ignored",
          "traceback": [
            "\u001b[0;31m---------------------------------------------------------------------------\u001b[0m",
            "\u001b[0;31mTypeError\u001b[0m                                 Traceback (most recent call last)",
            "\u001b[0;32m<ipython-input-4-220e1d661430>\u001b[0m in \u001b[0;36m<module>\u001b[0;34m\u001b[0m\n\u001b[1;32m     12\u001b[0m \u001b[0;34m\u001b[0m\u001b[0m\n\u001b[1;32m     13\u001b[0m \u001b[0;31m# calculate the area\u001b[0m\u001b[0;34m\u001b[0m\u001b[0;34m\u001b[0m\u001b[0;34m\u001b[0m\u001b[0m\n\u001b[0;32m---> 14\u001b[0;31m \u001b[0mArea\u001b[0m \u001b[0;34m=\u001b[0m \u001b[0mfloat\u001b[0m\u001b[0;34m(\u001b[0m\u001b[0;34m(\u001b[0m\u001b[0ms\u001b[0m\u001b[0;34m*\u001b[0m\u001b[0;34m(\u001b[0m\u001b[0ms\u001b[0m\u001b[0;34m-\u001b[0m\u001b[0ma\u001b[0m\u001b[0;34m)\u001b[0m\u001b[0;34m(\u001b[0m\u001b[0ms\u001b[0m\u001b[0;34m-\u001b[0m\u001b[0mb\u001b[0m\u001b[0;34m)\u001b[0m\u001b[0;34m(\u001b[0m\u001b[0ms\u001b[0m\u001b[0;34m-\u001b[0m\u001b[0mc\u001b[0m\u001b[0;34m)\u001b[0m\u001b[0;34m)\u001b[0m \u001b[0;34m**\u001b[0m \u001b[0;36m0.5\u001b[0m\u001b[0;34m)\u001b[0m\u001b[0;34m\u001b[0m\u001b[0;34m\u001b[0m\u001b[0m\n\u001b[0m\u001b[1;32m     15\u001b[0m \u001b[0;34m\u001b[0m\u001b[0m\n\u001b[1;32m     16\u001b[0m \u001b[0mprint\u001b[0m\u001b[0;34m(\u001b[0m\u001b[0;34m\"\\n The Perimeter of Triangle = %.2f\"\u001b[0m \u001b[0;34m%\u001b[0m\u001b[0mPerimeter\u001b[0m\u001b[0;34m)\u001b[0m\u001b[0;34m;\u001b[0m\u001b[0;34m\u001b[0m\u001b[0;34m\u001b[0m\u001b[0m\n",
            "\u001b[0;31mTypeError\u001b[0m: 'float' object is not callable"
          ]
        }
      ]
    },
    {
      "cell_type": "code",
      "source": [
        "# using Functions to do the same.\n",
        "\n",
        "import math\n",
        "\n",
        "def Area_of_Triangle(a, b, c):\n",
        "    \n",
        "    # calculate the Perimeter\n",
        "    Perimeter = a + b + c\n",
        "    # calculate the semi-perimeter\n",
        "    s = (a + b + c) / 2\n",
        "\n",
        "    # calculate the area\n",
        "    Area = math.sqrt((s*(s-a)(s-b)(s-c)))\n",
        "\n",
        "    print(\"\\n The Perimeter = %.2f\" %Perimeter);\n",
        "    print(\" The Semi Perimeter = %.2f\" %s);\n",
        "    print(\" The Area is %0.2f\" %Area)\n",
        "\n",
        "Area_of_Triangle(6, 7, 8)"
      ],
      "metadata": {
        "colab": {
          "base_uri": "https://localhost:8080/",
          "height": 324
        },
        "id": "fPUurQv7YlW8",
        "outputId": "6fa44e61-8de5-4e4f-bd0a-bed6cecbb7a4"
      },
      "execution_count": 5,
      "outputs": [
        {
          "output_type": "error",
          "ename": "TypeError",
          "evalue": "ignored",
          "traceback": [
            "\u001b[0;31m---------------------------------------------------------------------------\u001b[0m",
            "\u001b[0;31mTypeError\u001b[0m                                 Traceback (most recent call last)",
            "\u001b[0;32m<ipython-input-5-89b8f0a8a0ef>\u001b[0m in \u001b[0;36m<module>\u001b[0;34m\u001b[0m\n\u001b[1;32m     17\u001b[0m     \u001b[0mprint\u001b[0m\u001b[0;34m(\u001b[0m\u001b[0;34m\" The Area is %0.2f\"\u001b[0m \u001b[0;34m%\u001b[0m\u001b[0mArea\u001b[0m\u001b[0;34m)\u001b[0m\u001b[0;34m\u001b[0m\u001b[0;34m\u001b[0m\u001b[0m\n\u001b[1;32m     18\u001b[0m \u001b[0;34m\u001b[0m\u001b[0m\n\u001b[0;32m---> 19\u001b[0;31m \u001b[0mArea_of_Triangle\u001b[0m\u001b[0;34m(\u001b[0m\u001b[0;36m6\u001b[0m\u001b[0;34m,\u001b[0m \u001b[0;36m7\u001b[0m\u001b[0;34m,\u001b[0m \u001b[0;36m8\u001b[0m\u001b[0;34m)\u001b[0m\u001b[0;34m\u001b[0m\u001b[0;34m\u001b[0m\u001b[0m\n\u001b[0m",
            "\u001b[0;32m<ipython-input-5-89b8f0a8a0ef>\u001b[0m in \u001b[0;36mArea_of_Triangle\u001b[0;34m(a, b, c)\u001b[0m\n\u001b[1;32m     11\u001b[0m \u001b[0;34m\u001b[0m\u001b[0m\n\u001b[1;32m     12\u001b[0m     \u001b[0;31m# calculate the area\u001b[0m\u001b[0;34m\u001b[0m\u001b[0;34m\u001b[0m\u001b[0;34m\u001b[0m\u001b[0m\n\u001b[0;32m---> 13\u001b[0;31m     \u001b[0mArea\u001b[0m \u001b[0;34m=\u001b[0m \u001b[0mmath\u001b[0m\u001b[0;34m.\u001b[0m\u001b[0msqrt\u001b[0m\u001b[0;34m(\u001b[0m\u001b[0;34m(\u001b[0m\u001b[0ms\u001b[0m\u001b[0;34m*\u001b[0m\u001b[0;34m(\u001b[0m\u001b[0ms\u001b[0m\u001b[0;34m-\u001b[0m\u001b[0ma\u001b[0m\u001b[0;34m)\u001b[0m\u001b[0;34m(\u001b[0m\u001b[0ms\u001b[0m\u001b[0;34m-\u001b[0m\u001b[0mb\u001b[0m\u001b[0;34m)\u001b[0m\u001b[0;34m(\u001b[0m\u001b[0ms\u001b[0m\u001b[0;34m-\u001b[0m\u001b[0mc\u001b[0m\u001b[0;34m)\u001b[0m\u001b[0;34m)\u001b[0m\u001b[0;34m)\u001b[0m\u001b[0;34m\u001b[0m\u001b[0;34m\u001b[0m\u001b[0m\n\u001b[0m\u001b[1;32m     14\u001b[0m \u001b[0;34m\u001b[0m\u001b[0m\n\u001b[1;32m     15\u001b[0m     \u001b[0mprint\u001b[0m\u001b[0;34m(\u001b[0m\u001b[0;34m\"\\n The Perimeter = %.2f\"\u001b[0m \u001b[0;34m%\u001b[0m\u001b[0mPerimeter\u001b[0m\u001b[0;34m)\u001b[0m\u001b[0;34m;\u001b[0m\u001b[0;34m\u001b[0m\u001b[0;34m\u001b[0m\u001b[0m\n",
            "\u001b[0;31mTypeError\u001b[0m: 'float' object is not callable"
          ]
        }
      ]
    },
    {
      "cell_type": "code",
      "source": [
        "# using a Python Function to find the area and/or Perimeter of a Rectangle\n",
        "# rectangle.py\n",
        "\n",
        "def Area_of_Rectangle(l,w):\n",
        "\n",
        "\t#Calculate the Perimeter\n",
        "\tperimeter = ((l + w)*2)\n",
        "\t\n",
        "\t#Calculate the Area of a rectangle\n",
        "\tarea = (l * w)\n",
        "\t\n",
        "\tprint(\"\\n The perimeter of the Rectangle = %.2f\" %perimeter)\n",
        "\tprint(\"\\n The Area of the Rectangle = %.2f\" %area)\n",
        "\t\n",
        "Area_of_Rectangle(6, 7)"
      ],
      "metadata": {
        "colab": {
          "base_uri": "https://localhost:8080/"
        },
        "id": "hcg5I_U_YvMQ",
        "outputId": "e34bf2b0-523c-4e94-edce-1ea7c287ae0f"
      },
      "execution_count": 6,
      "outputs": [
        {
          "output_type": "stream",
          "name": "stdout",
          "text": [
            "\n",
            " The perimeter of the Rectangle = 26.00\n",
            "\n",
            " The Area of the Rectangle = 42.00\n"
          ]
        }
      ]
    },
    {
      "cell_type": "code",
      "source": [
        "#Calculate the volume of a cone\n",
        "\n",
        "def Volume_Of_a_Cone(radius, height):\n",
        "\t#Calculate the Volume\n",
        "\tPi = 3.14\n",
        "\tVolumeCone = ((Pi * radius * radius * height)/3)\n",
        "\t\n",
        "\t#print out the result\n",
        "\tprint(\"\\n The Volume of a Cone Shaped Object = %.2f\" %VolumeCone)\n",
        "\t\n",
        "Volume_Of_a_Cone(30, 100)"
      ],
      "metadata": {
        "colab": {
          "base_uri": "https://localhost:8080/"
        },
        "id": "zIS2JOcFY0ll",
        "outputId": "ae4071b1-68e5-4926-a06a-4e7eddab7ae4"
      },
      "execution_count": 7,
      "outputs": [
        {
          "output_type": "stream",
          "name": "stdout",
          "text": [
            "\n",
            " The Volume of a Cone Shaped Object = 94200.00\n"
          ]
        }
      ]
    },
    {
      "cell_type": "code",
      "source": [
        "#Calculate the volume of a Pyramid\n",
        "#Pyramid.py\n",
        "# e = edge length of a Pyramid\n",
        "# h = height of a Pyramid\n",
        "\n",
        "#Calculate the volume of Pyramid\n",
        "def Volume_Of_a_Pyramid(edge, height):\n",
        "\t#Calculate the Volume\n",
        "\n",
        "\tVolumePyramid = ((edge * edge * height)/3)\n",
        "\t\n",
        "\tprint(\"\\n The Volume of a Pyramidal Object = %.2f\" %VolumePyramid)\n",
        "\t\n",
        "Volume_Of_a_Pyramid(50, 100)"
      ],
      "metadata": {
        "id": "UGWuxm-sY67q"
      },
      "execution_count": null,
      "outputs": []
    },
    {
      "cell_type": "code",
      "source": [
        "# Program to find the volume\n",
        "# of a triangular prism\n",
        "#TriangulaPrizm.py\n",
        "\n",
        "# function to find the Volume\n",
        "# of triangular prism\n",
        "def findVolumeTP(length, base, height) :\n",
        " \n",
        "    # formula to find Volume\n",
        "    return ((length * base * height) / 2)\n",
        " \n",
        "# Figure dimensions \n",
        "length = 19\n",
        "base = 14\n",
        "height = 7\n",
        "     \n",
        "# function calling\n",
        "print(\"Volume of triangular prism: \",\n",
        "                findVolumeTP(length, base, height))"
      ],
      "metadata": {
        "colab": {
          "base_uri": "https://localhost:8080/"
        },
        "id": "jw6rgNBqY_mX",
        "outputId": "8b7c2c09-9a8d-47d3-c426-9352e6e73e4a"
      },
      "execution_count": 8,
      "outputs": [
        {
          "output_type": "stream",
          "name": "stdout",
          "text": [
            "Volume of triangular prism:  931.0\n"
          ]
        }
      ]
    },
    {
      "cell_type": "markdown",
      "source": [
        "If the Earth is a Sphere,  we now can calculate and get the Volume of a Sphere. Therefore that means we can then get estimated total Volume of the Water on Earth. Assuming that 71% of the Earth is covered by water. Just so you know, 96.5% of Earth's surface is ocean water covered."
      ],
      "metadata": {
        "id": "KKlL5C4tZEGO"
      }
    },
    {
      "cell_type": "code",
      "source": [
        "#Is the Earth round or is it a sphere?\n",
        "#If the Earth is round then the:\n",
        " # area of the earth = Area of the Earth = (Pi*radius*radius)\n",
        " # perimeter of the earth = Perimeter of the Earth = (Circumference of a circle) = 2*Pi*r or Pi*D since Radius * 2 = Diameter.\n",
        " #Pi = 3.14\n",
        " # volume of the earth = Volume of sphere = 4(Pi*radius*radius*radius)/3\n",
        " \n",
        "def AreaOfearth(radius, Pi) :\n",
        "    # formula to find Area of a Circle\n",
        "    return (radius * Pi)\n",
        "    \n",
        "def PerimeterOfearth(Pi,Diameter):\n",
        "   #Calculate the Perimeter of a circle\n",
        "    return (Pi * Diameter)\n",
        "\n",
        "def VolumeOfEarth(Pi, radius):\n",
        "   #Calculate the Volume of Sphere\n",
        " \t return (4 * (Pi * radius * radius *  radius)/3)\n",
        " \t \n",
        " \t \n",
        "# Driver Code\n",
        "radius = 19\n",
        "Pi = 3.14\n",
        "Diameter = radius * 2\n",
        "     \n",
        "     \n",
        "# function calling to Area of the Earth\n",
        "print(\"Area of the Earth: \",\n",
        "                AreaOfearth(radius, Pi))\n",
        "                \n",
        "                \n",
        "# function calling to Perimeter of the Earth\n",
        "print(\"Perimeter of the Earth: \",\n",
        "                PerimeterOfearth(Diameter, Pi))\n",
        "\n",
        "# function calling to Perimeter of the Earth\n",
        "print(\"Volume of the Earth: \",\n",
        "                VolumeOfEarth(radius, Pi))"
      ],
      "metadata": {
        "colab": {
          "base_uri": "https://localhost:8080/"
        },
        "id": "sdvya07eZLK1",
        "outputId": "e1803c69-4035-4ac2-d8bd-127d45b2d494"
      },
      "execution_count": 9,
      "outputs": [
        {
          "output_type": "stream",
          "name": "stdout",
          "text": [
            "Area of the Earth:  59.660000000000004\n",
            "Perimeter of the Earth:  119.32000000000001\n",
            "Volume of the Earth:  784.2983146666667\n"
          ]
        }
      ]
    }
  ]
}