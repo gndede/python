{
  "nbformat": 4,
  "nbformat_minor": 0,
  "metadata": {
    "colab": {
      "name": "Sales222.ipynb",
      "private_outputs": true,
      "provenance": [],
      "authorship_tag": "ABX9TyO7EHiJLxHaXdvFPp3l7LQM",
      "include_colab_link": true
    },
    "kernelspec": {
      "name": "python3",
      "display_name": "Python 3"
    },
    "language_info": {
      "name": "python"
    }
  },
  "cells": [
    {
      "cell_type": "markdown",
      "metadata": {
        "id": "view-in-github",
        "colab_type": "text"
      },
      "source": [
        "<a href=\"https://colab.research.google.com/github/gndede/python/blob/main/Sales222.ipynb\" target=\"_parent\"><img src=\"https://colab.research.google.com/assets/colab-badge.svg\" alt=\"Open In Colab\"/></a>"
      ]
    },
    {
      "cell_type": "code",
      "execution_count": null,
      "metadata": {
        "id": "vYngKMAWsVJ8"
      },
      "outputs": [],
      "source": [
        "import pandas as pd\n",
        "\n",
        "#create DataFrame\n",
        "df = pd.DataFrame({'period': [1, 2, 3, 4, 5, 6, 7, 8],\n",
        "                   'A_sales': [12, 14, 15, 13, 18, 20, 19, 24],\n",
        "                   'B_sales': [14, 19, 20, 22, 24, 20, 17, 23]})\n",
        "\n",
        "#view DataFrame\n",
        "df"
      ]
    },
    {
      "cell_type": "code",
      "source": [
        "#add new column to represent difference between B sales and A sales\n",
        "df['diff'] = df['B_sales'] - df['A_sales']\n",
        "\n",
        "#view DataFrame\n",
        "df"
      ],
      "metadata": {
        "id": "r2jci5N1scfL"
      },
      "execution_count": null,
      "outputs": []
    }
  ]
}