{
  "nbformat": 4,
  "nbformat_minor": 0,
  "metadata": {
    "colab": {
      "private_outputs": true,
      "provenance": [],
      "authorship_tag": "ABX9TyNfBVgo5ngDd/CCXvkVKfH6",
      "include_colab_link": true
    },
    "kernelspec": {
      "name": "python3",
      "display_name": "Python 3"
    },
    "language_info": {
      "name": "python"
    }
  },
  "cells": [
    {
      "cell_type": "markdown",
      "metadata": {
        "id": "view-in-github",
        "colab_type": "text"
      },
      "source": [
        "<a href=\"https://colab.research.google.com/github/gndede/python/blob/main/vaex203.ipynb\" target=\"_parent\"><img src=\"https://colab.research.google.com/assets/colab-badge.svg\" alt=\"Open In Colab\"/></a>"
      ]
    },
    {
      "cell_type": "code",
      "source": [
        "pip install vaex"
      ],
      "metadata": {
        "id": "HEolF3hND7GV"
      },
      "execution_count": null,
      "outputs": []
    },
    {
      "cell_type": "code",
      "metadata": {
        "id": "VHUWPQ2VPEWc"
      },
      "source": [
        "#program: ndede\n",
        "#pip install vaex\n",
        "import vaex\n",
        "import pandas as pd\n",
        "import numpy as np\n",
        "number_rows = 1000000\n",
        "number_cols = 20\n",
        "df = pd.DataFrame(np.random.randint(100000000, 1000000000, size=(number_rows, number_cols)), columns=['c%d' % i for i in range(number_cols)])\n"
      ],
      "execution_count": null,
      "outputs": []
    },
    {
      "cell_type": "code",
      "metadata": {
        "id": "bRujsWXUQmP1"
      },
      "source": [
        "df.to_csv('Advanced.csv', index = False)"
      ],
      "execution_count": null,
      "outputs": []
    },
    {
      "cell_type": "code",
      "source": [
        "#Compare the speed of Pandas and Vaes\n",
        "import vaex\n",
        "vdf = vaex.read_csv(\"/content/Advanced.csv\")\n",
        "vdf.shape\n",
        "#output\n",
        "(1000000,51)\n"
      ],
      "metadata": {
        "id": "1nU__JvjETu8"
      },
      "execution_count": null,
      "outputs": []
    },
    {
      "cell_type": "code",
      "source": [
        "#Compare the speed of Pandas and Vaes\n",
        "import pandas as pd\n",
        "pdf = pd.read_csv(\"/content/Advanced.csv\")\n",
        "pdf.shape\n",
        "#output\n",
        "(1000000,51)"
      ],
      "metadata": {
        "id": "Pxw-nDpnJA4O"
      },
      "execution_count": null,
      "outputs": []
    },
    {
      "cell_type": "code",
      "source": [
        "pip install faker"
      ],
      "metadata": {
        "id": "GpVoJTrCLAOl"
      },
      "execution_count": null,
      "outputs": []
    },
    {
      "cell_type": "code",
      "source": [
        "from faker import Faker\n",
        "#Important most commonly used faker commands\n",
        "\n",
        "#fake.name()\n",
        "##fake.email()\n",
        "#fake.name()\n",
        "#fake.address()\n",
        "#fake.email()\n",
        "#fake.text()\n",
        "#fake.country()\n",
        "\n",
        "from faker import Faker\n",
        "fake = Faker()\n",
        "print(fake.name())\n",
        "print (fake.email())\n",
        "print(fake.country())\n",
        "print(fake.text())\n",
        "print(fake.latitude(), fake.longitude())\n",
        "print(fake.url())"
      ],
      "metadata": {
        "id": "VzGJvGyFMa6p"
      },
      "execution_count": null,
      "outputs": []
    },
    {
      "cell_type": "code",
      "source": [
        "from faker import Faker\n",
        "\n",
        "# To create a json file\n",
        "import json\n",
        "\n",
        "# For student id\n",
        "from random import randint\n",
        "\n",
        "fake = Faker()\n",
        "\n",
        "def input_data(x):\n",
        "\n",
        "    # dictionary\n",
        "    student_data ={}\n",
        "    for i in range(0, x):\n",
        "        student_data[i]={}\n",
        "        student_data[i]['id']= randint(1, 100)\n",
        "        student_data[i]['name']= fake.name()\n",
        "        student_data[i]['address']= fake.address()\n",
        "        student_data[i]['country']= str(fake.country())\n",
        "        student_data[i]['latitude']= str(fake.latitude())\n",
        "        student_data[i]['longitude']= str(fake.longitude())\n",
        "    print(student_data)\n",
        "\n",
        "    # dictionary dumped as json in a json file\n",
        "    with open('students.json', 'w') as fp:\n",
        "        json.dump(student_data, fp)\n",
        "\n",
        "\n",
        "def main():\n",
        "    # Enter number of students\n",
        "    # For the above task make this 100\n",
        "    number_of_students = 1000\n",
        "    input_data(number_of_students)\n",
        "\n",
        "main()\n",
        "# The folder or location where this python code\n",
        "# is save there a students.json will be created\n",
        "# having 1000 students data."
      ],
      "metadata": {
        "id": "u1w0pjcLNkgk"
      },
      "execution_count": null,
      "outputs": []
    },
    {
      "cell_type": "code",
      "source": [
        "#df.to_csv('Students.csv', index = False)"
      ],
      "metadata": {
        "id": "Lq9RvPogODEj"
      },
      "execution_count": null,
      "outputs": []
    }
  ]
}