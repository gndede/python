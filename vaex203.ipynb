{
  "nbformat": 4,
  "nbformat_minor": 0,
  "metadata": {
    "colab": {
      "name": "vaex203.ipynb",
      "private_outputs": true,
      "provenance": [],
      "authorship_tag": "ABX9TyO9tjaOyXI2E2PceVYVrfOH",
      "include_colab_link": true
    },
    "kernelspec": {
      "name": "python3",
      "display_name": "Python 3"
    },
    "language_info": {
      "name": "python"
    }
  },
  "cells": [
    {
      "cell_type": "markdown",
      "metadata": {
        "id": "view-in-github",
        "colab_type": "text"
      },
      "source": [
        "<a href=\"https://colab.research.google.com/github/gndede/python/blob/main/vaex203.ipynb\" target=\"_parent\"><img src=\"https://colab.research.google.com/assets/colab-badge.svg\" alt=\"Open In Colab\"/></a>"
      ]
    },
    {
      "cell_type": "code",
      "metadata": {
        "id": "VHUWPQ2VPEWc"
      },
      "source": [
        "#pip install vaex\n",
        "import vaex\n",
        "import pandas as pd\n",
        "import numpy as np \n",
        "number_rows = 1000000\n",
        "number_cols = 20\n",
        "df = pd.DataFrame(np.random.randint(100000000, 1000000000, size=(number_rows, number_cols)), columns=['c%d' % i for i in range(number_cols)])\n"
      ],
      "execution_count": null,
      "outputs": []
    },
    {
      "cell_type": "code",
      "metadata": {
        "id": "bRujsWXUQmP1"
      },
      "source": [
        "df.to_csv('Advanced.csv', index = False)"
      ],
      "execution_count": null,
      "outputs": []
    }
  ]
}