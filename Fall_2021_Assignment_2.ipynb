{
  "nbformat": 4,
  "nbformat_minor": 0,
  "metadata": {
    "colab": {
      "name": "Fall-2021-Assignment-2.ipynb",
      "private_outputs": true,
      "provenance": [],
      "authorship_tag": "ABX9TyNfLg+0rawomI5ds5+JsTNN",
      "include_colab_link": true
    },
    "kernelspec": {
      "name": "python3",
      "display_name": "Python 3"
    },
    "language_info": {
      "name": "python"
    }
  },
  "cells": [
    {
      "cell_type": "markdown",
      "metadata": {
        "id": "view-in-github",
        "colab_type": "text"
      },
      "source": [
        "<a href=\"https://colab.research.google.com/github/gndede/python/blob/main/Fall_2021_Assignment_2.ipynb\" target=\"_parent\"><img src=\"https://colab.research.google.com/assets/colab-badge.svg\" alt=\"Open In Colab\"/></a>"
      ]
    },
    {
      "cell_type": "code",
      "metadata": {
        "id": "WPFzPpK_6TVb"
      },
      "source": [
        "#Create a program that asks the user to enter their name and their age. \n",
        "#Print out a message addressed to them that tells them the year that they will turn 100 years old.\n",
        "\n",
        "name = input(\"What is your full names: \")\n",
        "age = int(input(\"How old are you: \"))\n",
        "\n",
        "current_year = int(input(\"Enter current year e.g 2021: \"))\n",
        "\n",
        "year = str((current_year - age)+100)\n",
        "\n",
        "print(name + \" - you will be 100 years old in the year \" + year)"
      ],
      "execution_count": null,
      "outputs": []
    },
    {
      "cell_type": "code",
      "metadata": {
        "id": "Dpgi1NeW7Rrn"
      },
      "source": [
        "#Write a Python program to display the current date and time.\n",
        "import datetime\n",
        "now = datetime.datetime.now()\n",
        "print (\"Current date and time : \")\n",
        "print (now.strftime(\"%Y-%m-%d %H:%M:%S\"))"
      ],
      "execution_count": null,
      "outputs": []
    },
    {
      "cell_type": "code",
      "metadata": {
        "id": "sW0jnDMZ_t6A"
      },
      "source": [
        "# Design a code that needs to perform simple time conversions, like days to\n",
        "#seconds, hours to minutes, and so on. Please show your work.\n",
        "\n",
        "# Python3 program to convert seconds\n",
        "# into days, hours, minutes, seconds\n",
        " \n",
        "# Function convert second into day\n",
        "# hours, minutes and seconds\n",
        "def ConvertSectoDay(n):\n",
        " \n",
        "    day = n // (24 * 3600)\n",
        " \n",
        "    n = n % (24 * 3600)\n",
        "    hour = n // 3600\n",
        " \n",
        "    n %= 3600\n",
        "    minutes = n // 60\n",
        " \n",
        "    n %= 60\n",
        "    seconds = n\n",
        "     \n",
        "    print(day,\"days\", hour, \"hours\",\n",
        "          minutes, \"minutes\",\n",
        "          seconds, \"seconds\")\n",
        "# Driver code\n",
        " \n",
        "# Given n is in seconds\n",
        "n = 129600\n",
        "ConvertSectoDay(n)\n"
      ],
      "execution_count": null,
      "outputs": []
    },
    {
      "cell_type": "code",
      "metadata": {
        "id": "SepvXiQ2D0xn"
      },
      "source": [
        "#Design a Python program to help calculate the BMI (Body Mass Index) of\n",
        "#an individual. If the person’s BMI is 25.0 and above, prompt that they are\n",
        "#overweight, while the range of between 18.5 to 24.9 is healthy.Design a Python program to help calculate the BMI (Body Mass Index) of\n",
        "#an individual. If the person’s BMI is 25.0 and above, prompt that they are\n",
        "#overweight, while the range of between 18.5 to 24.9 is healthy.\n",
        "\n",
        "names = str(input(\"Enter full names: \" ))\n",
        "body_height = float(input(\"Enter height in meters: \" ))\n",
        "\n",
        "body_weight = float(input(\"Enter weight in kilograms: \" ))\n",
        "\n",
        "heightsqr = (body_height**2)\n",
        "compute_bmi = round(body_weight/heightsqr,2)\n",
        "\n",
        "print(\"Body Mass Index is: \", compute_bmi)\n",
        "\n",
        "if compute_bmi < 18.5: \n",
        "  print(names + \": Your Body mass Index (BMI) is too low - you are underweight\", compute_bmi)\n",
        "elif compute_bmi > 18.5 and compute_bmi < 24.9:\n",
        "  print(names + \": Your Body mass Index (BMI) is normal - you are healthy and within acceptable range\", compute_bmi)\n",
        "else:\n",
        "  print(names + \": You're obese - your BMI is Obese\", compute_bmi)"
      ],
      "execution_count": null,
      "outputs": []
    },
    {
      "cell_type": "code",
      "metadata": {
        "id": "IeybF8dpNDvr"
      },
      "source": [
        "#Create a Python program to convert Fahrenheit to Celsius using the\n",
        "#following formula celsius = (fahrenheit - 32) / 1.8.\n",
        "#For the degree Celsius to Fahrenheit height\n",
        "\n",
        "Celsius = float(input('Enter temperature in Celsius: ')) \n",
        "\n",
        "# Calculate temperature in Fahrenheit \n",
        "Fahrenheit = (Celsius * 1.8) + 32 \n",
        "\n",
        "print('%0.1f Celsius is equal to %0.1f degree Fahrenheit'%(Celsius, Fahrenheit))"
      ],
      "execution_count": null,
      "outputs": []
    },
    {
      "cell_type": "code",
      "metadata": {
        "id": "zqWdcaJhNzgI"
      },
      "source": [
        "#Formula for converting Celsius (C) to Fahrenheit (F): C = 5/9 x (F-32)\n",
        "Fahrenheit = float(input('Enter temperature in Fahrenheit: ')) \n",
        "\n",
        "#The temperature conversion is easy to do:\n",
        "#1. Take the °F temperature and subtract 32.\n",
        "#2. Multiply this number by 5.\n",
        "#3. Divide this number by 9 to obtain your answer in °C.\n"
      ],
      "execution_count": null,
      "outputs": []
    }
  ]
}