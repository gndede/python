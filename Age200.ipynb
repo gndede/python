{
  "nbformat": 4,
  "nbformat_minor": 0,
  "metadata": {
    "colab": {
      "name": "Age200.ipynb",
      "private_outputs": true,
      "provenance": [],
      "authorship_tag": "ABX9TyPkmAhNawGo0ui/+bJnLIjm",
      "include_colab_link": true
    },
    "kernelspec": {
      "name": "python3",
      "display_name": "Python 3"
    },
    "language_info": {
      "name": "python"
    }
  },
  "cells": [
    {
      "cell_type": "markdown",
      "metadata": {
        "id": "view-in-github",
        "colab_type": "text"
      },
      "source": [
        "<a href=\"https://colab.research.google.com/github/gndede/python/blob/main/Age200.ipynb\" target=\"_parent\"><img src=\"https://colab.research.google.com/assets/colab-badge.svg\" alt=\"Open In Colab\"/></a>"
      ]
    },
    {
      "cell_type": "code",
      "metadata": {
        "id": "EWQBwSpSZlE7"
      },
      "source": [
        "from datetime import datetime\n",
        "\n",
        "#A program to calculate age \n",
        "date = datetime.now()\n",
        "year = int(date.year)\n",
        "month = int(date.month)\n",
        "day = int(date.day)\n",
        "\n",
        "first_name = input(\"What is your first name?\")\n",
        "last_name = input (\"What is your last name?\")\n",
        "user_year = int(input(\"What year were you born?\"))\n",
        "age = year - user_year\n",
        "\n",
        "print (\"Hello,\"+first_name+\" \"+last_name+\" You are\", age ,\"years old\")\n",
        "\n",
        "if age > 17:\n",
        "    print (\"You can watch an R rated movie, but don't. Do something better with your life honestly\")\n",
        "elif age >12 <17:\n",
        "    print (\"You can watch a movie rated PG-13\")   \n",
        "else:\n",
        "    print(\"You can only watch PG rated movies.\")"
      ],
      "execution_count": null,
      "outputs": []
    },
    {
      "cell_type": "code",
      "metadata": {
        "id": "7yH7LVHIaS7V"
      },
      "source": [
        "#Question One\n",
        "weight = 70.0\n",
        "time = 30\n",
        "MET = 3.0\n",
        "\n",
        "\n",
        "print (\"Susan burned \"+str(((time/60) * MET *3.5 * weight)/200)+\" calories\")\n",
        "\n",
        "#Question Two\n",
        "print (\"The calories burned from riding the bicycle are: \"+str(2 * 5.8 * 3.5 * 78/200))"
      ],
      "execution_count": null,
      "outputs": []
    },
    {
      "cell_type": "code",
      "metadata": {
        "id": "99NF5bREacRM"
      },
      "source": [
        "import random\n",
        "number = random.randint(1, 10)\n",
        "\n",
        "name = input(\"Hello, What's your name?\")\n",
        "number_of_guesses = 0\n",
        "print (\"Alrighty! \"+name+\" I'm thinking of a number between 1 and 10. Guess it.\")\n",
        "\n",
        "while number_of_guesses < 5:\n",
        "    guess = int(input())\n",
        "    number_of_guesses += 1\n",
        "    if guess < number:\n",
        "        print(\"Too low. Try guessing a bit higher. Or a lot higher.. your choice.\")\n",
        "    if guess > number:\n",
        "        print (\"Eeeeei chiiiill... too high. Guess again. Try a smaller number this time\")\n",
        "    if guess == number:\n",
        "        break\n",
        "if guess == number:\n",
        "        print (\"Correct. Good Job. You guessed the number in \" + str(number_of_guesses) + \" tries\")\n",
        "else:\n",
        "        print('Guessing games are clearly not your thing.Anyway the number was ' +str(number)+ \" better luck next time.\")8\n",
        "        "
      ],
      "execution_count": null,
      "outputs": []
    }
  ]
}