{
  "nbformat": 4,
  "nbformat_minor": 0,
  "metadata": {
    "colab": {
      "name": "Lambda201.ipynb",
      "private_outputs": true,
      "provenance": [],
      "authorship_tag": "ABX9TyME22nsJR8L1ECGx7xJv8K8",
      "include_colab_link": true
    },
    "kernelspec": {
      "name": "python3",
      "display_name": "Python 3"
    },
    "language_info": {
      "name": "python"
    }
  },
  "cells": [
    {
      "cell_type": "markdown",
      "metadata": {
        "id": "view-in-github",
        "colab_type": "text"
      },
      "source": [
        "<a href=\"https://colab.research.google.com/github/gndede/python/blob/main/Lambda201.ipynb\" target=\"_parent\"><img src=\"https://colab.research.google.com/assets/colab-badge.svg\" alt=\"Open In Colab\"/></a>"
      ]
    },
    {
      "cell_type": "code",
      "metadata": {
        "id": "7JU64Vo5s4sq"
      },
      "source": [
        "#Example using list, lambda function and map() function\n",
        "my_list = [1, 2, 3, 4, 5, 6]\n",
        "square_map = map(lambda list_item: list_item * list_item, my_list)\n",
        "square_list = list(square_map) # Convert map object to list\n",
        "print(square_list) "
      ],
      "execution_count": null,
      "outputs": []
    },
    {
      "cell_type": "code",
      "metadata": {
        "id": "Kz6CWqDGtgCU"
      },
      "source": [
        "list_1 = [1,2,3,4,5,6,7,8,9]\n",
        "cubed = map(lambda x: pow(x,3), list_1)\n",
        "list(cubed)\n",
        "###Results\n",
        "#[1, 8, 27, 64, 125, 216, 343, 512, 729]"
      ],
      "execution_count": null,
      "outputs": []
    },
    {
      "cell_type": "code",
      "metadata": {
        "id": "LDEzrkbhuGKq"
      },
      "source": [
        "#Lambdad function with filter()\n",
        "sequences = [10,2,8,7,5,4,3,11,11,0, 1]\n",
        "filtered_result = filter (lambda x: x > 4, sequences) \n",
        "print(list(filtered_result))"
      ],
      "execution_count": null,
      "outputs": []
    },
    {
      "cell_type": "code",
      "metadata": {
        "id": "nLdivW7gvApj"
      },
      "source": [
        "# A program that returns the product of all elements in a list\n",
        "from functools import reduce\n",
        "sequences = [1,2,3,4,5]\n",
        "product = reduce (lambda x, y: x*y, sequences)\n",
        "print(product)"
      ],
      "execution_count": null,
      "outputs": []
    }
  ]
}