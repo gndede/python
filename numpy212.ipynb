{
  "nbformat": 4,
  "nbformat_minor": 0,
  "metadata": {
    "colab": {
      "name": "numpy212.ipynb",
      "private_outputs": true,
      "provenance": [],
      "authorship_tag": "ABX9TyONL0MhmmuHRXWgcwML9imD",
      "include_colab_link": true
    },
    "kernelspec": {
      "name": "python3",
      "display_name": "Python 3"
    },
    "language_info": {
      "name": "python"
    }
  },
  "cells": [
    {
      "cell_type": "markdown",
      "metadata": {
        "id": "view-in-github",
        "colab_type": "text"
      },
      "source": [
        "<a href=\"https://colab.research.google.com/github/gndede/python/blob/main/numpy212.ipynb\" target=\"_parent\"><img src=\"https://colab.research.google.com/assets/colab-badge.svg\" alt=\"Open In Colab\"/></a>"
      ]
    },
    {
      "cell_type": "code",
      "metadata": {
        "id": "GxApMx6CsfVP"
      },
      "source": [
        "import numpy as np\n",
        "x = np.arange(20).reshape(4, 5)\n",
        "print(x)"
      ],
      "execution_count": null,
      "outputs": []
    },
    {
      "cell_type": "code",
      "metadata": {
        "id": "ziu47Mr9si6e"
      },
      "source": [
        "z = x[1:4,2:5] # We start the count on the above from Column 1 and we count 4 elements: [6  7  8  9]\n",
        "print(z) # Column 1 is [0,5,10,15], column 2: [10,11,12,13,14] but we start count from [12,13,14]\n",
        "#[17 18 19] also the last row of the array is taken from [2 to 5]"
      ],
      "execution_count": null,
      "outputs": []
    },
    {
      "cell_type": "code",
      "metadata": {
        "id": "TL4GV0H93Nxz"
      },
      "source": [
        "indices = np.array([1,3])\n",
        "print(indices)"
      ],
      "execution_count": null,
      "outputs": []
    },
    {
      "cell_type": "code",
      "metadata": {
        "id": "IQd7RE773Z13"
      },
      "source": [
        "y = x[indices, :] #starts from row 2 column 0 and reads everything from there on to the last.\n",
        "print(y)"
      ],
      "execution_count": null,
      "outputs": []
    }
  ]
}