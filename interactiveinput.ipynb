{
  "nbformat": 4,
  "nbformat_minor": 0,
  "metadata": {
    "colab": {
      "name": "interactiveinput.ipynb",
      "private_outputs": true,
      "provenance": [],
      "include_colab_link": true
    },
    "kernelspec": {
      "name": "python3",
      "display_name": "Python 3"
    }
  },
  "cells": [
    {
      "cell_type": "markdown",
      "metadata": {
        "id": "view-in-github",
        "colab_type": "text"
      },
      "source": [
        "<a href=\"https://colab.research.google.com/github/gndede/python/blob/main/interactiveinput.ipynb\" target=\"_parent\"><img src=\"https://colab.research.google.com/assets/colab-badge.svg\" alt=\"Open In Colab\"/></a>"
      ]
    },
    {
      "cell_type": "code",
      "metadata": {
        "id": "k2jDgRCQJpW1"
      },
      "source": [
        "# Change this code below\n",
        "my_greetings = \"Am Bad in a Good way!\"\n",
        "myfirst_name = \"Michael\"  #first name\n",
        "mylast_name = \"Jackson\"  #last name\n",
        "myfloat = 5.8 #height\n",
        "# Get the weight\n",
        "myweight = 150.0 #weight\n",
        "# Gets the age of the subject\n",
        "myint = 60 #age \n",
        " \n",
        "# Your corrections should all go here below\n",
        "if my_greetings != \"\": #Validate if greeting is an empty string\n",
        " print(\"The greetings: is a String: %s\" % my_greetings)\n",
        " \n",
        "if myfirst_name != \"\": #Validate if first name is an empty string\n",
        " print(\"My First name: is a String: %s\" % myfirst_name)\n",
        "\n",
        "if mylast_name != \"\": #Validate if last name is an empty string\n",
        " print(\"My Last name: is a String: %s\" % mylast_name)\n",
        " \n",
        "if isinstance(myfloat, float) and myfloat !=_:\n",
        " print(\"My height: is a Float: %f\" % myfloat, \"ft/in\")\n",
        "\n",
        "if isinstance(myweight, float) and myweight !=_:\n",
        " print(\"My Weight: is a Float: %f\" % myweight, \"lbs\")\n",
        " \n",
        "if isinstance(myint, int) and myint !=_:\n",
        " print(\"My age: is an Integer: %d\" % myint, \"yrs\")\n"
      ],
      "execution_count": null,
      "outputs": []
    },
    {
      "cell_type": "code",
      "metadata": {
        "id": "YX63O0B3UbRz"
      },
      "source": [
        "# Change this code below\n",
        "my_greetings = \"Am Bad in a Good way!\"\n",
        "myfirst_name = \"Michael\"  #first name\n",
        "mylast_name = \"Jackson\"  #last name\n",
        "myfloat = 5.8 #height\n",
        "# Get the weight\n",
        "myweight = 150.0 #weight\n",
        "# Gets the age of the subject\n",
        "myint = 60 #age \n",
        " \n",
        "# Your corrections should all go here below\n",
        "if my_greetings != \"\":\n",
        " print(\"The greetings: is a String: %s\" % my_greetings)\n",
        " \n",
        "if myfirst_name != \"\": #Validate if first is an empty string\n",
        " print(\"My First name: is a String: %s\" % myfirst_name)\n",
        "\n",
        "if mylast_name != \"\":\n",
        " print(\"My Last name: is a String: %s\" % mylast_name)\n",
        " \n",
        "if isinstance(myfloat, float) and myfloat !=_:\n",
        " print(\"My height: is a Float: %f\" % myfloat, \"ft/in\")\n",
        "\n",
        "if isinstance(myweight, float) and myweight !=_:\n",
        " print(\"My Weight: is a Float: %f\" % myweight, \"lbs\")\n",
        " \n",
        "if isinstance(myint, int) and myint !=_:\n",
        " print(\"My age: is an Integer: %d\" % myint, \"yrs\")\n"
      ],
      "execution_count": null,
      "outputs": []
    },
    {
      "cell_type": "code",
      "metadata": {
        "id": "_oBeaMUFMJUm"
      },
      "source": [
        "a = '20'\n",
        "a = int(a)\n",
        "print(10+a)"
      ],
      "execution_count": null,
      "outputs": []
    },
    {
      "cell_type": "code",
      "metadata": {
        "id": "XcJuxxs1QFzb"
      },
      "source": [
        "isinstance(print())"
      ],
      "execution_count": null,
      "outputs": []
    },
    {
      "cell_type": "code",
      "metadata": {
        "id": "gCKDNFj0DZJF"
      },
      "source": [
        "name = input(\"What is your name? \")\n",
        "print(\"Hello,\", name+\"!\")"
      ],
      "execution_count": null,
      "outputs": []
    },
    {
      "cell_type": "code",
      "metadata": {
        "id": "pwRh757XD5ll"
      },
      "source": [
        "name = input(\"What is your name? \")\n",
        "print(\"Hello,\", name+\"!\")"
      ],
      "execution_count": null,
      "outputs": []
    },
    {
      "cell_type": "code",
      "metadata": {
        "id": "1Bj-gwcfH3br"
      },
      "source": [
        "input_string = input(\"Enter a list elements separated by space \")\n",
        "\n",
        "print(\"\\n\")\n",
        "userList = input_string.split()\n",
        "print(\"user list is \", userList)\n",
        "\n",
        "# Calculating the sum of input list elements\n",
        "sum1 = 0\n",
        "for num in userList:\n",
        "    sum1 += int(num)\n",
        "print(\"Sum = \", sum1)"
      ],
      "execution_count": null,
      "outputs": []
    }
  ]
}