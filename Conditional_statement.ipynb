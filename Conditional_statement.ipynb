{
  "nbformat": 4,
  "nbformat_minor": 0,
  "metadata": {
    "colab": {
      "private_outputs": true,
      "provenance": [],
      "authorship_tag": "ABX9TyNtDSR2ZDnL1fNOK51M+D8F",
      "include_colab_link": true
    },
    "kernelspec": {
      "name": "python3",
      "display_name": "Python 3"
    },
    "language_info": {
      "name": "python"
    }
  },
  "cells": [
    {
      "cell_type": "markdown",
      "metadata": {
        "id": "view-in-github",
        "colab_type": "text"
      },
      "source": [
        "<a href=\"https://colab.research.google.com/github/gndede/python/blob/main/Conditional_statement.ipynb\" target=\"_parent\"><img src=\"https://colab.research.google.com/assets/colab-badge.svg\" alt=\"Open In Colab\"/></a>"
      ]
    },
    {
      "cell_type": "code",
      "execution_count": null,
      "metadata": {
        "id": "aMug6og_F4yE"
      },
      "outputs": [],
      "source": [
        "#if statement used a conditional statement in boolean logic.\n",
        "my_name = \"Ben\"\n",
        "my_address = \"315 Cedar creek drive\"\n",
        "my_age = 19\n",
        "if my_age < 18:\n",
        " print (\"You're too young to enter the movie.\")\n",
        "else:\n",
        " print (\"You are good to go.\")\n"
      ]
    },
    {
      "cell_type": "code",
      "source": [
        "my_name = \"Ben\"\n",
        "your_name = \"Ben\"\n",
        "#have_same_name = my_name == your_name\n",
        "if not my_name == your_name:\n",
        " print(\"your name is Kyle\")\n",
        "elif not my_name == your_name:\n",
        " print(\"your name Tom\")\n",
        "else:\n",
        " print(\"No name\")"
      ],
      "metadata": {
        "id": "Sb48pM2AWvPI"
      },
      "execution_count": null,
      "outputs": []
    },
    {
      "cell_type": "markdown",
      "source": [
        "**Booleans in Python 3**\n",
        "Booleans are a concept that exists in every programming language. A boolean represents the idea of \"true\" or \"false\". When you are writing a program, there are often circumstances where you want to execute different code in different situations. Booleans enable our code to do just that.\n",
        "\n",
        "You can declare a boolean value in your code using the keywords True and False (note the uppercase). The following code would create two boolean values and assign them to variables."
      ],
      "metadata": {
        "id": "Y9NgS9BrXgp5"
      }
    },
    {
      "cell_type": "code",
      "source": [
        "my_age = 102\n",
        "\n",
        "if my_age >= 100: #the \"=\" has to be on the right of the \">\"\n",
        "  print(\"One hundred years old! - Congratulations.\" )\n",
        "elif my_age <= 13: #the \"=\" has to be on the right of the \"<\"\n",
        "  print(\"Wow! - You are just a baby.\")\n",
        "else:\n",
        "  print(\"Ahaaaa !!! - very fine age indeed\")"
      ],
      "metadata": {
        "id": "7HQipSt_MVO2"
      },
      "execution_count": null,
      "outputs": []
    },
    {
      "cell_type": "code",
      "source": [
        "your_fav_team = \"Arsenal\"\n",
        "\n",
        "if not your_fav_team == \"Arsenal\":\n",
        "  print(\"Oh - I fall back to Gor Mahia.\")\n",
        "else:\n",
        "  print(\"Go Arsenals!!!!\")"
      ],
      "metadata": {
        "id": "OHs5rhMUOj4Q"
      },
      "execution_count": null,
      "outputs": []
    },
    {
      "cell_type": "code",
      "source": [
        "kids = [\"Chris\",\"Calvin\",\"Clara\"] #list declaration\n",
        "if \"Michael\" in kids and \"Chris\" in kids: #false\n",
        "  print(\"My condition is NOT met\")\n",
        "elif \"Michael\" in kids or \"Chris\" in kids: #true\n",
        "  print(\"My condition is met\")\n",
        "else:\n",
        "  print(\"Ahaaa = not what I would have chosen\")"
      ],
      "metadata": {
        "id": "iKGIwtYIP39Q"
      },
      "execution_count": null,
      "outputs": []
    },
    {
      "cell_type": "markdown",
      "source": [
        "**Wrapping up**\n",
        "Booleans are an important tool in any programming language. Using boolean logic, your code can react to data inside your program, and carry out different instructions under different circumstances. Hopefully, you've learned a bit about how to work with booleans in Python 3! Stay tuned for more blog posts in this series to learn more about basic data types like strings, numbers, booleans, lists, and dictionaries."
      ],
      "metadata": {
        "id": "1jNsXOiHWUf5"
      }
    },
    {
      "cell_type": "code",
      "source": [],
      "metadata": {
        "id": "YSasBIhVVazz"
      },
      "execution_count": null,
      "outputs": []
    }
  ]
}