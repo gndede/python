{
  "nbformat": 4,
  "nbformat_minor": 0,
  "metadata": {
    "colab": {
      "name": "Diabetes17.ipynb",
      "private_outputs": true,
      "provenance": [],
      "collapsed_sections": [],
      "authorship_tag": "ABX9TyOwFKZ51vK2ZNY/O/nnU63w",
      "include_colab_link": true
    },
    "kernelspec": {
      "name": "python3",
      "display_name": "Python 3"
    },
    "language_info": {
      "name": "python"
    }
  },
  "cells": [
    {
      "cell_type": "markdown",
      "metadata": {
        "id": "view-in-github",
        "colab_type": "text"
      },
      "source": [
        "<a href=\"https://colab.research.google.com/github/gndede/python/blob/main/Diabetes17.ipynb\" target=\"_parent\"><img src=\"https://colab.research.google.com/assets/colab-badge.svg\" alt=\"Open In Colab\"/></a>"
      ]
    },
    {
      "cell_type": "code",
      "metadata": {
        "id": "9k5FtZX5jPyG"
      },
      "source": [
        "#Your A1C test result (also known as HbA1c or glycated hemoglobin) can be a good general gauge of your diabetes control, \n",
        "# because it provides an average blood glucose level over the past few months.\n",
        "\n",
        "#Unlike daily blood glucose test results, which are reported as mg/dL, A1C is reported as a percentage. \n",
        "#This can make it difficult to understand the relationship between the two. For example, if you check blood \n",
        "#glucose 100 times in a month, and your average result is 190 mg/dL this would lead to an A1C of approximately 8.2%, \n",
        "#which is above the target of 7% or lower recommended by the American Diabetes Association (ADA) for many adults who are not pregnant. \n",
        "#For some people, a tighter goal of 6.5% may be appropriate, and for others, a less stringent goal such as 8% may be better."
      ],
      "execution_count": null,
      "outputs": []
    },
    {
      "cell_type": "code",
      "metadata": {
        "id": "C53xZWonkgSb"
      },
      "source": [
        "#Here's how it works:\n",
        "\n",
        "#Some blood sugar (or glucose) naturally attaches itself to A1C cells as they move through your bloodstream. When this happens, the cell is considered \"glycated.\"\n",
        "#Once a cell has been glycated, it stays that way. And since each A1C cell has a lifespan of about 4 months, your A1C sample will include cells that are a few days, \n",
        "#a few weeks and a few months old. As a result, the test covers a span of about 2 to 3 months.\n",
        "#The more sugar in your blood, the higher the percentage of glycated A1C cells you'll have—that percentage is your A1C test result.\n"
      ],
      "execution_count": null,
      "outputs": []
    },
    {
      "cell_type": "code",
      "metadata": {
        "id": "kmc1wYIkqjsC"
      },
      "source": [
        "#The Hemoglobin A1c (HbA1c or simply A1c for short) test is a blood test used to measure the average blood glucose concentration in your body in the past 1-3 months. \n",
        "#For diabetics, this is the standard way of determining how well the diabetes is controlled. An A1c of less than 7% is considered good."
      ],
      "execution_count": null,
      "outputs": []
    },
    {
      "cell_type": "code",
      "metadata": {
        "id": "z5Uv4w2ipG8O"
      },
      "source": [
        "#If your A1c level is equal to or higher than 6.5%, you may be diagnosed as diabetic. If this is your result, book an appointment with your doctor immediately!\n",
        "\n",
        "#Prediabetes group (5.7-6.4%) - Thats a red flag. You're at a high risk of diabetes, but there is still hope. \n",
        "\n",
        "#Glucose in mmol/L:\n",
        "A1c = (2.59 + average_blood_glucose) / 1.59\n",
        "\n",
        "#Glucose in mg/dL:\n",
        "A1c = (46.7 + average_blood_glucose) / 28.7"
      ],
      "execution_count": null,
      "outputs": []
    },
    {
      "cell_type": "code",
      "metadata": {
        "id": "Uam1bLZO5rEi"
      },
      "source": [
        "A1c = (46.7 + 110)/28.7\n",
        "print(A1c)\n",
        "\n",
        "A1c = (2.57 + 110)/1.59\n",
        "print(A1c)"
      ],
      "execution_count": null,
      "outputs": []
    },
    {
      "cell_type": "code",
      "metadata": {
        "id": "N0Xenbqvu6x5"
      },
      "source": [
        "A1c(%)       eAG (Everyday Average Glucose - MG/DL)\n",
        "5            97  is an average of about   (76  - 120)\n",
        "6            126 is an average between    (100 - 152)\n",
        "7            154 is an average between    (123 - 185)\n",
        "8            183 is an average between    (147 - 217)\n",
        "9            212 is an average between    (170 - 249)\n",
        "10           240 is an average between    (193 - 282)\n",
        "11           269 is an average between    (217 - 314)\n",
        "12           298 is an average between    (240 - 347)\n",
        "\n",
        "eAG = 28.7 * A1c - 45.7 ~ 29 pts per 1%"
      ],
      "execution_count": null,
      "outputs": []
    },
    {
      "cell_type": "code",
      "metadata": {
        "id": "VmRaATjMyewV"
      },
      "source": [
        "DIASTOLIC              SYSTOLIC                       BLOOD PRESSURE LEVEL\n",
        "========================================================================== \n",
        "Diastolic 40 - 45      Systolic 70 - 79 ==============> LOW\n",
        "Diastolic 50 - 59      Systolic 80 - 89 ==============> LOW\n",
        "Diastolic 60 - 69      Systolic 90 - 99 ==============> LOW\n",
        "\n",
        "Diastolic 70 - 79      Systolic 100 - 109 ============> IDEAL\n",
        "Diastolic 80 - 89      Systolic 110 - 119 ============> IDEAL\n",
        "\n",
        "Diastolic 90 - 99      Systolic 120 - 129 ============> PRE-HIGH\n",
        "Diastolic 100 - 109    Systolic 130 - 139 ============> PRE-HIGH\n",
        "Diastolic 110 - 119    Systolic 140 - 149 ============> PRE-HIGH\n",
        "\n",
        "Diastolic 120 - 129    Systolic 150 - 159 ============> HIGH\n",
        "Diastolic 130 - 139    Systolic 160 - 169 ============> HIGH\n",
        "Diastolic 140 - 149    Systolic 170 - 179 ============> HIGH\n",
        "Diastolic 150 - 159    Systolic 180 - 189 ============> HIGH\n",
        "Diastolic 160 - 169    Systolic 190 - 000 ============> HIGH"
      ],
      "execution_count": null,
      "outputs": []
    }
  ]
}