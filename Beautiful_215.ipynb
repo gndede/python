{
  "nbformat": 4,
  "nbformat_minor": 0,
  "metadata": {
    "colab": {
      "name": "Beautiful-215.ipynb",
      "private_outputs": true,
      "provenance": [],
      "collapsed_sections": [],
      "include_colab_link": true
    },
    "kernelspec": {
      "name": "python3",
      "display_name": "Python 3"
    },
    "language_info": {
      "name": "python"
    }
  },
  "cells": [
    {
      "cell_type": "markdown",
      "metadata": {
        "id": "view-in-github",
        "colab_type": "text"
      },
      "source": [
        "<a href=\"https://colab.research.google.com/github/gndede/python/blob/main/Beautiful_215.ipynb\" target=\"_parent\"><img src=\"https://colab.research.google.com/assets/colab-badge.svg\" alt=\"Open In Colab\"/></a>"
      ]
    },
    {
      "cell_type": "code",
      "metadata": {
        "id": "HoP29Lvk4bQC"
      },
      "source": [
        "import bs4 as bs\n",
        "import urllib.request\n",
        "from bs4 import BeautifulSoup\n",
        "\n",
        "source = urllib.request.urlopen('https://pythonprogramming.net/parsememcparseface/').read()\n",
        "#source = urllib.request.urlopen('https://www.cnn.com/').read()"
      ],
      "execution_count": null,
      "outputs": []
    },
    {
      "cell_type": "code",
      "metadata": {
        "id": "Dq9xYw9A4nKG"
      },
      "source": [
        "#source.\n",
        "#soup = BeautifulSoup(source, 'html.parser')\n",
        "#The lxml XML toolkit is a Pythonic binding for the C libraries libxml2 and libxslt. \n",
        "#It is unique in that it combines the speed and XML feature completeness\n",
        "soup = bs.BeautifulSoup(source,'lxml') \n",
        "#print(soup.prettify())"
      ],
      "execution_count": null,
      "outputs": []
    },
    {
      "cell_type": "code",
      "metadata": {
        "id": "40O-SoDL5pWA"
      },
      "source": [
        "#soup.find_all('a')"
      ],
      "execution_count": null,
      "outputs": []
    },
    {
      "cell_type": "code",
      "metadata": {
        "id": "LiSXRTMm5zIy"
      },
      "source": [
        "#soup.find_all('CNN')"
      ],
      "execution_count": null,
      "outputs": []
    },
    {
      "cell_type": "code",
      "metadata": {
        "id": "-OGnj8Ck6bN5"
      },
      "source": [
        "#title of the page\n",
        "print(soup.title)"
      ],
      "execution_count": null,
      "outputs": []
    },
    {
      "cell_type": "code",
      "metadata": {
        "id": "sqWgOjvY7nnG"
      },
      "source": [
        "#get attributes\n",
        "print(soup.title.name)"
      ],
      "execution_count": null,
      "outputs": []
    },
    {
      "cell_type": "code",
      "metadata": {
        "id": "H8U5CRNQ7xbM"
      },
      "source": [
        "# get values:\n",
        "print(soup.title.string)"
      ],
      "execution_count": null,
      "outputs": []
    },
    {
      "cell_type": "code",
      "metadata": {
        "id": "hiZfAlAX79iZ"
      },
      "source": [
        "# beginning navigation:\n",
        "print(soup.title.parent.name)\n"
      ],
      "execution_count": null,
      "outputs": []
    },
    {
      "cell_type": "code",
      "metadata": {
        "id": "jX2YC_JH8HJm"
      },
      "source": [
        "# getting specific values:\n",
        "print(soup.p)"
      ],
      "execution_count": null,
      "outputs": []
    },
    {
      "cell_type": "code",
      "metadata": {
        "id": "zxcvMrB38NgL"
      },
      "source": [
        "print(soup.p.prettify())"
      ],
      "execution_count": null,
      "outputs": []
    },
    {
      "cell_type": "code",
      "metadata": {
        "id": "vvUEqqp_9Nkj"
      },
      "source": [
        "for paragraph in soup.find_all('p'):\n",
        "    print(paragraph.string)\n",
        "    print(str(paragraph.text))"
      ],
      "execution_count": null,
      "outputs": []
    },
    {
      "cell_type": "code",
      "metadata": {
        "id": "WaRiHzvQ9dcb"
      },
      "source": [
        "for url in soup.find_all('a'):\n",
        "    print(url.get('href'))"
      ],
      "execution_count": null,
      "outputs": []
    }
  ]
}