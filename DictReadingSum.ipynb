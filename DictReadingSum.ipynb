{
  "nbformat": 4,
  "nbformat_minor": 0,
  "metadata": {
    "colab": {
      "name": "DictReadingSum.ipynb",
      "private_outputs": true,
      "provenance": [],
      "authorship_tag": "ABX9TyOemWohriETyPZBGoSjWbi9",
      "include_colab_link": true
    },
    "kernelspec": {
      "name": "python3",
      "display_name": "Python 3"
    },
    "language_info": {
      "name": "python"
    }
  },
  "cells": [
    {
      "cell_type": "markdown",
      "metadata": {
        "id": "view-in-github",
        "colab_type": "text"
      },
      "source": [
        "<a href=\"https://colab.research.google.com/github/gndede/python/blob/main/DictReadingSum.ipynb\" target=\"_parent\"><img src=\"https://colab.research.google.com/assets/colab-badge.svg\" alt=\"Open In Colab\"/></a>"
      ]
    },
    {
      "cell_type": "code",
      "metadata": {
        "id": "fD9tVxmvOBRL"
      },
      "source": [
        "#reading the diastolic pressure readings\n",
        "#reading the systolic pressure readings\n",
        "\n",
        "# declare a counter to help with computing of average\n",
        "\n",
        "blood_pressure_diastolic = [93, 75, 98, 90, 102, 103, 98]\n",
        " \n",
        "blood_pressure_systolic = [133, 145, 158, 100, 102, 103, 98]\n",
        "\n",
        "print('Diatolic Blood Pressure: ', sum(blood_pressure_diastolic))\n",
        "\n",
        "print('Systolic Blood Pressure: ', sum(blood_pressure_systolic))\n",
        "\n",
        "print()\n",
        "  \n",
        "diastolic_average = sum(blood_pressure_diastolic)/ 7\n",
        "  \n",
        "systolic_average = sum(blood_pressure_systolic)/7\n",
        "\n",
        "print()\n",
        "\n",
        "print('Diatolic Blood Pressure: ', round(sum(blood_pressure_diastolic)/7,2))\n",
        "\n",
        "print('Systolic Blood Pressure: ', round(sum(blood_pressure_systolic)/7,2))"
      ],
      "execution_count": null,
      "outputs": []
    },
    {
      "cell_type": "code",
      "metadata": {
        "id": "JL6T9DSUR9zK"
      },
      "source": [
        "#Return values of a dictionary  \n",
        "a_dict = {\"FirstReading\":143, \"SecondReading\":123, \"ThirdReading\": 103}\n",
        "values = a_dict.values()\n",
        "\n",
        "\n",
        "#Compute sum of the values\n",
        "total = sum(values)\n",
        "\n",
        "#print out the total\n",
        "print(\"Total Value Readings: \", total)"
      ],
      "execution_count": null,
      "outputs": []
    },
    {
      "cell_type": "code",
      "metadata": {
        "id": "-q7CrKKhTv3B"
      },
      "source": [
        "#Python program to combine two dictionary adding values for common keys\n",
        "\n",
        "d1 = {'a': 100, 'b': 200, 'c':300}\n",
        "\n",
        "d2 = {'a': 300, 'b': 200, 'd':400}\n",
        "\n",
        "#The the expected result\n",
        "#d3= {'b': 400, 'd': 400, 'a': 400, 'c': 300}"
      ],
      "execution_count": null,
      "outputs": []
    },
    {
      "cell_type": "code",
      "metadata": {
        "id": "z7ebXvxnUJr4"
      },
      "source": [
        "d1 = {'a': 100, 'b': 200, 'c':300}\n",
        "\n",
        "d2 = {'a': 300, 'b': 200, 'd':400}\n",
        "\n",
        "d3 = {}\n",
        "\n",
        "for i, j in d1.items():\n",
        "\n",
        "    for x, y in d2.items():\n",
        "\n",
        "        if i == x:\n",
        "\n",
        "            d3[i]=(j+y)\n",
        "\n",
        "print(d3)\n",
        "\n",
        "#My results = {'a': 400, 'b': 400}"
      ],
      "execution_count": null,
      "outputs": []
    },
    {
      "cell_type": "code",
      "metadata": {
        "id": "JdlU_G5JUSxU"
      },
      "source": [
        "#Combine two readings into a dictionary\n",
        "d1 = {'a': 100, 'b': 200, 'c':300} # Diastolic readings\n",
        "\n",
        "d2 = {'a': 300, 'b': 200, 'd':400} # Systolic readings\n",
        "\n",
        "d3 = dict(d1) # don't do `d3=d1`, you need to make a copy\n",
        "\n",
        "d3.update(d2) \n",
        "\n",
        "for i, j in d1.items():\n",
        "\n",
        "    for x, y in d2.items():\n",
        "\n",
        "        if i == x:\n",
        "\n",
        "            d3[i]=(j+y)\n",
        "\n",
        "print(d3)"
      ],
      "execution_count": null,
      "outputs": []
    }
  ]
}