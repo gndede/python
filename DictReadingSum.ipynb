{
  "nbformat": 4,
  "nbformat_minor": 0,
  "metadata": {
    "colab": {
      "name": "DictReadingSum.ipynb",
      "private_outputs": true,
      "provenance": [],
      "authorship_tag": "ABX9TyPN/MHBntT1K+Go9L4QH0kn",
      "include_colab_link": true
    },
    "kernelspec": {
      "name": "python3",
      "display_name": "Python 3"
    },
    "language_info": {
      "name": "python"
    }
  },
  "cells": [
    {
      "cell_type": "markdown",
      "metadata": {
        "id": "view-in-github",
        "colab_type": "text"
      },
      "source": [
        "<a href=\"https://colab.research.google.com/github/gndede/python/blob/main/DictReadingSum.ipynb\" target=\"_parent\"><img src=\"https://colab.research.google.com/assets/colab-badge.svg\" alt=\"Open In Colab\"/></a>"
      ]
    },
    {
      "cell_type": "code",
      "metadata": {
        "id": "fD9tVxmvOBRL"
      },
      "source": [
        "#reading the diastolic pressure readings\n",
        "#reading the systolic pressure readings\n",
        "\n",
        "# declare a counter to help with computing of average\n",
        "\n",
        "blood_pressure_diastolic = [93, 75, 98, 90, 102, 103, 98]\n",
        " \n",
        "blood_pressure_systolic = [133, 145, 158, 100, 102, 103, 98]\n",
        "\n",
        "print('Diatolic Blood Pressure: ', sum(blood_pressure_diastolic))\n",
        "\n",
        "print('Systolic Blood Pressure: ', sum(blood_pressure_systolic))\n",
        "\n",
        "print()\n",
        "  \n",
        "diastolic_average = sum(blood_pressure_diastolic)/ 7\n",
        "  \n",
        "systolic_average = sum(blood_pressure_systolic)/7\n",
        "\n",
        "print()\n",
        "\n",
        "print('Diatolic Blood Pressure: ', round(sum(blood_pressure_diastolic)/7,2))\n",
        "\n",
        "print('Systolic Blood Pressure: ', round(sum(blood_pressure_systolic)/7,2))"
      ],
      "execution_count": null,
      "outputs": []
    },
    {
      "cell_type": "code",
      "metadata": {
        "id": "JL6T9DSUR9zK"
      },
      "source": [
        "#Return values of a dictionary  \n",
        "a_dict = {\"FirstReading\":143, \"SecondReading\":123, \"ThirdReading\": 103}\n",
        "values = a_dict.values()\n",
        "\n",
        "\n",
        "#Compute sum of the values\n",
        "total = sum(values)\n",
        "\n",
        "#print out the total\n",
        "print(\"Total Value Readings: \", total)"
      ],
      "execution_count": null,
      "outputs": []
    }
  ]
}