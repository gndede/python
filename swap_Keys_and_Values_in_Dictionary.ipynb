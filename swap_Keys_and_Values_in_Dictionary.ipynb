{
  "nbformat": 4,
  "nbformat_minor": 0,
  "metadata": {
    "colab": {
      "name": "swap_Keys_and_Values_in_Dictionary.ipynb",
      "private_outputs": true,
      "provenance": [],
      "authorship_tag": "ABX9TyPDJSIAfROeok6ebO3DMyXA",
      "include_colab_link": true
    },
    "kernelspec": {
      "name": "python3",
      "display_name": "Python 3"
    },
    "language_info": {
      "name": "python"
    }
  },
  "cells": [
    {
      "cell_type": "markdown",
      "metadata": {
        "id": "view-in-github",
        "colab_type": "text"
      },
      "source": [
        "<a href=\"https://colab.research.google.com/github/gndede/python/blob/main/swap_Keys_and_Values_in_Dictionary.ipynb\" target=\"_parent\"><img src=\"https://colab.research.google.com/assets/colab-badge.svg\" alt=\"Open In Colab\"/></a>"
      ]
    },
    {
      "cell_type": "code",
      "metadata": {
        "id": "cd7ReHn7MiDt"
      },
      "source": [
        "myDictionary = {'color':'blue', 'speed':'fast','number':1, 5:'number'}\n",
        "#print(myDictionary)"
      ],
      "execution_count": null,
      "outputs": []
    },
    {
      "cell_type": "code",
      "metadata": {
        "id": "YPRn8UJHNGOm"
      },
      "source": [
        "#Swap keys for values\n",
        "#swapDictionary = {}\n",
        "new_dictionary = dict([(val, key) for key, val in myDictionary.items()])\n",
        "\n",
        " #swapDictionary[val] = key\n",
        "print (\"Original dictionary is : \")\n",
        "print(myDictionary)\n",
        "\n",
        "print()\n",
        "\n",
        "# Printing new dictionary after swapping keys and values\n",
        "print (\"Dictionary after swapping is :  \") \n",
        "print(\"keys: values\")\n",
        "for i in new_dictionary:\n",
        "    print(i, \" :  \", new_dictionary[i])"
      ],
      "execution_count": null,
      "outputs": []
    },
    {
      "cell_type": "code",
      "metadata": {
        "id": "QNaaB9kaPVu_"
      },
      "source": [
        "# Python3 code to demonstrate  \n",
        "# swap of key and value \n",
        "    \n",
        "# initializing dictionary \n",
        "old_dict = {'A': 67, 'B': 23, 'C': 45, 'D': 56, 'E': 12, 'F': 69, 'G': 67, 'H': 23}\n",
        "  "
      ],
      "execution_count": null,
      "outputs": []
    },
    {
      "cell_type": "code",
      "metadata": {
        "id": "DiVtYEpPOasD"
      },
      "source": [
        "new_dict = dict([(value, key) for key, value in old_dict.items()])\n",
        "    \n",
        "# Printing original dictionary \n",
        "print (\"Original dictionary is : \")\n",
        "print(old_dict) \n",
        "  \n",
        "print()\n",
        "  \n",
        "# Printing new dictionary after swapping keys and values\n",
        "print (\"Dictionary after swapping is :  \") \n",
        "print(\"keys: values\")\n",
        "for i in new_dict:\n",
        "    print(i, \" :  \", new_dict[i])"
      ],
      "execution_count": null,
      "outputs": []
    }
  ]
}