{
  "nbformat": 4,
  "nbformat_minor": 0,
  "metadata": {
    "colab": {
      "name": "11-06-2021-207.ipynb",
      "private_outputs": true,
      "provenance": [],
      "collapsed_sections": [],
      "authorship_tag": "ABX9TyPuYmgP4TMxdyv1sUs1myZJ",
      "include_colab_link": true
    },
    "kernelspec": {
      "name": "python3",
      "display_name": "Python 3"
    },
    "language_info": {
      "name": "python"
    }
  },
  "cells": [
    {
      "cell_type": "markdown",
      "metadata": {
        "id": "view-in-github",
        "colab_type": "text"
      },
      "source": [
        "<a href=\"https://colab.research.google.com/github/gndede/python/blob/main/11_06_2021_207.ipynb\" target=\"_parent\"><img src=\"https://colab.research.google.com/assets/colab-badge.svg\" alt=\"Open In Colab\"/></a>"
      ]
    },
    {
      "cell_type": "code",
      "metadata": {
        "id": "LtgRXbudybMv"
      },
      "source": [
        "#https://www.w3schools.com/python/python_conditions.asp\n",
        "#Less than or equal to: a <= b\n",
        "#Greater than: a > b\n",
        "#Greater than or equal to: a >= b"
      ],
      "execution_count": null,
      "outputs": []
    },
    {
      "cell_type": "code",
      "metadata": {
        "id": "H2DAtPR3ydQS"
      },
      "source": [
        "a = 11"
      ],
      "execution_count": null,
      "outputs": []
    },
    {
      "cell_type": "code",
      "metadata": {
        "id": "xRGqun7BygYf"
      },
      "source": [
        "b = 11"
      ],
      "execution_count": null,
      "outputs": []
    },
    {
      "cell_type": "code",
      "metadata": {
        "id": "zh-dkMdhylxX"
      },
      "source": [
        "a <= b  #  or a =< b"
      ],
      "execution_count": null,
      "outputs": []
    },
    {
      "cell_type": "code",
      "metadata": {
        "id": "LdTt_nfhzKV7"
      },
      "source": [
        "a <= b"
      ],
      "execution_count": null,
      "outputs": []
    },
    {
      "cell_type": "code",
      "metadata": {
        "id": "9auPR2lYzXJQ"
      },
      "source": [
        "a == b"
      ],
      "execution_count": null,
      "outputs": []
    },
    {
      "cell_type": "code",
      "metadata": {
        "id": "gWrrq9Ftzzud"
      },
      "source": [
        "a = 33\n",
        "b = 33\n",
        "if b < a:\n",
        " print(\"b->200 is greater than a->33 - True\") # True\n",
        "else:\n",
        " print(\"a->33 is less than b ->200 False\") # False"
      ],
      "execution_count": null,
      "outputs": []
    },
    {
      "cell_type": "code",
      "metadata": {
        "id": "32OCICU62mSm"
      },
      "source": [
        "a = 33\n",
        "b = 33\n",
        "if b > a:\n",
        "  print(\"b is greater than a\")\n",
        "elif a == b:\n",
        "  print(\"a and b are equal\")"
      ],
      "execution_count": null,
      "outputs": []
    },
    {
      "cell_type": "code",
      "metadata": {
        "id": "ZqeTepEX21th"
      },
      "source": [
        "morris = \"Female\"\n",
        "esther = \"Male\"\n",
        "if morris > esther:\n",
        "  print(\"esther is greater than morris\")\n",
        "elif morris == esther:\n",
        "   print(\"morris is greater than esther\")"
      ],
      "execution_count": null,
      "outputs": []
    },
    {
      "cell_type": "code",
      "metadata": {
        "id": "g4Rmd4uc4Jqa"
      },
      "source": [
        "a = 200\n",
        "b = 33\n",
        "if b > a:\n",
        "  print(\"b is greater than a\")\n",
        "elif a == b:\n",
        "  print(\"a and b are equal\")\n",
        "else:\n",
        "  print(\"a is greater than b\")"
      ],
      "execution_count": null,
      "outputs": []
    },
    {
      "cell_type": "code",
      "metadata": {
        "id": "7CruYVhz4_X2"
      },
      "source": [
        "a = 200\n",
        "b = 33\n",
        "if b > a:\n",
        "  print(\"b is greater than a\")\n",
        "else:\n",
        "  print(\"b is not greater than a\")"
      ],
      "execution_count": null,
      "outputs": []
    },
    {
      "cell_type": "code",
      "metadata": {
        "id": "Tf-KZ4HH5SnK"
      },
      "source": [
        "if a > b: print(\"a is greater than b\")"
      ],
      "execution_count": null,
      "outputs": []
    },
    {
      "cell_type": "code",
      "metadata": {
        "id": "_eFAhzye5jWN"
      },
      "source": [
        "a = 2\n",
        "b = 330\n",
        "print(\"A\") if a > b else print(\"B\")"
      ],
      "execution_count": null,
      "outputs": []
    },
    {
      "cell_type": "code",
      "metadata": {
        "id": "1qLYquyY574j"
      },
      "source": [
        "a = 330\n",
        "b = 330\n",
        "print(\"A\") if a > b else print(\"=\") if a == b else print(\"B\")"
      ],
      "execution_count": null,
      "outputs": []
    },
    {
      "cell_type": "code",
      "metadata": {
        "id": "h72FgV8P6n8y"
      },
      "source": [
        "a = 200\n",
        "b = 33\n",
        "c = 500\n",
        "if a > b and c > a:\n",
        "  print(\"Both conditions are True\")"
      ],
      "execution_count": null,
      "outputs": []
    },
    {
      "cell_type": "code",
      "metadata": {
        "id": "PCSSQJA_7A5N"
      },
      "source": [
        "a = 200\n",
        "b = 33\n",
        "c = 500\n",
        "if a > b or a > c:\n",
        "  print(\"At least one of the conditions is True\")"
      ],
      "execution_count": null,
      "outputs": []
    },
    {
      "cell_type": "code",
      "metadata": {
        "id": "-dIlKhh27gU2"
      },
      "source": [
        "x = 41\n",
        "\n",
        "if x > 10:\n",
        "  print(\"Above ten,\")\n",
        "  if x > 20:\n",
        "    print(\"and also above 20!\")\n",
        "  else:\n",
        "    print(\"but not above 20.\")"
      ],
      "execution_count": null,
      "outputs": []
    },
    {
      "cell_type": "code",
      "metadata": {
        "id": "Egfx4saX7wJa"
      },
      "source": [
        "#At least 18yrs, credit 650, Income=50k\n",
        "age = 18\n",
        "credit_score = 450\n",
        "annual_income = 200\n",
        "#Housing to qualify for = 155K, mortgage=30yrs, Interest 4%, 900/month\n",
        "Design a program to determine the pre-qualifications of potential buyer."
      ],
      "execution_count": null,
      "outputs": []
    },
    {
      "cell_type": "code",
      "metadata": {
        "id": "zO_2dpE1-q2G"
      },
      "source": [
        "#........ and shoot for the Sky in you getting a big promotion & opportunity\n",
        "#Enter Full Names\n",
        "print(\"Enter First and Last Name: \")\n",
        "fname = input(\"Enter first name: \") #First Name\n",
        "lname = input(\"Enter last name: \") #last Name\n",
        "fullnames = fname + \" \" + lname\n",
        " \n",
        "#Enter phone, email\n",
        "print(\"Enter Customer's Phone Number: \")\n",
        "phone = input(\"Enter phone number: \")\n",
        "print('Enter Customer\\'s email address: ')\n",
        "email = input(\"Enter email address: \")\n",
        "\n",
        "#price of a used car\n",
        "price = 10000\n",
        "has_good_credit = False\n",
        " \n",
        "if has_good_credit:\n",
        "\tdown_payment = 0.1 * price\n",
        "else:\n",
        "\tdown_payment = 0.2 * price\n",
        "\n",
        "print(f\"Down Payment: {down_payment}\")\n",
        "print('')\n",
        "print(\"Full Names:\", fullnames)\n",
        "print(\"Phone: \" +phone)\n",
        "print(\"Email: \" + email)\n",
        "print(\"Down Payment:\", down_payment)\n"
      ],
      "execution_count": null,
      "outputs": []
    },
    {
      "cell_type": "code",
      "metadata": {
        "id": "K_JjnlXEEYdV"
      },
      "source": [
        "name = input(\"Give me your name: \")\n",
        "print(\"Your name is: \", name)"
      ],
      "execution_count": null,
      "outputs": []
    },
    {
      "cell_type": "code",
      "metadata": {
        "id": "1vu6FURMFOd9"
      },
      "source": [
        "age = input(\"Enter your age:  \")\n",
        "age = int(age)"
      ],
      "execution_count": null,
      "outputs": []
    }
  ]
}