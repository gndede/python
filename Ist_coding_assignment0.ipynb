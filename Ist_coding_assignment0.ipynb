{
  "nbformat": 4,
  "nbformat_minor": 0,
  "metadata": {
    "colab": {
      "provenance": [],
      "include_colab_link": true
    },
    "kernelspec": {
      "name": "python3",
      "display_name": "Python 3"
    },
    "language_info": {
      "name": "python"
    }
  },
  "cells": [
    {
      "cell_type": "markdown",
      "metadata": {
        "id": "view-in-github",
        "colab_type": "text"
      },
      "source": [
        "<a href=\"https://colab.research.google.com/github/gndede/python/blob/main/Ist_coding_assignment0.ipynb\" target=\"_parent\"><img src=\"https://colab.research.google.com/assets/colab-badge.svg\" alt=\"Open In Colab\"/></a>"
      ]
    },
    {
      "cell_type": "code",
      "execution_count": null,
      "metadata": {
        "id": "OroXcEgidLBn"
      },
      "outputs": [],
      "source": [
        "#1. Enter the name, phone, address, email address, electric billing\n",
        "#2. enter the total number of kilowatts used e.g 700kw per week, enter the tax 8%\n",
        "#3. Calculate the billing for the house in a month\n",
        "#4. Print: Name, address, email,\n",
        "#5. Details of the electric consumption"
      ]
    },
    {
      "cell_type": "code",
      "source": [
        "#1. Enter the name, phone, address, email address, Gas billing\n",
        "#2. enter the total number of kilograms used e.g 60kw per day, enter the tax 6.5%\n",
        "#3. Calculate the Gas billing for this house in a month\n",
        "#4. Print: Name, address, email,\n",
        "#5. Details of the Gas consumption per week, per bi-weekly, per month"
      ],
      "metadata": {
        "id": "s0GgfxEPuIm9"
      },
      "execution_count": null,
      "outputs": []
    },
    {
      "cell_type": "code",
      "source": [
        "print(\"Enter customer Name \")\n",
        "name = str(input())\n",
        "print()"
      ],
      "metadata": {
        "colab": {
          "base_uri": "https://localhost:8080/"
        },
        "id": "o0CrbMvVdTuk",
        "outputId": "ff31a745-2d65-4041-de1a-a1f4f4dde971"
      },
      "execution_count": null,
      "outputs": [
        {
          "metadata": {
            "tags": null
          },
          "name": "stdout",
          "output_type": "stream",
          "text": [
            "Enter customer Name \n"
          ]
        }
      ]
    },
    {
      "cell_type": "code",
      "source": [
        "print(\"Customer phone\")\n",
        "phone = str(input())\n",
        "print()"
      ],
      "metadata": {
        "id": "_158cXgcdy7Y"
      },
      "execution_count": null,
      "outputs": []
    },
    {
      "cell_type": "code",
      "source": [
        "print(\"Customer Address: \")\n",
        "address = str(input())\n",
        "print()"
      ],
      "metadata": {
        "id": "mOHlSh7ueYvT"
      },
      "execution_count": null,
      "outputs": []
    },
    {
      "cell_type": "code",
      "source": [
        "print(\"Customer city, State\")\n",
        "city = str(input())\n",
        "print()"
      ],
      "metadata": {
        "id": "EsVSksFkfH9M"
      },
      "execution_count": null,
      "outputs": []
    },
    {
      "cell_type": "code",
      "source": [
        "print(\"Customer Zipcode\")\n",
        "Zipcode = str(input())\n",
        "print()"
      ],
      "metadata": {
        "id": "oNhcBlRpgfSN"
      },
      "execution_count": null,
      "outputs": []
    },
    {
      "cell_type": "code",
      "source": [
        "print(\"Customer Email\")\n",
        "email = str(input())\n",
        "print()"
      ],
      "metadata": {
        "colab": {
          "base_uri": "https://localhost:8080/"
        },
        "id": "sU_wt6NchDy6",
        "outputId": "cbaf3c0c-cc42-465c-8fc4-a75260c5ecdd"
      },
      "execution_count": 22,
      "outputs": [
        {
          "output_type": "stream",
          "name": "stdout",
          "text": [
            "Customer Email:\n",
            "Onguttahs@gmail.com\n",
            "\n"
          ]
        }
      ]
    },
    {
      "cell_type": "code",
      "source": [
        "print(\"Customer Billing Company Name\")\n",
        "billing_company_name = str(input())\n",
        "print()"
      ],
      "metadata": {
        "id": "NHqrXU7rhZ0c"
      },
      "execution_count": null,
      "outputs": []
    },
    {
      "cell_type": "code",
      "source": [
        "print(\"Names: \",name)\n",
        "print(\"Phone: \",phone)\n",
        "print(\"Address: \",address)"
      ],
      "metadata": {
        "colab": {
          "base_uri": "https://localhost:8080/"
        },
        "id": "WhsV5K1liWD8",
        "outputId": "78ce3d99-1ca6-46e6-fb9c-54530b3f0a86"
      },
      "execution_count": null,
      "outputs": [
        {
          "output_type": "stream",
          "name": "stdout",
          "text": [
            "Names:  Ben Onguttah\n",
            "Phone:  4692309791\n",
            "Address:  315 cedar creek Drive\n"
          ]
        }
      ]
    },
    {
      "cell_type": "code",
      "source": [
        "print(\"City: \",city)\n",
        "print(\"Zipcode: \",Zipcode)\n",
        "print(\"Email: \",email)"
      ],
      "metadata": {
        "colab": {
          "base_uri": "https://localhost:8080/"
        },
        "id": "-BAn553RjhN1",
        "outputId": "3ff15404-8cc9-499b-c06b-6a8e033531d1"
      },
      "execution_count": null,
      "outputs": [
        {
          "output_type": "stream",
          "name": "stdout",
          "text": [
            "City:  Princeton, Texas\n",
            "Zipcode:  75407\n",
            "Email:  onguttahs@gmail.com\n"
          ]
        }
      ]
    },
    {
      "cell_type": "code",
      "source": [
        "print(\"Number of Kilowatts\")\n",
        "Kilowatts = int(input())\n",
        "print()"
      ],
      "metadata": {
        "colab": {
          "base_uri": "https://localhost:8080/"
        },
        "id": "85cNrt8bk7P_",
        "outputId": "36eec260-b84d-4d3c-e51f-791d1d6fdd34"
      },
      "execution_count": null,
      "outputs": [
        {
          "output_type": "stream",
          "name": "stdout",
          "text": [
            "Number of Kilowatts\n",
            "700\n",
            "\n"
          ]
        }
      ]
    },
    {
      "cell_type": "code",
      "source": [
        "print(\"Names: \",name)\n",
        "print(\"Phone: \",phone)\n",
        "print(\"Address: \",address)\n",
        "print()\n",
        "print(\"City: \",city)\n",
        "print(\"Zipcode: \",Zipcode)\n",
        "print(\"Email: \",email)\n",
        "print()\n",
        "print(\"Calculate the Billing\")\n",
        "print(\"---------------------\")\n",
        "total = Kilowatts*0.08*4\n",
        "print(\"Total Electricity Consumed\",total)"
      ],
      "metadata": {
        "colab": {
          "base_uri": "https://localhost:8080/"
        },
        "id": "pSCdy1-KlsAK",
        "outputId": "24fa4f6a-f72b-49c0-b2ba-a92a4889752a"
      },
      "execution_count": null,
      "outputs": [
        {
          "output_type": "stream",
          "name": "stdout",
          "text": [
            "Names:  Ben Onguttah\n",
            "Phone:  469-230-9791\n",
            "Address:  315 cedar creek Drive\n",
            "\n",
            "City:  Princeton, Texas\n",
            "Zipcode:  75407\n",
            "Email:  onguttahs@gmail.com\n",
            "\n",
            "Calculate the Billing\n",
            "---------------------\n",
            "Total Electricity Consumed 224.0\n"
          ]
        }
      ]
    }
  ]
}