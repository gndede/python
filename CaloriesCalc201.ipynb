{
  "nbformat": 4,
  "nbformat_minor": 0,
  "metadata": {
    "colab": {
      "name": "CaloriesCalc201.ipynb",
      "private_outputs": true,
      "provenance": [],
      "authorship_tag": "ABX9TyNaWa2p78wCQxZU6Ju7wUUq",
      "include_colab_link": true
    },
    "kernelspec": {
      "name": "python3",
      "display_name": "Python 3"
    },
    "language_info": {
      "name": "python"
    }
  },
  "cells": [
    {
      "cell_type": "markdown",
      "metadata": {
        "id": "view-in-github",
        "colab_type": "text"
      },
      "source": [
        "<a href=\"https://colab.research.google.com/github/gndede/python/blob/main/CaloriesCalc201.ipynb\" target=\"_parent\"><img src=\"https://colab.research.google.com/assets/colab-badge.svg\" alt=\"Open In Colab\"/></a>"
      ]
    },
    {
      "cell_type": "code",
      "metadata": {
        "id": "8H0cPi6wi-sd"
      },
      "source": [
        ""
      ],
      "execution_count": null,
      "outputs": []
    },
    {
      "cell_type": "code",
      "metadata": {
        "id": "QTuuHKkTX9Pu"
      },
      "source": [
        "#2:Enter the customer details\n",
        "first_name = str(input(\"Enter first Name: \"))\n",
        "last_name = str(input(\"Enter last Name: \"))\n",
        "\n",
        "#How do you calculate daily calorie intake?\n",
        "#(if you live in the US, just divide your weight in pounds by 2.2 to get your weight in kilograms)\n",
        "#Multiply your weight in kilograms by 0.9 if you are a woman or 1.0 if you are a man. \n",
        "enter_weight = float(input(\"Enter customer's weight in Kg: \"))\n",
        "enter_time_taken = float(input(\"Enter time taken for the exercise in hrs: \"))\n",
        "enter_MET = float(input(\"Enter the MET for the specific activity - MET (5.8): \"))\n",
        "\n",
        "\n",
        "#Calories calculation, all we have to do is to multiply the weight (kg), \n",
        "#the metabolic equivalent of a task (MET) and the time of the activity (hr). \n",
        "#Remember that 1 MET = 1 kcal/kg/hr.\n",
        "compute_calories_spent = (enter_weight * enter_time_taken*enter_MET )\n",
        "#print(\"Calories burned\", compute_calories_spent)\n",
        "#round the number into 2 decimal places\n",
        "print(\"Calories burned\", round(compute_calories_spent,2))"
      ],
      "execution_count": null,
      "outputs": []
    },
    {
      "cell_type": "code",
      "metadata": {
        "id": "yPaZN8Q6ZUoL"
      },
      "source": [
        ""
      ],
      "execution_count": null,
      "outputs": []
    }
  ]
}