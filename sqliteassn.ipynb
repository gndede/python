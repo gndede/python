{
  "nbformat": 4,
  "nbformat_minor": 0,
  "metadata": {
    "colab": {
      "name": "sqliteassn.ipynb",
      "provenance": [],
      "collapsed_sections": [],
      "toc_visible": true,
      "include_colab_link": true
    },
    "kernelspec": {
      "name": "python3",
      "display_name": "Python 3"
    },
    "language_info": {
      "name": "python"
    }
  },
  "cells": [
    {
      "cell_type": "markdown",
      "metadata": {
        "id": "view-in-github",
        "colab_type": "text"
      },
      "source": [
        "<a href=\"https://colab.research.google.com/github/gndede/python/blob/main/sqliteassn.ipynb\" target=\"_parent\"><img src=\"https://colab.research.google.com/assets/colab-badge.svg\" alt=\"Open In Colab\"/></a>"
      ]
    },
    {
      "cell_type": "code",
      "metadata": {
        "id": "KfFja4VomDN6"
      },
      "source": [
        "import sqlite3\n",
        "# create connection and  cursor\n",
        "\n",
        "conn = sqlite3.connect(\"Machine_Learning1.db\")\n",
        "c = conn.cursor()"
      ],
      "execution_count": null,
      "outputs": []
    },
    {
      "cell_type": "code",
      "metadata": {
        "colab": {
          "base_uri": "https://localhost:8080/"
        },
        "id": "-zxMwNH-mOgJ",
        "outputId": "eca4da66-6ec7-4efc-ae7a-8be50a4326fc"
      },
      "source": [
        "#create a  students table\n",
        "c.execute(\"\"\"CREATE TABLE IF NOT EXISTS students \n",
        " (id integer, fname text, lname text, country text, city text,continent text, course text)\n",
        "    \"\"\")"
      ],
      "execution_count": null,
      "outputs": [
        {
          "output_type": "execute_result",
          "data": {
            "text/plain": [
              "<sqlite3.Cursor at 0x7faeca6ee1f0>"
            ]
          },
          "metadata": {
            "tags": []
          },
          "execution_count": 56
        }
      ]
    },
    {
      "cell_type": "code",
      "metadata": {
        "colab": {
          "base_uri": "https://localhost:8080/"
        },
        "id": "moAYYHKJmi5W",
        "outputId": "17e1bd85-29e4-4732-831d-9fe13b6aaa32"
      },
      "source": [
        "#create a courses table\n",
        "c.execute (\"CREATE TABLE IF NOT EXISTS   courses (id integer,coursename text)\")"
      ],
      "execution_count": null,
      "outputs": [
        {
          "output_type": "execute_result",
          "data": {
            "text/plain": [
              "<sqlite3.Cursor at 0x7faeca6ee1f0>"
            ]
          },
          "metadata": {
            "tags": []
          },
          "execution_count": 57
        }
      ]
    },
    {
      "cell_type": "code",
      "metadata": {
        "colab": {
          "base_uri": "https://localhost:8080/"
        },
        "id": "v68QbPJYm7x7",
        "outputId": "37a66e4c-a699-413b-84fd-0fbbb0cb8464"
      },
      "source": [
        "#table values\n",
        "student_list1= [   (1, 'Nicholas', 'Okello', 'Kenya', 'Nairobi', 'Africa', 'Advanced Python'),\n",
        "                    (2, 'Tim', 'Kabugi', 'Kenya', 'Nairobi', 'Africa', 'Advanced Python'),\n",
        "                    (3, 'John', 'Weru', 'Kenya', 'Nairobi', 'Africa', 'Advanced Python'),\n",
        "                    (4, 'Darik', 'Olal', 'Kenya', 'Nairobi', 'Africa', 'Advanced Python'),\n",
        "                    (5, 'Esther', 'Wambui', 'Kenya', 'Nairobi', 'Africa', 'Machine Learning'),\n",
        "                    (6, 'George', 'Ndede', 'USA', 'Dallas', 'N. America', 'Artificial Intelligence')\n",
        "                   ]\n",
        "c.executemany('INSERT INTO students VALUES(?,?,?,?,?,?,?)',student_list1)     "
      ],
      "execution_count": null,
      "outputs": [
        {
          "output_type": "execute_result",
          "data": {
            "text/plain": [
              "<sqlite3.Cursor at 0x7faeca6ee1f0>"
            ]
          },
          "metadata": {
            "tags": []
          },
          "execution_count": 58
        }
      ]
    },
    {
      "cell_type": "code",
      "metadata": {
        "colab": {
          "base_uri": "https://localhost:8080/"
        },
        "id": "roSnLRtvnLkh",
        "outputId": "c9380229-0755-497a-a09d-0ffd2df7371d"
      },
      "source": [
        "courses_list =[(1, 'Advanced Python'),\n",
        "    (2, 'Machine Learning'),      \n",
        "    (3, 'Introduction Data Science'),\n",
        "    (4, 'Artificial Intelligence'),\n",
        "    (5, 'Introduction Python'),\n",
        "    (6, 'Database Management'),\n",
        "    (7, 'Intro to Linux Administration'),\n",
        "    (8, 'Intro to AWS Foundations'),\n",
        "    (9, 'Python System Administration')]\n",
        "c.executemany('INSERT INTO courses VALUES(?,?);',courses_list)"
      ],
      "execution_count": null,
      "outputs": [
        {
          "output_type": "execute_result",
          "data": {
            "text/plain": [
              "<sqlite3.Cursor at 0x7faeca6ee1f0>"
            ]
          },
          "metadata": {
            "tags": []
          },
          "execution_count": 59
        }
      ]
    },
    {
      "cell_type": "code",
      "metadata": {
        "id": "cC5yLFSqnLn7"
      },
      "source": [
        "#commit the changes to db\t\t\t\n",
        "conn.commit()"
      ],
      "execution_count": null,
      "outputs": []
    },
    {
      "cell_type": "code",
      "metadata": {
        "colab": {
          "base_uri": "https://localhost:8080/"
        },
        "id": "2HBC1gK9nzy5",
        "outputId": "1706c0e8-3927-425d-d044-98d55e1ee297"
      },
      "source": [
        "#query the database\n",
        "c.execute(\"SELECT DISTINCT * FROM students \")\n",
        "items = c.fetchall()\n",
        "for x in items:\n",
        "    print(x)"
      ],
      "execution_count": null,
      "outputs": [
        {
          "output_type": "stream",
          "text": [
            "(1, 'Nicholas', 'Okello', 'Kenya', 'Nairobi', 'Africa', 'Advanced Python')\n",
            "(2, 'Tim', 'Kabugi', 'Kenya', 'Nairobi', 'Africa', 'Advanced Python')\n",
            "(3, 'John', 'Weru', 'Kenya', 'Nairobi', 'Africa', 'Advanced Python')\n",
            "(4, 'Darik', 'Olal', 'Kenya', 'Nairobi', 'Africa', 'Advanced Python')\n",
            "(5, 'Esther', 'Wambui', 'Kenya', 'Nairobi', 'Africa', 'Machine Learning')\n",
            "(6, 'George', 'Ndede', 'USA', 'Dallas', 'N. America', 'Artificial Intelligence')\n"
          ],
          "name": "stdout"
        }
      ]
    },
    {
      "cell_type": "code",
      "metadata": {
        "colab": {
          "base_uri": "https://localhost:8080/"
        },
        "id": "1t6zhGcAofyu",
        "outputId": "764f5a46-71fc-4fb6-d0b2-365841810a9f"
      },
      "source": [
        "c.execute(\"SELECT DISTINCT* FROM courses \")\n",
        "items = c.fetchall()\n",
        "for y in items:\n",
        "    print(y)"
      ],
      "execution_count": null,
      "outputs": [
        {
          "output_type": "stream",
          "text": [
            "(1, 'Advanced Python')\n",
            "(2, 'Machine Learning')\n",
            "(3, 'Introduction Data Science')\n",
            "(4, 'Artificial Intelligence')\n",
            "(5, 'Introduction Python')\n",
            "(7, 'Intro to Linux Administration')\n",
            "(8, 'AWS Foundations')\n",
            "(9, 'Python System Administration')\n",
            "(10, 'Introduction  to statistics')\n"
          ],
          "name": "stdout"
        }
      ]
    },
    {
      "cell_type": "code",
      "metadata": {
        "colab": {
          "base_uri": "https://localhost:8080/"
        },
        "id": "uS3arEs6poMA",
        "outputId": "8a9778db-64cd-4c0d-876b-982442f76888"
      },
      "source": [
        "#Doing  a JOIN\n",
        "c.execute(\"\"\"\n",
        "SELECT DISTINCT*\n",
        "FROM students \n",
        "JOIN  courses \n",
        "ON  students.course = courses.coursename\n",
        "ORDER BY id\n",
        "  \"\"\")\n",
        "items  = c.fetchall()\n",
        "for x in items:\n",
        "  print(x)"
      ],
      "execution_count": null,
      "outputs": [
        {
          "output_type": "stream",
          "text": [
            "(1, 'Nicholas', 'Okello', 'Kenya', 'Nairobi', 'Africa', 'Advanced Python', 1, 'Advanced Python')\n",
            "(2, 'Tim', 'Kabugi', 'Kenya', 'Nairobi', 'Africa', 'Advanced Python', 1, 'Advanced Python')\n",
            "(3, 'John', 'Weru', 'Kenya', 'Nairobi', 'Africa', 'Advanced Python', 1, 'Advanced Python')\n",
            "(4, 'Darik', 'Olal', 'Kenya', 'Nairobi', 'Africa', 'Advanced Python', 1, 'Advanced Python')\n",
            "(5, 'Esther', 'Wambui', 'Kenya', 'Nairobi', 'Africa', 'Machine Learning', 2, 'Machine Learning')\n",
            "(6, 'George', 'Ndede', 'USA', 'Dallas', 'N. America', 'Artificial Intelligence', 4, 'Artificial Intelligence')\n"
          ],
          "name": "stdout"
        }
      ]
    },
    {
      "cell_type": "code",
      "metadata": {
        "id": "xq-nVx0tufwv"
      },
      "source": [
        "conn.commit()\n",
        "#conn.close()"
      ],
      "execution_count": null,
      "outputs": []
    },
    {
      "cell_type": "code",
      "metadata": {
        "colab": {
          "base_uri": "https://localhost:8080/"
        },
        "id": "w3YTa5_q4oR-",
        "outputId": "44701f5b-e961-4ad5-d015-68abcf465d3b"
      },
      "source": [
        "# inserting  and  updating the tables\n",
        "c.execute(\"INSERT INTO courses VALUES (10,'Introduction  to statistics')\")\n"
      ],
      "execution_count": null,
      "outputs": [
        {
          "output_type": "execute_result",
          "data": {
            "text/plain": [
              "<sqlite3.Cursor at 0x7faeca6ee1f0>"
            ]
          },
          "metadata": {
            "tags": []
          },
          "execution_count": 64
        }
      ]
    },
    {
      "cell_type": "code",
      "metadata": {
        "id": "0noMcSPB71XL"
      },
      "source": [
        "#updating \n",
        "c.execute(\"UPDATE courses SET coursename = 'AWS Foundations' WHERE id = 8 \")\n"
      ],
      "execution_count": null,
      "outputs": []
    },
    {
      "cell_type": "code",
      "metadata": {
        "colab": {
          "base_uri": "https://localhost:8080/"
        },
        "id": "4IjNQg8oELJh",
        "outputId": "6027b90f-abfb-4ff3-abe1-aa0ebc113c6c"
      },
      "source": [
        "#dropping  an item\n",
        "c.execute(\"\"\"DELETE FROM courses \n",
        "WHERE id = 6 \n",
        "ORDER BY id\n",
        "LIMIT 10\"\"\")\n"
      ],
      "execution_count": null,
      "outputs": [
        {
          "output_type": "execute_result",
          "data": {
            "text/plain": [
              "<sqlite3.Cursor at 0x7faeca6ee1f0>"
            ]
          },
          "metadata": {
            "tags": []
          },
          "execution_count": 73
        }
      ]
    },
    {
      "cell_type": "code",
      "metadata": {
        "id": "NuC_A-u_RhRz"
      },
      "source": [
        "conn.commit()\n",
        "conn.close()"
      ],
      "execution_count": null,
      "outputs": []
    }
  ]
}