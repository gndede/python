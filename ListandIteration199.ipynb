{
  "nbformat": 4,
  "nbformat_minor": 0,
  "metadata": {
    "colab": {
      "name": "ListandIteration199.ipynb",
      "private_outputs": true,
      "provenance": [],
      "collapsed_sections": [],
      "authorship_tag": "ABX9TyNNiZyqNETa74R3U2WaNBm6",
      "include_colab_link": true
    },
    "kernelspec": {
      "name": "python3",
      "display_name": "Python 3"
    },
    "language_info": {
      "name": "python"
    }
  },
  "cells": [
    {
      "cell_type": "markdown",
      "metadata": {
        "id": "view-in-github",
        "colab_type": "text"
      },
      "source": [
        "<a href=\"https://colab.research.google.com/github/gndede/python/blob/main/ListandIteration199.ipynb\" target=\"_parent\"><img src=\"https://colab.research.google.com/assets/colab-badge.svg\" alt=\"Open In Colab\"/></a>"
      ]
    },
    {
      "cell_type": "code",
      "metadata": {
        "id": "uz7WFHOtaMmr"
      },
      "source": [
        "#Equations used when Estimated average glucose(mg/dL) is entered: \n",
        "#A1C(%) = (Estimated average glucose(mg/dL) + 46.7) / 28.7. \n",
        "#A1C(mmol/mol) = 10.929 * (A1C(%) - 2.15)"
      ],
      "execution_count": null,
      "outputs": []
    },
    {
      "cell_type": "code",
      "metadata": {
        "id": "sK5jQwqeZqrl"
      },
      "source": [
        "#Declare a list of array to store the input\n",
        "daily_readings = []\n",
        "\n",
        "#Input number of elemetns\n",
        "n = int(input(\"Enter number of daily readings: \"))\n",
        "\n",
        "#Iterating till the range is reached\n",
        "for i in range(0, n):\n",
        "   print(\"Enter reading No-{}: \".format(i+1))\n",
        "   elm = int(input())\n",
        "   daily_readings.append(elm) # adding the element\n",
        "print(\"The entered list of blood Glucose level readings are: \\n\",daily_readings, \"eAG readings\")\n",
        "  \n",
        "# start parameter is not provided\n",
        "sum_of_readings = sum(daily_readings)\n",
        "print(\"Sum of all the numbers: \",sum_of_readings)\n",
        "\n",
        "#Compute the A1C of the person\n",
        "A1C = ((sum_of_readings + 46.7)/28.7)\n",
        "\n",
        "print(\"AIC value for the person in question: \", A1C)"
      ],
      "execution_count": null,
      "outputs": []
    },
    {
      "cell_type": "code",
      "metadata": {
        "id": "QM0SMiqFaoiN"
      },
      "source": [
        "#What is A1C? Performed by your doctor during your regular visits, your A1C test measures your \n",
        "#average blood sugar levels by taking a sample of hemoglobin A1C cells—a component of your red blood cells."
      ],
      "execution_count": null,
      "outputs": []
    },
    {
      "cell_type": "code",
      "metadata": {
        "id": "t1Dp1TAUbPIL"
      },
      "source": [
        "#The A1C is a blood test that helps determine if your diabetes management plan is working well. (Both Type 1 and Type 2 take this test.) \n",
        "#It’s done every 2-3 months to find out what your average blood sugar has been. (You may also hear this test called glycosylated hemoglobin, \n",
        "#glycohemoglobin, hemoglobin A1c, and HbA1c.) A1c is the most common name for it though."
      ],
      "execution_count": null,
      "outputs": []
    },
    {
      "cell_type": "code",
      "metadata": {
        "id": "yT_JU_KCbavd"
      },
      "source": [
        "#https://beyondtype1.org/understanding-your-a1c/\n",
        "#https://www.geeksforgeeks.org/python-type-conversion-in-dictionary-values/\n",
        "#https://www.geeksforgeeks.org/python-convert-a-set-into-dictionary/"
      ],
      "execution_count": null,
      "outputs": []
    },
    {
      "cell_type": "code",
      "metadata": {
        "id": "_RIPwTPZcgM0"
      },
      "source": [
        "# Python program to find the sum\n",
        "# and average of the list\n",
        "  \n",
        "#L = [4, 5, 1, 2, 9, 7, 10, 8]\n",
        "listA\n",
        "  \n",
        "  \n",
        "# variable to store the sum of \n",
        "# the list\n",
        "count = 0\n",
        "  \n",
        "# Finding the sum\n",
        "for i in listA:\n",
        "    count += i\n",
        "      \n",
        "# divide the total elements by\n",
        "# number of elements\n",
        "avg = count/len(listA)\n",
        "print(\"sum = \", count)\n",
        "print(\"average = \", avg)"
      ],
      "execution_count": null,
      "outputs": []
    },
    {
      "cell_type": "code",
      "metadata": {
        "id": "QA2Oc4wsdJ8F"
      },
      "source": [
        "# Python program to find the sum\n",
        "# and average of the list\n",
        "  \n",
        "L = [4, 5, 1, 2, 9, 7, 10, 8]\n",
        "  \n",
        "  \n",
        "# using sum() method\n",
        "count = sum(L)\n",
        "  \n",
        "# finding average\n",
        "avg = count/len(L)\n",
        "  \n",
        "print(\"sum = \", count)\n",
        "print(\"average = \", avg)"
      ],
      "execution_count": null,
      "outputs": []
    },
    {
      "cell_type": "code",
      "metadata": {
        "id": "TsVOI__O7Xa4"
      },
      "source": [
        "# Python code to demonstrate the working of \n",
        "# sum()\n",
        "   \n",
        "numbers = [1,2,3,4,5,1,4,5]\n",
        "  \n",
        "# start parameter is not provided\n",
        "Sum = sum(numbers)\n",
        "print(Sum)\n",
        "  \n",
        "# start = 10\n",
        "Sum = sum(numbers, 10)\n",
        "print(Sum)"
      ],
      "execution_count": null,
      "outputs": []
    }
  ]
}