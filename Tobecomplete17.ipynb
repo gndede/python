{
  "nbformat": 4,
  "nbformat_minor": 0,
  "metadata": {
    "colab": {
      "name": "Tobecomplete17.ipynb",
      "private_outputs": true,
      "provenance": [],
      "authorship_tag": "ABX9TyN2ZaeXi16TAIp29ZT0vL4S",
      "include_colab_link": true
    },
    "kernelspec": {
      "name": "python3",
      "display_name": "Python 3"
    },
    "language_info": {
      "name": "python"
    }
  },
  "cells": [
    {
      "cell_type": "markdown",
      "metadata": {
        "id": "view-in-github",
        "colab_type": "text"
      },
      "source": [
        "<a href=\"https://colab.research.google.com/github/gndede/python/blob/main/Tobecomplete17.ipynb\" target=\"_parent\"><img src=\"https://colab.research.google.com/assets/colab-badge.svg\" alt=\"Open In Colab\"/></a>"
      ]
    },
    {
      "cell_type": "code",
      "metadata": {
        "id": "nJkp1D9DnO7t"
      },
      "source": [
        "import pandas as pd\n",
        "import altair as alt\n",
        "\n",
        "df = pd.read_csv('https://query1.finance.yahoo.com/v7/finance/download/GOOG?period2=1585222905&interval=1mo&events=history')\n",
        "\n",
        "chart = alt.Chart(df).encode(\n",
        "    x='Date:T',\n",
        "    y='Open'\n",
        ").mark_line().interactive()"
      ],
      "execution_count": null,
      "outputs": []
    }
  ]
}