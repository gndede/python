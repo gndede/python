{
  "nbformat": 4,
  "nbformat_minor": 0,
  "metadata": {
    "colab": {
      "private_outputs": true,
      "provenance": [],
      "authorship_tag": "ABX9TyPMLeJGsqUP7A+aJL/3s30d",
      "include_colab_link": true
    },
    "kernelspec": {
      "name": "python3",
      "display_name": "Python 3"
    },
    "language_info": {
      "name": "python"
    }
  },
  "cells": [
    {
      "cell_type": "markdown",
      "metadata": {
        "id": "view-in-github",
        "colab_type": "text"
      },
      "source": [
        "<a href=\"https://colab.research.google.com/github/gndede/python/blob/main/pandas243.ipynb\" target=\"_parent\"><img src=\"https://colab.research.google.com/assets/colab-badge.svg\" alt=\"Open In Colab\"/></a>"
      ]
    },
    {
      "cell_type": "code",
      "execution_count": null,
      "metadata": {
        "id": "50Vs7o9nnYyl"
      },
      "outputs": [],
      "source": [
        "#The below example creates a Pandas DataFrame from the list.\n",
        "import pandas as pd\n",
        "#Dataset for fnames, middlename, lname, age, gender and salary\n",
        "data = [[\"Onyango\",\"\",\"Otoyo\",30,\"M\",60000],\n",
        "        [\"Michael\",\"Mwangi\",\"\",50,\"M\",70000],\n",
        "        [\"Robert\",\"\",\"Ouko\",42,\"\",400000],\n",
        "        [\"Maria\",\"Anne\",\"Mwajuma\",38,\"F\",500000],\n",
        "        [\"Jane\",\"Mama\",\"Abiero\",45,None,0]]\n",
        "columns=['First Name','Middle Name','Last Name','Age','Gender','Salary']"
      ]
    },
    {
      "cell_type": "code",
      "source": [
        "# Create the pandas DataFrame\n",
        "pandasDF=pd.DataFrame(data=data, columns=columns)"
      ],
      "metadata": {
        "id": "ahdFR_zEoPSF"
      },
      "execution_count": null,
      "outputs": []
    },
    {
      "cell_type": "code",
      "source": [
        "# print dataframe.\n",
        "print(pandasDF)"
      ],
      "metadata": {
        "id": "pGVUpTf6oVaD"
      },
      "execution_count": null,
      "outputs": []
    },
    {
      "cell_type": "code",
      "source": [
        "# print dataframe.\n",
        "print(pandasDF.count())"
      ],
      "metadata": {
        "id": "c136lRO2pTZz"
      },
      "execution_count": null,
      "outputs": []
    },
    {
      "cell_type": "code",
      "source": [
        "# print dataframe max.\n",
        "print(pandasDF.max())"
      ],
      "metadata": {
        "id": "4HDIcGIBpcYu"
      },
      "execution_count": null,
      "outputs": []
    },
    {
      "cell_type": "code",
      "source": [
        "# print dataframe mean.\n",
        "print(pandasDF.mean())"
      ],
      "metadata": {
        "id": "Mkyzb5h_pnrk"
      },
      "execution_count": null,
      "outputs": []
    }
  ]
}