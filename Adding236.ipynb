{
  "nbformat": 4,
  "nbformat_minor": 0,
  "metadata": {
    "colab": {
      "private_outputs": true,
      "provenance": [],
      "include_colab_link": true
    },
    "kernelspec": {
      "name": "python3",
      "display_name": "Python 3"
    },
    "language_info": {
      "name": "python"
    }
  },
  "cells": [
    {
      "cell_type": "markdown",
      "metadata": {
        "id": "view-in-github",
        "colab_type": "text"
      },
      "source": [
        "<a href=\"https://colab.research.google.com/github/gndede/python/blob/main/Adding236.ipynb\" target=\"_parent\"><img src=\"https://colab.research.google.com/assets/colab-badge.svg\" alt=\"Open In Colab\"/></a>"
      ]
    },
    {
      "cell_type": "markdown",
      "source": [
        "# New Section"
      ],
      "metadata": {
        "id": "CJKIXaYHxmwW"
      }
    },
    {
      "cell_type": "code",
      "execution_count": null,
      "metadata": {
        "id": "Jq0CK5Pi_wze"
      },
      "outputs": [],
      "source": [
        "#Start the program"
      ]
    },
    {
      "cell_type": "code",
      "source": [
        "#Declare the variables num1, num2, sum\n",
        "num1 = 10\n",
        "num2 = 13\n",
        "sum = num1 + num2"
      ],
      "metadata": {
        "id": "M2-XhxDg_4Vc"
      },
      "execution_count": null,
      "outputs": []
    },
    {
      "cell_type": "code",
      "source": [
        "print(sum)"
      ],
      "metadata": {
        "id": "GkYAemVRAP03"
      },
      "execution_count": null,
      "outputs": []
    },
    {
      "cell_type": "code",
      "source": [
        "#Get a product of 2 number"
      ],
      "metadata": {
        "id": "GF26YR3Qsuye"
      },
      "execution_count": null,
      "outputs": []
    },
    {
      "cell_type": "code",
      "source": [
        "#prove that Sequence actually work\n",
        "num1 = 32\n",
        "numb2 = 43"
      ],
      "metadata": {
        "id": "vGYc_Phrsu4-"
      },
      "execution_count": null,
      "outputs": []
    },
    {
      "cell_type": "code",
      "source": [
        "#Calculate the products of those 2 numbers\n",
        "product1 = num1 * numb2"
      ],
      "metadata": {
        "id": "cCRPS-mxsu8S"
      },
      "execution_count": null,
      "outputs": []
    },
    {
      "cell_type": "code",
      "source": [
        "#print the product\n",
        "print(product21)"
      ],
      "metadata": {
        "id": "BM7v-NDTsvDJ"
      },
      "execution_count": null,
      "outputs": []
    },
    {
      "cell_type": "code",
      "source": [],
      "metadata": {
        "id": "l9goHBCasvIi"
      },
      "execution_count": null,
      "outputs": []
    },
    {
      "cell_type": "code",
      "source": [
        "print(\"First Enter Number 1:\")\n",
        "num1 = float(input())"
      ],
      "metadata": {
        "id": "88CPDMM8Ahav"
      },
      "execution_count": null,
      "outputs": []
    },
    {
      "cell_type": "code",
      "source": [
        "print(\"Second Enter Number 2:\")\n",
        "num2 = int(input())"
      ],
      "metadata": {
        "id": "mB2nadRXA87L"
      },
      "execution_count": null,
      "outputs": []
    },
    {
      "cell_type": "code",
      "source": [
        "sum = (num1 + num2)"
      ],
      "metadata": {
        "id": "TJxnhFCpCAsu"
      },
      "execution_count": null,
      "outputs": []
    },
    {
      "cell_type": "code",
      "source": [
        "print(\"Our answer is: \",sum)"
      ],
      "metadata": {
        "id": "c9E6dfsjCGDw"
      },
      "execution_count": null,
      "outputs": []
    },
    {
      "cell_type": "code",
      "source": [],
      "metadata": {
        "id": "-u6gL9_4EoXf"
      },
      "execution_count": null,
      "outputs": []
    },
    {
      "cell_type": "code",
      "source": [],
      "metadata": {
        "id": "Rr2FiwvvEpJV"
      },
      "execution_count": null,
      "outputs": []
    },
    {
      "cell_type": "code",
      "source": [
        "number = 10"
      ],
      "metadata": {
        "id": "Yfn24NeQEpM1"
      },
      "execution_count": null,
      "outputs": []
    },
    {
      "cell_type": "code",
      "source": [
        "#Check if the number is greater than 0\n",
        "if number > 0:\n",
        "  print(\"Number is positive\")\n",
        "print(\"The IF statement is easy\")"
      ],
      "metadata": {
        "id": "MTmWKREUEvJV"
      },
      "execution_count": null,
      "outputs": []
    },
    {
      "cell_type": "code",
      "source": [
        "number = -10\n",
        "\n",
        "if number > 0:\n",
        "  print(\"Positive Number\")\n",
        "\n",
        "else:\n",
        "  print(\"Negative Number\")\n",
        "\n",
        "print(\"Wow - This statement is always executed no matter what!!!\")"
      ],
      "metadata": {
        "id": "Ys16mfVkFN77"
      },
      "execution_count": null,
      "outputs": []
    },
    {
      "cell_type": "code",
      "source": [
        "# list my contacts in sequence and print them on the screen.\n",
        "# Python Program listing in sequence\n",
        "print(\"Name: MARTIN LUTHER KING JR\")\n",
        "print(\"Email: martin.luther@gmail.com\")\n",
        "print(\"Phone: 909-456-0392\")\n",
        "print(\"Gender: Male\")\n",
        "print()\n",
        "print(\"Address: 457 Forrest Park Lane\")\n",
        "print(\"Savannah, GA 30987-2132\")\n",
        "print(\"U.S.A\")\n"
      ],
      "metadata": {
        "id": "e1HHbbJZHhpI"
      },
      "execution_count": null,
      "outputs": []
    },
    {
      "cell_type": "code",
      "source": [
        "print(\"Enter First and Last Name :\")\n",
        "name = input()"
      ],
      "metadata": {
        "id": "HV8VBdCDJIRq"
      },
      "execution_count": null,
      "outputs": []
    },
    {
      "cell_type": "code",
      "source": [
        "print(\"Email :\")\n",
        "email = input()"
      ],
      "metadata": {
        "id": "dlJH7A0UJQ9M"
      },
      "execution_count": null,
      "outputs": []
    },
    {
      "cell_type": "code",
      "source": [
        "print(\"Phone Number :\")\n",
        "phone = input()"
      ],
      "metadata": {
        "id": "0eN5T56uJU6K"
      },
      "execution_count": null,
      "outputs": []
    },
    {
      "cell_type": "code",
      "source": [
        "print(\"Gender :\")\n",
        "gender = input()"
      ],
      "metadata": {
        "id": "bCM2Ig6qJapS"
      },
      "execution_count": null,
      "outputs": []
    },
    {
      "cell_type": "code",
      "source": [
        "print(\"Address :\")\n",
        "address = input()"
      ],
      "metadata": {
        "id": "Vr1i4BfaJmzC"
      },
      "execution_count": null,
      "outputs": []
    },
    {
      "cell_type": "code",
      "source": [
        "print(\"City :\")\n",
        "city = input()"
      ],
      "metadata": {
        "id": "TGFikaIWJyIY"
      },
      "execution_count": null,
      "outputs": []
    },
    {
      "cell_type": "code",
      "source": [
        "print(\"State :\")\n",
        "state = input()"
      ],
      "metadata": {
        "id": "vXZy8lv1J3Vb"
      },
      "execution_count": null,
      "outputs": []
    },
    {
      "cell_type": "code",
      "source": [
        "print(\"Zipcode :\")\n",
        "zipcode = input()"
      ],
      "metadata": {
        "id": "nirn53ZgJ6Xz"
      },
      "execution_count": null,
      "outputs": []
    },
    {
      "cell_type": "code",
      "source": [
        "print(\"Country :\")\n",
        "country = input()"
      ],
      "metadata": {
        "id": "RdGVjAgTKDSE"
      },
      "execution_count": null,
      "outputs": []
    },
    {
      "cell_type": "code",
      "source": [
        "# list my contacts in sequence and print them on the screen.\n",
        "# Python Program listing in sequence\n",
        "print(\"Name: \", name)\n",
        "print(\"Email: \", email)\n",
        "print(\"Phone: \", phone)\n",
        "print(\"Gender: \", gender)\n",
        "print()\n",
        "print(\"Address:\", address)\n",
        "print(\"City:\", city)\n",
        "print(\"State:\", state)\n",
        "print(\"Zip Code: \", zipcode)\n",
        "print(\"Country:\", country)"
      ],
      "metadata": {
        "id": "hvhs7GQpKKoJ"
      },
      "execution_count": null,
      "outputs": []
    },
    {
      "cell_type": "code",
      "source": [
        "name = input(\"Enter your name: \")\n",
        "print()\n",
        "print(\"Habari yako,  \" +  name)\n"
      ],
      "metadata": {
        "id": "QNyhD7yTMLFh"
      },
      "execution_count": null,
      "outputs": []
    },
    {
      "cell_type": "code",
      "source": [
        "print(\"Enter your names: \") #prompt\n",
        "name = input()\n",
        "print() #create space\n",
        "print(\"Habari yako, \" + name)\n"
      ],
      "metadata": {
        "id": "fQSEUPr8M2J2"
      },
      "execution_count": null,
      "outputs": []
    },
    {
      "cell_type": "code",
      "source": [
        "print(\"Age:\")\n",
        "age = int(input())"
      ],
      "metadata": {
        "id": "9MYNjfMpvq-7"
      },
      "execution_count": null,
      "outputs": []
    },
    {
      "cell_type": "code",
      "source": [
        "print(age)"
      ],
      "metadata": {
        "id": "ewI6Y0jmv5q3"
      },
      "execution_count": null,
      "outputs": []
    },
    {
      "cell_type": "code",
      "source": [
        "flag = True\n",
        "if flag == False:\n",
        "    print(\"Welcome\")\n",
        "    print(\"To The\")\n",
        "    print(\"Largest Python Class in Sub-Saharan Africa\")\n",
        "else:\n",
        "    print(\"That was is not possible - Unfortunate\")"
      ],
      "metadata": {
        "id": "JdF7ZKFvweXK"
      },
      "execution_count": null,
      "outputs": []
    },
    {
      "cell_type": "code",
      "source": [
        "flag = True\n",
        "if flag:\n",
        "    print(\"Welcome\")\n",
        "    print(\"To The\")\n",
        "    print(\"Largest Python Class in Sub-Saharan Africa\")"
      ],
      "metadata": {
        "id": "c-LMQPl4yhet"
      },
      "execution_count": null,
      "outputs": []
    },
    {
      "cell_type": "code",
      "source": [
        "flag = False\n",
        "if flag:\n",
        "    print(\"You Guys\")\n",
        "    print(\"are a\")\n",
        "    print(\"Fantastically great class\")\n",
        "else:\n",
        "    print(\"That was is not possible - Unfortunate\")"
      ],
      "metadata": {
        "id": "b7ij1bgdy8TI"
      },
      "execution_count": null,
      "outputs": []
    },
    {
      "cell_type": "code",
      "source": [
        "number = 300\n",
        "if number < 500:\n",
        "    print(\"number is less than 500\")"
      ],
      "metadata": {
        "id": "8_Wtjpxgz73e"
      },
      "execution_count": null,
      "outputs": []
    },
    {
      "cell_type": "code",
      "source": [
        "number = 600\n",
        "if number < 500:\n",
        "    print(\"number is less than 500\")\n",
        "else:\n",
        "    print(\"That number is too large\")"
      ],
      "metadata": {
        "id": "BclQkgP20Ggq"
      },
      "execution_count": null,
      "outputs": []
    },
    {
      "cell_type": "code",
      "source": [],
      "metadata": {
        "id": "1X7aIdbc04ub"
      },
      "execution_count": null,
      "outputs": []
    },
    {
      "cell_type": "code",
      "source": [
        "number = 43\n",
        "if number % 2 == 0:\n",
        "    print(\"Even Number\") ## True\n",
        "else:\n",
        "    print(\"Odd Number\")  ## False"
      ],
      "metadata": {
        "id": "RzyikKzV05ZL"
      },
      "execution_count": null,
      "outputs": []
    },
    {
      "cell_type": "code",
      "source": [],
      "metadata": {
        "id": "b37_d9Gv2Vpb"
      },
      "execution_count": null,
      "outputs": []
    },
    {
      "cell_type": "code",
      "source": [
        "players = [\"Tom\", \"Ben\", \"John\", \"Eric\"]\n",
        "if not players:"
      ],
      "metadata": {
        "id": "oQY4eh4Y2VuL"
      },
      "execution_count": null,
      "outputs": []
    },
    {
      "cell_type": "code",
      "source": [],
      "metadata": {
        "id": "p1528NTF4LYK"
      },
      "execution_count": null,
      "outputs": []
    },
    {
      "cell_type": "code",
      "source": [
        "number = 1122\n",
        "if 9 < number < 99:\n",
        "    print(\"Two digit number\")\n",
        "elif 99 < number < 999:\n",
        "    print(\"Three digit number\")\n",
        "elif 999 < number < 9999:\n",
        "    print(\"Four digit number\") #True\n",
        "else:\n",
        "    print(\"number is <= 9 or >= 9999\")"
      ],
      "metadata": {
        "id": "0WUqxtjJ4LyG"
      },
      "execution_count": null,
      "outputs": []
    },
    {
      "cell_type": "code",
      "source": [
        "print(\"Enter Age:\")\n",
        "age = int(input())\n",
        "if 2 > age < 5:\n",
        "    print(\"Kyle\")\n",
        "elif 12 > age < 15:\n",
        "    print(\"Dylan\")\n",
        "elif 15 > age < 23:\n",
        "    print(\"Roby\") #True\n",
        "elif 23 > age < 26:\n",
        "    print(\"Sandy\") #True\n",
        "elif 26 > age < 45:\n",
        "    print(\"Mommy\") #True\n",
        "else:\n",
        "    print(\"Daddy\")"
      ],
      "metadata": {
        "id": "8b6qzUSh4eVV"
      },
      "execution_count": null,
      "outputs": []
    },
    {
      "cell_type": "code",
      "source": [
        "#1. Enter the name, phone, address, email address, electric billing\n",
        "#2. enter the total number of kilowatts used e.g 700kw per week, enter the tax 8%\n",
        "#3. Calculate the billing for the house in a month\n",
        "#4. Print: Name, address, email,\n",
        "#5. Details of the electric consumption"
      ],
      "metadata": {
        "id": "k561M7Juujga"
      },
      "execution_count": null,
      "outputs": []
    },
    {
      "cell_type": "code",
      "source": [
        "print(\"Enter Name \")\n",
        "name = str(input())\n",
        "print()\n",
        "print(\"Enter phone \")\n",
        "phone = str(input())\n",
        "print()\n",
        "print(\"Enter Email \")\n",
        "email = str(input())\n",
        "print()"
      ],
      "metadata": {
        "id": "mfdrtjLzyMIi"
      },
      "execution_count": null,
      "outputs": []
    },
    {
      "cell_type": "code",
      "source": [
        "print(\"Names: \",name)\n",
        "print(\"Phone: \",phone)\n",
        "print(\"Email: \",email)"
      ],
      "metadata": {
        "id": "J4G-yA1IAGjd"
      },
      "execution_count": null,
      "outputs": []
    },
    {
      "cell_type": "code",
      "source": [
        "print(\"Enter customer name\")\n",
        "Name=str(input())\n",
        "print()"
      ],
      "metadata": {
        "id": "r0sdcV9MYGNL"
      },
      "execution_count": null,
      "outputs": []
    },
    {
      "cell_type": "code",
      "source": [
        "print(\"Enter customer name\")\n",
        "Name=str(input())\n",
        "print()"
      ],
      "metadata": {
        "id": "zMwzyV16b26e"
      },
      "execution_count": null,
      "outputs": []
    },
    {
      "cell_type": "code",
      "source": [],
      "metadata": {
        "id": "KZ4PVBYRfLWc"
      },
      "execution_count": null,
      "outputs": []
    }
  ]
}