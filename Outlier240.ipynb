{
  "nbformat": 4,
  "nbformat_minor": 0,
  "metadata": {
    "colab": {
      "private_outputs": true,
      "provenance": [],
      "authorship_tag": "ABX9TyMsqDbY0VXfOvKrzKarnPZI",
      "include_colab_link": true
    },
    "kernelspec": {
      "name": "python3",
      "display_name": "Python 3"
    },
    "language_info": {
      "name": "python"
    }
  },
  "cells": [
    {
      "cell_type": "markdown",
      "metadata": {
        "id": "view-in-github",
        "colab_type": "text"
      },
      "source": [
        "<a href=\"https://colab.research.google.com/github/gndede/python/blob/main/Outlier240.ipynb\" target=\"_parent\"><img src=\"https://colab.research.google.com/assets/colab-badge.svg\" alt=\"Open In Colab\"/></a>"
      ]
    },
    {
      "cell_type": "markdown",
      "source": [
        "# Importing the Dataset\n",
        "The following script imports the libraries required to execute scripts in this article, along with the dataset. The dataset comes built-in with the Seaborn library, which is stored in a Pandas dataframe using the load_dataset() method in the script below:"
      ],
      "metadata": {
        "id": "WzWjMbQPU-34"
      }
    },
    {
      "cell_type": "code",
      "execution_count": null,
      "metadata": {
        "id": "bB4vJcChKrDH"
      },
      "outputs": [],
      "source": [
        "import pandas as pd\n",
        "import numpy as np\n",
        "import matplotlib.pyplot as plt\n",
        "import seaborn as sns\n",
        "sns.set_style(\"darkgrid\")\n",
        "plt.rcParams[\"figure.figsize\"] = [8,6]\n",
        "\n",
        "\n",
        "tips_ds  = sns.load_dataset('tips')\n",
        "tips_ds.head()"
      ]
    },
    {
      "cell_type": "code",
      "source": [
        "sns.boxplot( y='tip', data=tips_ds)"
      ],
      "metadata": {
        "id": "EbhmzEjfW0UD"
      },
      "execution_count": null,
      "outputs": []
    },
    {
      "cell_type": "code",
      "source": [
        "#Let’s find the quartile one (q1) and quartile\n",
        "#three (q3) values for the tips column of our dataset.\n",
        "#These values will be used to find the IQR range.\n",
        "q3 = tips_ds[\"tip\"].quantile(0.75)\n",
        "q1 = tips_ds[\"tip\"].quantile(0.25)\n",
        "print(q3)\n",
        "print(q1)"
      ],
      "metadata": {
        "id": "pXNyTF69ay8l"
      },
      "execution_count": null,
      "outputs": []
    },
    {
      "cell_type": "code",
      "source": [
        "#The IQR range can be calculated by simply subtracting the q1 value from q3.\n",
        "#The following script finds and prints the IQR value."
      ],
      "metadata": {
        "id": "yfmhlYb2bNUl"
      },
      "execution_count": null,
      "outputs": []
    },
    {
      "cell_type": "code",
      "source": [
        "IQR = q3 - q1\n",
        "print(IQR)"
      ],
      "metadata": {
        "id": "HKCrJ-V0bPhH"
      },
      "execution_count": null,
      "outputs": []
    },
    {
      "cell_type": "code",
      "source": [
        "#The lower limit is calculated by multiplying the IQR value by 1.5 and then subtracting the resulting value from q1.\n",
        "#The following script does that."
      ],
      "metadata": {
        "id": "2TymFyHkbwBJ"
      },
      "execution_count": null,
      "outputs": []
    },
    {
      "cell_type": "code",
      "source": [
        "lower_limit = q1 - (IQR * 1.5)\n",
        "print(lower_limit)"
      ],
      "metadata": {
        "id": "hTwLaAanb38H"
      },
      "execution_count": null,
      "outputs": []
    },
    {
      "cell_type": "code",
      "source": [
        "#Similarly, the script below calculates and prints the upper limit.\n",
        "upper_limit = q3 + (IQR * 1.5)\n",
        "print(upper_limit)"
      ],
      "metadata": {
        "id": "JADygFjjcHYr"
      },
      "execution_count": null,
      "outputs": []
    },
    {
      "cell_type": "code",
      "source": [
        "#Once you have the upper and lower limits for your outliers,\n",
        "#you can filter the data from your Pandas dataframe where\n",
        "#the tip column contains values between your upper and lower limits.\n",
        "#The following script returns\n",
        "#rows that contain outlier values.\n"
      ],
      "metadata": {
        "id": "LcaXX0N9cuz_"
      },
      "execution_count": null,
      "outputs": []
    }
  ]
}