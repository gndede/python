{
  "nbformat": 4,
  "nbformat_minor": 0,
  "metadata": {
    "colab": {
      "name": "fakerBigger.ipynb",
      "private_outputs": true,
      "provenance": [],
      "authorship_tag": "ABX9TyPzN02xb3L4IMu7vk2xX8Cy",
      "include_colab_link": true
    },
    "kernelspec": {
      "name": "python3",
      "display_name": "Python 3"
    }
  },
  "cells": [
    {
      "cell_type": "markdown",
      "metadata": {
        "id": "view-in-github",
        "colab_type": "text"
      },
      "source": [
        "<a href=\"https://colab.research.google.com/github/gndede/python/blob/main/fakerBigger.ipynb\" target=\"_parent\"><img src=\"https://colab.research.google.com/assets/colab-badge.svg\" alt=\"Open In Colab\"/></a>"
      ]
    },
    {
      "cell_type": "code",
      "metadata": {
        "id": "aleemSm3gzY7"
      },
      "source": [
        "!pip install Faker\n",
        "#https://kishstats.com/python/2018/04/04/faker-demo-python.html\n",
        "#https://faker.readthedocs.io/en/master/providers.html\n",
        "#\n",
        "#https://kishstats.com/python/2018/04/04/faker-demo-python.html\n",
        "#http://zetcode.com/python/faker/\n",
        "import csv\n",
        "import random\n",
        "from time import time\n",
        "from decimal import Decimal\n",
        "from faker import Faker\n",
        "\n",
        "RECORD_COUNT = 10\n",
        "fake = Faker()\n",
        "\n",
        "\n",
        "def create_csv_file():\n",
        "    with open('/content/sample.csv', 'a', newline='') as csvfile:\n",
        "        fieldnames = ['first_name', 'last_name', 'social_security', 'email', 'phone', 'product_id', 'qty',\n",
        "                      'amount', 'description', 'address', 'city', 'state',\n",
        "                      'country']\n",
        "        writer = csv.DictWriter(csvfile, fieldnames=fieldnames)\n",
        "\n",
        "        writer.writeheader()\n",
        "        for i in range(RECORD_COUNT):\n",
        "            writer.writerow(\n",
        "                {\n",
        "                    'first_name': fake.name(),\n",
        "                    'last_name': fake.name(),\n",
        "                    'social_security': fake.ssn(),\n",
        "                    'email': fake.email(),\n",
        "                    'phone': fake.phone_number(),\n",
        "                    'product_id': fake.random_int(min=100, max=199),\n",
        "                    'qty': fake.random_int(min=1, max=9),\n",
        "                    'amount': float(Decimal(random.randrange(500, 10000))/100),\n",
        "                    'description': fake.sentence(),\n",
        "                    'address': fake.street_address(),\n",
        "                    'city': fake.city(),\n",
        "                    'state': fake.state(),\n",
        "                    'country': fake.country()\n",
        "                }\n",
        "            )\n",
        "\n",
        "\n",
        "def get_totals():\n",
        "    qty_total = 0\n",
        "    amount_total = 0\n",
        "    with open('/content/sample.csv', 'r', newline='') as csvfile:\n",
        "        reader = csv.reader(csvfile, delimiter=',')\n",
        "        for row in reader:\n",
        "            if row[4] != 'qty':\n",
        "                qty = int(row[4])\n",
        "                qty_total += qty\n",
        "\n",
        "                amount = float(row[5])\n",
        "                amount_total += amount\n",
        "    return qty_total, amount_total\n",
        "\n",
        "\n",
        "if __name__ == '__main__':\n",
        "    start = time()\n",
        "    create_csv_file()\n",
        "    elapsed = time() - start\n",
        "    print('created csv file time: {}'.format(elapsed))\n",
        "\n",
        "    start = time()\n",
        "    qty_total, amount_total = get_totals()\n",
        "    elapsed = time() - start\n",
        "    print('got totals time: {}'.format(elapsed))\n",
        "\n",
        "    print('qty: {}'.format(qty_total))\n",
        "    print('amount: {}'.format(amount_total))"
      ],
      "execution_count": null,
      "outputs": []
    },
    {
      "cell_type": "code",
      "metadata": {
        "id": "HjwBDfqvo1b1"
      },
      "source": [
        "my_var = 5\n",
        "_myvar = 5\n"
      ],
      "execution_count": null,
      "outputs": []
    },
    {
      "cell_type": "code",
      "metadata": {
        "id": "8gwUqn-gmC01"
      },
      "source": [
        "print(_myvar)"
      ],
      "execution_count": null,
      "outputs": []
    }
  ]
}