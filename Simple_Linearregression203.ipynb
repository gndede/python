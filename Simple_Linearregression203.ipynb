{
  "nbformat": 4,
  "nbformat_minor": 0,
  "metadata": {
    "colab": {
      "name": "Simple-Linearregression203.ipynb",
      "private_outputs": true,
      "provenance": [],
      "collapsed_sections": [],
      "authorship_tag": "ABX9TyPwZUhBhRrw+7YLQD/QdR2A",
      "include_colab_link": true
    },
    "kernelspec": {
      "name": "python3",
      "display_name": "Python 3"
    },
    "language_info": {
      "name": "python"
    }
  },
  "cells": [
    {
      "cell_type": "markdown",
      "metadata": {
        "id": "view-in-github",
        "colab_type": "text"
      },
      "source": [
        "<a href=\"https://colab.research.google.com/github/gndede/python/blob/main/Simple_Linearregression203.ipynb\" target=\"_parent\"><img src=\"https://colab.research.google.com/assets/colab-badge.svg\" alt=\"Open In Colab\"/></a>"
      ]
    },
    {
      "cell_type": "markdown",
      "metadata": {
        "id": "tNKz1p8I9Gm4"
      },
      "source": [
        "**Regression**\n",
        "In the previous chapter we’ve talked about Unsupervised and Supervised\n",
        "Learning, including a bit about Linear Regression. In this chapter let’s focus on Regression (predicting an output based on a new input and previous learning).\n",
        "Basically, Regression Analysis allows us to discover if there’s a relationship between an independent variable/s and a dependent variable (the target). For example, in a Simple Linear Regression we want to know if there’s a relationship between x and y. This is very useful in forecasting (e.g. where is the trend going) and time series modelling (e.g. temperature levels by year and if global warming is true)."
      ]
    },
    {
      "cell_type": "markdown",
      "metadata": {
        "id": "ykCbJyv29VSo"
      },
      "source": [
        "**Simple Linear Regression**\n",
        "Here we’ll be dealing with one independent variable and one dependent. Lateron we’ll be dealing with multiple variables and show how can they be used to predict the target (similar to what we talked about predicting something based on several features/attributes).\n",
        "\n",
        "For now, let’s see an example of a Simple Linear Regression wherein we analyze Salary Data (Salary_Data.csv). Here’s the dataset (comma-separated values and the columns are years, experience, and salary): YearsExperience,Salary\n",
        "1.1,39343.00\n",
        "1.3,46205.00\n",
        "1.5,37731.00\n",
        "2.0,43525.00\n",
        "2.2,39891.00\n",
        "2.9,56642.00\n",
        "3.0,60150.00\n",
        "3.2,54445.00\n",
        "3.2,64445.00\n",
        "3.7,57189.00\n",
        "3.9,63218.00\n",
        "4.0,55794.00\n",
        "4.0,56957.00\n",
        "4.1,57081.00\n",
        "4.5,61111.00\n",
        "4.9,67938.00\n",
        "5.1,66029.00\n",
        "5.3,83088.00\n",
        "5.9,81363.00\n",
        "6.0,93940.00\n",
        "6.8,91738.00\n",
        "7.1,98273.00\n",
        "7.9,101302.00\n",
        "8.2,113812.00\n",
        "8.7,109431.00\n",
        "9.0,105582.00\n",
        "9.5,116969.00\n",
        "9.6,112635.00\n",
        "10.3,122391.00\n",
        "10.5,121872.00"
      ]
    },
    {
      "cell_type": "code",
      "metadata": {
        "id": "KyptrV2S8_ej"
      },
      "source": [
        "#Here’s the Python code for fitting Simple Linear Regression to the Training Set:\n",
        "# Importing the libraries\n",
        "import matplotlib.pyplot as plt\n",
        "import pandas as pd\n",
        "\n",
        "# Importing the dataset\n",
        "dataset = pd.read_csv('/content/Salary_Data.csv')\n",
        "X = dataset.iloc[:, :-1].values\n",
        "y = dataset.iloc[:, 1].values\n",
        "\n",
        "# Splitting the dataset into the Training set and Test set\n",
        "from sklearn.model_selection import train_test_split\n",
        "X_train, X_test, y_train, y_test = train_test_split(X, y, test_size = 1/3,\n",
        "random_state = 0)\n",
        "\n",
        "# Fitting Simple Linear Regression to the Training set\n",
        "from sklearn.linear_model import LinearRegression\n",
        "regressor = LinearRegression()\n",
        "regressor.fit(X_train, y_train)\n",
        "\n",
        "# Predicting the Test set results\n",
        "y_pred = regressor.predict(X_test)\n",
        "\n",
        "# Visualising the Training set results\n",
        "plt.scatter(X_train, y_train, color = 'red')\n",
        "plt.plot(X_train, regressor.predict(X_train), color = 'blue')\n",
        "plt.title('Salary vs Experience (Training set)')\n",
        "plt.xlabel('Years of Experience')\n",
        "plt.ylabel('Salary')\n",
        "plt.show()"
      ],
      "execution_count": null,
      "outputs": []
    },
    {
      "cell_type": "code",
      "metadata": {
        "id": "NlZDkapB--TZ"
      },
      "source": [
        "#After the line is created, we then apply that same line to the Test Set (the\n",
        "#remaining 30% or 1/3 of the dataset)."
      ],
      "execution_count": null,
      "outputs": []
    },
    {
      "cell_type": "code",
      "metadata": {
        "id": "AuSt7PN9-rYB"
      },
      "source": [
        "# Visualising the Test set results\n",
        "plt.scatter(X_test, y_test, color = 'red')\n",
        "plt.plot(X_train, regressor.predict(X_train), color = 'blue')\n",
        "plt.title('Salary vs Experience (Test set)')\n",
        "plt.xlabel('Years of Experience')\n",
        "plt.ylabel('Salary')\n",
        "plt.show()\n",
        "#The overall goal here is to create a model that will predict Salary\n",
        "#based on Years of Experience. First, we create a model using the Training Set\n",
        "#(70% of the dataset). It will then fit a line that is close as possible with most of\n",
        "#the data points."
      ],
      "execution_count": null,
      "outputs": []
    },
    {
      "cell_type": "code",
      "metadata": {
        "id": "Gc_HFr3Q_LuT"
      },
      "source": [
        "#Notice that the line performed well both on the Training Set and the Test Set. As\n",
        "#a result, there’s a good chance that the line or our model will also perform well\n",
        "#on new data."
      ],
      "execution_count": null,
      "outputs": []
    },
    {
      "cell_type": "markdown",
      "metadata": {
        "id": "vhhfqYdj_afN"
      },
      "source": [
        "Let’s have a recap of what happened. First, we imported the necessary libraries (pandas for processing data, matplotlib for data visualization). Next, we imported the dataset and assigned X (the independent variable) to Years of Experience and y (the target) to Salary. We then split the dataset into Training Set (2⁄3) and Test Set (1⁄3)."
      ]
    },
    {
      "cell_type": "markdown",
      "metadata": {
        "id": "zqzppzi1_owJ"
      },
      "source": [
        "Then, we apply the Linear Regression model and fitted a line (with the help ofscikit-learn, which is a free software machine learning library for the Python programming language). This is accomplished through the following lines of code: from sklearn.linear_model import LinearRegression\n",
        "regressor = LinearRegression() regressor.fit(X_train, y_train) After learning from the Training Set (X_train and y_train), we then apply that regressor to the Test Set (X_test) and compare the results using data visualization (matplotlib)."
      ]
    },
    {
      "cell_type": "markdown",
      "metadata": {
        "id": "OGELbgH9_5Ij"
      },
      "source": [
        "It’s a straightforward approach. Our model learns from the Training Set and then applies that to the Test Set (and see if the model is good enough). This is the essential principle of Simple Linear Regression."
      ]
    },
    {
      "cell_type": "code",
      "metadata": {
        "id": "SJqhRY5Fnyqz"
      },
      "source": [
        "import math\n",
        "math.fsum([8/2*(2 + 2)])"
      ],
      "execution_count": null,
      "outputs": []
    }
  ]
}