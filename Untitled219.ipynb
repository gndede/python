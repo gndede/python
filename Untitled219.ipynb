{
  "nbformat": 4,
  "nbformat_minor": 0,
  "metadata": {
    "colab": {
      "name": "Untitled219.ipynb",
      "private_outputs": true,
      "provenance": [],
      "authorship_tag": "ABX9TyPhy+mCWCEa7hYPANElpByM",
      "include_colab_link": true
    },
    "kernelspec": {
      "name": "python3",
      "display_name": "Python 3"
    },
    "language_info": {
      "name": "python"
    }
  },
  "cells": [
    {
      "cell_type": "markdown",
      "metadata": {
        "id": "view-in-github",
        "colab_type": "text"
      },
      "source": [
        "<a href=\"https://colab.research.google.com/github/gndede/python/blob/main/Untitled219.ipynb\" target=\"_parent\"><img src=\"https://colab.research.google.com/assets/colab-badge.svg\" alt=\"Open In Colab\"/></a>"
      ]
    },
    {
      "cell_type": "code",
      "metadata": {
        "id": "C6LFxCbYCbAR"
      },
      "source": [
        "#import morris as mo\n",
        "#import numpy as np\n",
        "import pandas as pd\n",
        "\n",
        "pd.read_csv(\"/content/morris.csv\")"
      ],
      "execution_count": null,
      "outputs": []
    }
  ]
}