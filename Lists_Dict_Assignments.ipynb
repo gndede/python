{
  "nbformat": 4,
  "nbformat_minor": 0,
  "metadata": {
    "colab": {
      "name": "Lists_Dict_Assignments.ipynb",
      "private_outputs": true,
      "provenance": [],
      "collapsed_sections": [],
      "include_colab_link": true
    },
    "kernelspec": {
      "name": "python3",
      "display_name": "Python 3"
    },
    "language_info": {
      "name": "python"
    }
  },
  "cells": [
    {
      "cell_type": "markdown",
      "metadata": {
        "id": "view-in-github",
        "colab_type": "text"
      },
      "source": [
        "<a href=\"https://colab.research.google.com/github/gndede/python/blob/main/Lists_Dict_Assignments.ipynb\" target=\"_parent\"><img src=\"https://colab.research.google.com/assets/colab-badge.svg\" alt=\"Open In Colab\"/></a>"
      ]
    },
    {
      "cell_type": "code",
      "metadata": {
        "id": "YVPVIetEplz-"
      },
      "source": [
        "tuple1 = (11, 22)\n",
        "tuple2 = (99, 88)\n",
        "tuple1, tuple2 = tuple2, tuple1\n",
        "print(tuple2)\n",
        "print(tuple1)"
      ],
      "execution_count": null,
      "outputs": []
    },
    {
      "cell_type": "code",
      "metadata": {
        "id": "WTfUcsB1rx6I"
      },
      "source": [
        "currencies = ['Dollar', 'Euro', 'Pound']\n",
        "\n",
        "# append 'Yen' to the list\n",
        "currencies.append('Yen')\n",
        "\n",
        "print(currencies)\n",
        "\n",
        "# Output: ['Dollar', 'Euro', 'Pound', 'Yen']"
      ],
      "execution_count": null,
      "outputs": []
    },
    {
      "cell_type": "code",
      "metadata": {
        "id": "LzodIFRZr_SD"
      },
      "source": [
        "# create a list of vowels\n",
        "vowel = ['a', 'e', 'i', 'u']\n",
        "\n",
        "# 'o' is inserted at index 3 (4th position)\n",
        "vowel.insert(3, 'o')\n",
        "\n",
        "\n",
        "print('List:', vowel)\n",
        "\n",
        "# Output: List: ['a', 'e', 'i', 'o', 'u']"
      ],
      "execution_count": null,
      "outputs": []
    },
    {
      "cell_type": "code",
      "metadata": {
        "id": "8Bywd43osbdg"
      },
      "source": [
        "# create a list of vowels\n",
        "name = ['M', 'o', 'r','i','s']\n",
        "\n",
        "# 'o' is inserted at index 3 (4th position)\n",
        "name.insert(3, 'r')\n",
        "\n",
        "\n",
        "print('List:', name)\n",
        "\n",
        "# Output: List: ['a', 'e', 'i', 'o', 'u']"
      ],
      "execution_count": null,
      "outputs": []
    },
    {
      "cell_type": "code",
      "metadata": {
        "id": "Mhd7aozNtE3D"
      },
      "source": [
        "# create a list\n",
        "prime_numbers = [2, 3, 5, 7, 9, 11]\n",
        "\n",
        "# remove 9 from the list\n",
        "prime_numbers.remove(11)\n",
        "\n",
        "\n",
        "# Updated prime_numbers List\n",
        "print('Updated List: ', prime_numbers)\n",
        "\n",
        "# Output: Updated List:  [2, 3, 5, 7, 11]"
      ],
      "execution_count": null,
      "outputs": []
    },
    {
      "cell_type": "code",
      "metadata": {
        "id": "2kRswn44tn_u"
      },
      "source": [
        "# create a list of vowels\n",
        "name = ['M', 'o', 'r','r','i','s']\n",
        "\n",
        "# 'o' is inserted at index 3 (4th position)\n",
        "name.remove('o')\n",
        "\n",
        "\n",
        "print('List:', name)\n",
        "\n",
        "# Output: List: ['a', 'e', 'i', 'o', 'u']"
      ],
      "execution_count": null,
      "outputs": []
    },
    {
      "cell_type": "code",
      "metadata": {
        "id": "qyG1pXH6uFcv"
      },
      "source": [
        "# create a list of prime numbers\n",
        "prime_numbers = [2, 3, 5, 7]\n",
        "\n",
        "# remove the element at index 2\n",
        "removed_element = prime_numbers.pop(3)\n",
        "\n",
        "print('Removed Element:', removed_element)\n",
        "\n",
        "# Output: Removed Element: 5"
      ],
      "execution_count": null,
      "outputs": []
    },
    {
      "cell_type": "code",
      "metadata": {
        "id": "ofxOPK3EumjE"
      },
      "source": [
        "# create a list of prime numbers\n",
        "prime_numbers = [2, 3, 5, 7]\n",
        "\n",
        "# reverse the order of list elements\n",
        "prime_numbers.reverse()\n",
        "\n",
        "\n",
        "print('Reversed List:', prime_numbers)\n",
        "\n",
        "# Output: Reversed List: [7, 5, 3, 2]"
      ],
      "execution_count": null,
      "outputs": []
    },
    {
      "cell_type": "code",
      "metadata": {
        "id": "uLjPsvvYu6xM"
      },
      "source": [
        "prime_numbers = [11, 3, 7, 5, 2]\n",
        "\n",
        "# sort the list\n",
        "prime_numbers.sort()\n",
        "print(prime_numbers)\n",
        "\n",
        "# Output: [2, 3, 5, 7, 11]"
      ],
      "execution_count": null,
      "outputs": []
    },
    {
      "cell_type": "code",
      "metadata": {
        "id": "3TQqwFf-vJOl"
      },
      "source": [
        "prime_numbers = [2, 3, 5, 7, 9, 11]\n",
        "\n",
        "# remove all elements\n",
        "prime_numbers.clear()\n",
        "\n",
        "# Updated prime_numbers List\n",
        "print('List after clear():', prime_numbers)\n",
        "\n",
        "\n",
        "# Output: List after clear(): []"
      ],
      "execution_count": null,
      "outputs": []
    },
    {
      "cell_type": "code",
      "metadata": {
        "id": "Doyb2oXNvYAw"
      },
      "source": [
        "# mixed list\n",
        "prime_numbers = [2, 3, 5, 8, 9]\n",
        "\n",
        "# copying a list\n",
        "numbers = prime_numbers.copy()\n",
        "\n",
        "\n",
        "print('Copied List:', numbers)\n",
        "\n",
        "print()\n",
        "\n",
        "\n",
        "print('Copied List:', prime_numbers)\n",
        "# Output: Copied List: [2, 3, 5]"
      ],
      "execution_count": null,
      "outputs": []
    },
    {
      "cell_type": "code",
      "metadata": {
        "id": "xrgQqdNFv1AZ"
      },
      "source": [
        "# create a list\n",
        "numbers = [2, 3, 5, 2, 11, 2, 7]\n",
        "\n",
        "# check the count of 2\n",
        "count = numbers.count(5)\n",
        "\n",
        "\n",
        "print('Count of 2:', count)\n",
        "\n",
        "# Output: Count of 2: 3"
      ],
      "execution_count": null,
      "outputs": []
    },
    {
      "cell_type": "code",
      "metadata": {
        "id": "xCyO0kSjwDw9"
      },
      "source": [
        "# create a list\n",
        "prime_numbers = [2, 3, 5]\n",
        "\n",
        "# create another list\n",
        "numbers = [1, 4]\n",
        "\n",
        "# add all elements of prime_numbers to numbers\n",
        "prime_numbers.extend(numbers)\n",
        "\n",
        "\n",
        "print('List after extend():', prime_numbers)\n",
        "\n",
        "# Output: List after extend(): [1, 4, 2, 3, 5]"
      ],
      "execution_count": null,
      "outputs": []
    },
    {
      "cell_type": "code",
      "metadata": {
        "id": "ajsVu1Jgwogq"
      },
      "source": [
        "animals = ['cat', 'dog', 'rabbit', 'horse', 'cow']\n",
        "\n",
        "# get the index of 'dog'\n",
        "index = animals.index('cow')\n",
        "\n",
        "\n",
        "print(index)\n",
        "\n",
        "# Output: 1"
      ],
      "execution_count": null,
      "outputs": []
    },
    {
      "cell_type": "code",
      "metadata": {
        "id": "QoCuuBPsuOAA"
      },
      "source": [
        "#Below are the two lists convert it into the dictionary\n",
        "keys = ['Ten', 'Twenty', 'Thirty']\n",
        "values = [10, 20, 30]\n",
        "d=dict(zip(keys,values))\n",
        "print(d)"
      ],
      "execution_count": null,
      "outputs": []
    },
    {
      "cell_type": "code",
      "metadata": {
        "id": "NRndZNaHvOLX"
      },
      "source": [
        "#Merge following two Python dictionaries into one\n",
        "\n",
        "dict1 = {'Ten': 10, 'Twenty': 20, 'Thirty': 30}\n",
        "dict2 = {'Thirty': 30, 'Fourty': 40, 'Fifty': 50}\n",
        "dict={** dict1, **dict2}\n",
        "print(dict)"
      ],
      "execution_count": null,
      "outputs": []
    },
    {
      "cell_type": "code",
      "metadata": {
        "id": "mGLnBrMvwGuB"
      },
      "source": [
        "#Alternatively\n",
        "#Merge following two Python dictionaries into one\n",
        "\n",
        "dict1 = {'Ten': 10, 'Twenty': 20, 'Thirty': 30}\n",
        "dict2 = {'Thirty': 30, 'Fourty': 40, 'Fifty': 50}\n",
        "dict3=dict1.copy()\n",
        "dict3.update(dict2)\n",
        "print(dict3)\n"
      ],
      "execution_count": null,
      "outputs": []
    },
    {
      "cell_type": "code",
      "metadata": {
        "id": "6Ilitc4lwlR3"
      },
      "source": [
        "# Access the value of key ‘history’ from the below dict\n",
        "\n",
        "sampleDict = { \n",
        "   \"class\":{ \n",
        "      \"student\":{ \n",
        "         \"name\":\"Mike\",\n",
        "         \"marks\":{ \n",
        "            \"physics\":70,\n",
        "            \"history\":80\n",
        "         }\n",
        "      }\n",
        "   }\n",
        "}\n",
        "x=[\"history\"]\n",
        "print(x)"
      ],
      "execution_count": null,
      "outputs": []
    },
    {
      "cell_type": "code",
      "metadata": {
        "id": "nC533c371RX7"
      },
      "source": [
        "#Initialize dictionary with default values\n",
        "\n",
        "#Given:*\n",
        "employees = ['Kelly', 'Emma', 'John']\n",
        "defaults = {\"designation\": 'Application Developer', \"salary\": 8000}\n",
        "dict={}\n",
        "for employees in employees:\n",
        "  dict[employees]=defaults\n",
        "  print(dict)"
      ],
      "execution_count": null,
      "outputs": []
    },
    {
      "cell_type": "code",
      "metadata": {
        "id": "ZYyvC85b17uK"
      },
      "source": [
        " #Create a new dictionary by extracting the following keys from a below dictionary\n",
        "#Given dictionary:\n",
        "\n",
        "sampleDict = {\n",
        "  \"name\": \"Kelly\",\n",
        "  \"age\":25,\n",
        "  \"salary\": 8000,\n",
        "  \"city\": \"New york\"\n",
        "  \n",
        "}\n",
        "x=sampleDict.keys()\n",
        "y=sampleDict.values()\n",
        "print(x)\n",
        "print(y)"
      ],
      "execution_count": null,
      "outputs": []
    }
  ]
}