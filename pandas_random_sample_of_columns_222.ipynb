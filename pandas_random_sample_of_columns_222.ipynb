{
  "nbformat": 4,
  "nbformat_minor": 0,
  "metadata": {
    "colab": {
      "name": "pandas-random-sample-of-columns-222.ipynb",
      "private_outputs": true,
      "provenance": [],
      "authorship_tag": "ABX9TyPHG6mbPTb7uTzbppZOfwXt",
      "include_colab_link": true
    },
    "kernelspec": {
      "name": "python3",
      "display_name": "Python 3"
    },
    "language_info": {
      "name": "python"
    }
  },
  "cells": [
    {
      "cell_type": "markdown",
      "metadata": {
        "id": "view-in-github",
        "colab_type": "text"
      },
      "source": [
        "<a href=\"https://colab.research.google.com/github/gndede/python/blob/main/pandas_random_sample_of_columns_222.ipynb\" target=\"_parent\"><img src=\"https://colab.research.google.com/assets/colab-badge.svg\" alt=\"Open In Colab\"/></a>"
      ]
    },
    {
      "cell_type": "code",
      "execution_count": null,
      "metadata": {
        "id": "CNV01kkFp_kp"
      },
      "outputs": [],
      "source": [
        "import pandas as pd\n",
        "\n",
        "data = {\n",
        "    'Name': ['Microsoft Corporation', 'Google, LLC', 'Tesla, Inc.',\\\n",
        "             'Apple Inc.', 'Netflix, Inc.'],\n",
        "    'Symbol': ['MSFT', 'GOOG', 'TSLA', 'AAPL', 'NFLX'],\n",
        "    'Shares': [100, 50, 150, 200, 80]\n",
        "}"
      ]
    },
    {
      "cell_type": "code",
      "source": [
        "df = pd.DataFrame(data)\n",
        "df"
      ],
      "metadata": {
        "id": "h3BJK4E7qJkg"
      },
      "execution_count": null,
      "outputs": []
    },
    {
      "cell_type": "code",
      "source": [
        "df_sub = df.sample(n=2, axis='columns', random_state=2)\n",
        "print(df_sub)"
      ],
      "metadata": {
        "id": "EeUDCuVTqNuk"
      },
      "execution_count": null,
      "outputs": []
    }
  ]
}