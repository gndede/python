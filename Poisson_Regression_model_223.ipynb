{
  "nbformat": 4,
  "nbformat_minor": 0,
  "metadata": {
    "colab": {
      "name": "Poisson_Regression_model-223.ipynb",
      "private_outputs": true,
      "provenance": [],
      "authorship_tag": "ABX9TyPIw6QZtmBgr5YEo4RzRSDo",
      "include_colab_link": true
    },
    "kernelspec": {
      "name": "python3",
      "display_name": "Python 3"
    },
    "language_info": {
      "name": "python"
    }
  },
  "cells": [
    {
      "cell_type": "markdown",
      "metadata": {
        "id": "view-in-github",
        "colab_type": "text"
      },
      "source": [
        "<a href=\"https://colab.research.google.com/github/gndede/python/blob/main/Poisson_Regression_model_223.ipynb\" target=\"_parent\"><img src=\"https://colab.research.google.com/assets/colab-badge.svg\" alt=\"Open In Colab\"/></a>"
      ]
    },
    {
      "cell_type": "code",
      "execution_count": null,
      "metadata": {
        "id": "OlIgC_WSNJ-I"
      },
      "outputs": [],
      "source": [
        "import pandas as pd\n",
        "from patsy import dmatrices\n",
        "import numpy as np\n",
        "import statsmodels.api as sm\n",
        "import matplotlib.pyplot as plt\n",
        "\n",
        "\n",
        "#Create a pandas DataFrame for the counts data set.\n",
        "df = pd.read_csv('/content/nyc_bb_bicyclist_counts.csv', header=0, infer_datetime_format=True, parse_dates=[0], index_col=[0])\n",
        "\n",
        "#Add a few derived regression variables.\n",
        "ds = df.index.to_series()\n",
        "df['MONTH'] = ds.dt.month\n",
        "df['DAY_OF_WEEK'] = ds.dt.dayofweek\n",
        "df['DAY'] = ds.dt.day\n",
        "\n",
        "#Create the training and testing data sets.\n",
        "mask = np.random.rand(len(df)) < 0.8\n",
        "df_train = df[mask]\n",
        "df_test = df[~mask]\n",
        "print('Training data set length='+str(len(df_train)))\n",
        "print('Testing data set length='+str(len(df_test)))\n",
        "\n",
        "#Setup the regression expression in patsy notation. We are telling patsy that BB_COUNT is our dependent variable and\n",
        "# it depends on the regression variables: DAY, DAY_OF_WEEK, MONTH, HIGH_T, LOW_T and PRECIP.\n",
        "expr = \"\"\"BB_COUNT ~ DAY  + DAY_OF_WEEK + MONTH + HIGH_T + LOW_T + PRECIP\"\"\"\n",
        "\n",
        "#Set up the X and y matrices\n",
        "y_train, X_train = dmatrices(expr, df_train, return_type='dataframe')\n",
        "y_test, X_test = dmatrices(expr, df_test, return_type='dataframe')\n",
        "\n",
        "#Using the statsmodels GLM class, train the Poisson regression model on the training data set.\n",
        "poisson_training_results = sm.GLM(y_train, X_train, family=sm.families.Poisson()).fit()\n",
        "\n",
        "#Print the training summary.\n",
        "print(poisson_training_results.summary())\n",
        "\n",
        "#Make some predictions on the test data set.\n",
        "poisson_predictions = poisson_training_results.get_prediction(X_test)\n",
        "#.summary_frame() returns a pandas DataFrame\n",
        "predictions_summary_frame = poisson_predictions.summary_frame()\n",
        "print(predictions_summary_frame)\n",
        "\n",
        "predicted_counts=predictions_summary_frame['mean']\n",
        "actual_counts = y_test['BB_COUNT']\n",
        "\n",
        "#Mlot the predicted counts versus the actual counts for the test data.\n",
        "fig = plt.figure()\n",
        "fig.suptitle('Predicted versus actual bicyclist counts on the Brooklyn bridge')\n",
        "predicted, = plt.plot(X_test.index, predicted_counts, 'go-', label='Predicted counts')\n",
        "actual, = plt.plot(X_test.index, actual_counts, 'ro-', label='Actual counts')\n",
        "plt.legend(handles=[predicted, actual])\n",
        "plt.show()\n",
        "\n",
        "#Show scatter plot of Actual versus Predicted counts\n",
        "plt.clf()\n",
        "fig = plt.figure()\n",
        "fig.suptitle('Scatter plot of Actual versus Predicted counts')\n",
        "plt.scatter(x=predicted_counts, y=actual_counts, marker='.')\n",
        "plt.xlabel('Predicted counts')\n",
        "plt.ylabel('Actual counts')\n",
        "plt.show()"
      ]
    }
  ]
}