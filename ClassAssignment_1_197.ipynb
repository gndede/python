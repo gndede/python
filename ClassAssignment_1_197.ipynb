{
  "nbformat": 4,
  "nbformat_minor": 0,
  "metadata": {
    "colab": {
      "name": "ClassAssignment-1-197.ipynb",
      "private_outputs": true,
      "provenance": [],
      "authorship_tag": "ABX9TyN2E5KuDfdoxOTzqbpsvLhb",
      "include_colab_link": true
    },
    "kernelspec": {
      "name": "python3",
      "display_name": "Python 3"
    },
    "language_info": {
      "name": "python"
    }
  },
  "cells": [
    {
      "cell_type": "markdown",
      "metadata": {
        "id": "view-in-github",
        "colab_type": "text"
      },
      "source": [
        "<a href=\"https://colab.research.google.com/github/gndede/python/blob/main/ClassAssignment_1_197.ipynb\" target=\"_parent\"><img src=\"https://colab.research.google.com/assets/colab-badge.svg\" alt=\"Open In Colab\"/></a>"
      ]
    },
    {
      "cell_type": "code",
      "metadata": {
        "id": "Qi1WcnE_BnCj"
      },
      "source": [
        "# Que 1: Write a Python program to get the Python version you are using.\n",
        "import sys # import the system library\n",
        "print(\"Python version\")\n",
        "print (sys.version)\n",
        "print(\"Version info.\")\n",
        "print (sys.version_info)"
      ],
      "execution_count": null,
      "outputs": []
    },
    {
      "cell_type": "code",
      "metadata": {
        "id": "IwdvBiRRClwd"
      },
      "source": [
        "#Que 2: Write a Python program which accepts the user's first and last name and print\n",
        "#them in reverse order with a space between them.\n",
        "first_name = str(input(\"Enter first name: \"))\n",
        "last_name = str(input(\"Enter last name: \"))\n",
        "print(\"===========================\")\n",
        "print()\n",
        "print(last_name + ', ' + first_name)"
      ],
      "execution_count": null,
      "outputs": []
    },
    {
      "cell_type": "code",
      "metadata": {
        "id": "nkq2oJ5sGzsd"
      },
      "source": [
        "#Without importing sys\n",
        "#print(!python --version)"
      ],
      "execution_count": null,
      "outputs": []
    },
    {
      "cell_type": "code",
      "metadata": {
        "id": "y4MigusXEjeD"
      },
      "source": [
        "#Que 3: Write a Python program which accepts the radius of a circle from the user and\n",
        "#compute the area\n",
        "import math\n",
        "radius = float(input(\"Radius of a Circle: \"))\n",
        "compute_area = (math.pi*radius*radius)\n",
        "print(\"Area of a Circle: \", compute_area)\n",
        "#round to 2 decimal places\n",
        "print(\"Area of circle in two decimal places: \",round(compute_area,2))"
      ],
      "execution_count": null,
      "outputs": []
    },
    {
      "cell_type": "code",
      "metadata": {
        "id": "29L0Ga90H9Ow"
      },
      "source": [
        "#Que 4: Write a Python program which accepts the width and length of a rectangle\n",
        "#from the user and compute the area and the perimeter of the rectangle \n",
        "length_rec = float(input(\"Enter length of a Rectangle: \"))\n",
        "width_rec = float(input(\"Enter width of a Rectangle: \"))\n",
        "\n",
        "#Computer the area of the rectangle\n",
        "computer_area = (length_rec * width_rec)\n",
        "print(\"Area of a Rectangle: \", computer_area)\n",
        "\n",
        "#Computer the perimeter of the rectangle\n",
        "compute_perimeter = (2*(length_rec + width_rec))\n",
        "print(\"Perimeter of a Rectangle: \", compute_perimeter)"
      ],
      "execution_count": null,
      "outputs": []
    }
  ]
}