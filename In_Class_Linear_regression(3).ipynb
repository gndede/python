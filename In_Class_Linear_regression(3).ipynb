{
  "nbformat": 4,
  "nbformat_minor": 5,
  "metadata": {
    "kernelspec": {
      "display_name": "Python 3 (ipykernel)",
      "language": "python",
      "name": "python3"
    },
    "language_info": {
      "codemirror_mode": {
        "name": "ipython",
        "version": 3
      },
      "file_extension": ".py",
      "mimetype": "text/x-python",
      "name": "python",
      "nbconvert_exporter": "python",
      "pygments_lexer": "ipython3",
      "version": "3.7.1"
    },
    "colab": {
      "name": "In_Class_Linear_regression(3).ipynb",
      "provenance": [],
      "include_colab_link": true
    }
  },
  "cells": [
    {
      "cell_type": "markdown",
      "metadata": {
        "id": "view-in-github",
        "colab_type": "text"
      },
      "source": [
        "<a href=\"https://colab.research.google.com/github/gndede/python/blob/main/In_Class_Linear_regression(3).ipynb\" target=\"_parent\"><img src=\"https://colab.research.google.com/assets/colab-badge.svg\" alt=\"Open In Colab\"/></a>"
      ]
    },
    {
      "cell_type": "code",
      "metadata": {
        "id": "015c2a6b"
      },
      "source": [
        "import numpy as np\n",
        "import pandas as pd\n",
        "from scipy import stats\n",
        "import matplotlib.pyplot as plt\n",
        "from statistics import mean\n",
        "import sklearn\n",
        "from sklearn import linear_model"
      ],
      "id": "015c2a6b",
      "execution_count": null,
      "outputs": []
    },
    {
      "cell_type": "code",
      "metadata": {
        "id": "90f7229a"
      },
      "source": [
        "#pip install sklearn"
      ],
      "id": "90f7229a",
      "execution_count": null,
      "outputs": []
    },
    {
      "cell_type": "code",
      "metadata": {
        "id": "601fff12"
      },
      "source": [
        "morris = pd.read_csv(r\"C:\\Users\\User\\Downloads\\weight-height.csv\")"
      ],
      "id": "601fff12",
      "execution_count": null,
      "outputs": []
    },
    {
      "cell_type": "code",
      "metadata": {
        "id": "d72467ce",
        "outputId": "28a04a8e-b92f-4e45-d608-3a635bd62c91"
      },
      "source": [
        "morris"
      ],
      "id": "d72467ce",
      "execution_count": null,
      "outputs": [
        {
          "data": {
            "text/html": [
              "<div>\n",
              "<style scoped>\n",
              "    .dataframe tbody tr th:only-of-type {\n",
              "        vertical-align: middle;\n",
              "    }\n",
              "\n",
              "    .dataframe tbody tr th {\n",
              "        vertical-align: top;\n",
              "    }\n",
              "\n",
              "    .dataframe thead th {\n",
              "        text-align: right;\n",
              "    }\n",
              "</style>\n",
              "<table border=\"1\" class=\"dataframe\">\n",
              "  <thead>\n",
              "    <tr style=\"text-align: right;\">\n",
              "      <th></th>\n",
              "      <th>Gender</th>\n",
              "      <th>Height</th>\n",
              "      <th>Weight</th>\n",
              "    </tr>\n",
              "  </thead>\n",
              "  <tbody>\n",
              "    <tr>\n",
              "      <th>0</th>\n",
              "      <td>Male</td>\n",
              "      <td>73.847017</td>\n",
              "      <td>241.893563</td>\n",
              "    </tr>\n",
              "    <tr>\n",
              "      <th>1</th>\n",
              "      <td>Male</td>\n",
              "      <td>68.781904</td>\n",
              "      <td>162.310473</td>\n",
              "    </tr>\n",
              "    <tr>\n",
              "      <th>2</th>\n",
              "      <td>Male</td>\n",
              "      <td>74.110105</td>\n",
              "      <td>212.740856</td>\n",
              "    </tr>\n",
              "    <tr>\n",
              "      <th>3</th>\n",
              "      <td>Male</td>\n",
              "      <td>71.730978</td>\n",
              "      <td>220.042470</td>\n",
              "    </tr>\n",
              "    <tr>\n",
              "      <th>4</th>\n",
              "      <td>Male</td>\n",
              "      <td>69.881796</td>\n",
              "      <td>206.349801</td>\n",
              "    </tr>\n",
              "    <tr>\n",
              "      <th>...</th>\n",
              "      <td>...</td>\n",
              "      <td>...</td>\n",
              "      <td>...</td>\n",
              "    </tr>\n",
              "    <tr>\n",
              "      <th>9995</th>\n",
              "      <td>Female</td>\n",
              "      <td>66.172652</td>\n",
              "      <td>136.777454</td>\n",
              "    </tr>\n",
              "    <tr>\n",
              "      <th>9996</th>\n",
              "      <td>Female</td>\n",
              "      <td>67.067155</td>\n",
              "      <td>170.867906</td>\n",
              "    </tr>\n",
              "    <tr>\n",
              "      <th>9997</th>\n",
              "      <td>Female</td>\n",
              "      <td>63.867992</td>\n",
              "      <td>128.475319</td>\n",
              "    </tr>\n",
              "    <tr>\n",
              "      <th>9998</th>\n",
              "      <td>Female</td>\n",
              "      <td>69.034243</td>\n",
              "      <td>163.852461</td>\n",
              "    </tr>\n",
              "    <tr>\n",
              "      <th>9999</th>\n",
              "      <td>Female</td>\n",
              "      <td>61.944246</td>\n",
              "      <td>113.649103</td>\n",
              "    </tr>\n",
              "  </tbody>\n",
              "</table>\n",
              "<p>10000 rows × 3 columns</p>\n",
              "</div>"
            ],
            "text/plain": [
              "      Gender     Height      Weight\n",
              "0       Male  73.847017  241.893563\n",
              "1       Male  68.781904  162.310473\n",
              "2       Male  74.110105  212.740856\n",
              "3       Male  71.730978  220.042470\n",
              "4       Male  69.881796  206.349801\n",
              "...      ...        ...         ...\n",
              "9995  Female  66.172652  136.777454\n",
              "9996  Female  67.067155  170.867906\n",
              "9997  Female  63.867992  128.475319\n",
              "9998  Female  69.034243  163.852461\n",
              "9999  Female  61.944246  113.649103\n",
              "\n",
              "[10000 rows x 3 columns]"
            ]
          },
          "execution_count": 36,
          "metadata": {},
          "output_type": "execute_result"
        }
      ]
    },
    {
      "cell_type": "code",
      "metadata": {
        "id": "a4adde5b",
        "outputId": "820313ad-0eed-4203-a4c4-8058a6325d1c"
      },
      "source": [
        "fig, ax = plt.subplots(1,1)\n",
        "ax.scatter(morris['Height'],morris['Weight'])\n",
        "ax.set_xlabel('Height')\n",
        "ax.set_ylabel('Weight')\n",
        "plt.show()"
      ],
      "id": "a4adde5b",
      "execution_count": null,
      "outputs": [
        {
          "data": {
            "image/png": "[encoded data removed]",
            "text/plain": [
              "<Figure size 432x288 with 1 Axes>"
            ]
          },
          "metadata": {
            "needs_background": "light"
          },
          "output_type": "display_data"
        }
      ]
    },
    {
      "cell_type": "code",
      "metadata": {
        "id": "4ebc848c",
        "outputId": "859a5f1e-94dc-426d-d3ae-45d09e5dad26"
      },
      "source": [
        "morris.corr()"
      ],
      "id": "4ebc848c",
      "execution_count": null,
      "outputs": [
        {
          "data": {
            "text/html": [
              "<div>\n",
              "<style scoped>\n",
              "    .dataframe tbody tr th:only-of-type {\n",
              "        vertical-align: middle;\n",
              "    }\n",
              "\n",
              "    .dataframe tbody tr th {\n",
              "        vertical-align: top;\n",
              "    }\n",
              "\n",
              "    .dataframe thead th {\n",
              "        text-align: right;\n",
              "    }\n",
              "</style>\n",
              "<table border=\"1\" class=\"dataframe\">\n",
              "  <thead>\n",
              "    <tr style=\"text-align: right;\">\n",
              "      <th></th>\n",
              "      <th>Height</th>\n",
              "      <th>Weight</th>\n",
              "    </tr>\n",
              "  </thead>\n",
              "  <tbody>\n",
              "    <tr>\n",
              "      <th>Height</th>\n",
              "      <td>1.000000</td>\n",
              "      <td>0.924756</td>\n",
              "    </tr>\n",
              "    <tr>\n",
              "      <th>Weight</th>\n",
              "      <td>0.924756</td>\n",
              "      <td>1.000000</td>\n",
              "    </tr>\n",
              "  </tbody>\n",
              "</table>\n",
              "</div>"
            ],
            "text/plain": [
              "          Height    Weight\n",
              "Height  1.000000  0.924756\n",
              "Weight  0.924756  1.000000"
            ]
          },
          "execution_count": 38,
          "metadata": {},
          "output_type": "execute_result"
        }
      ]
    },
    {
      "cell_type": "code",
      "metadata": {
        "id": "8d620cf8"
      },
      "source": [
        "#Create linear regression object\n",
        "lm = linear_model.LinearRegression()"
      ],
      "id": "8d620cf8",
      "execution_count": null,
      "outputs": []
    },
    {
      "cell_type": "code",
      "metadata": {
        "id": "0a7563f1",
        "outputId": "014a715c-8575-4443-f2a7-a5b2b1bc666a"
      },
      "source": [
        "#Train the model using the training sets\n",
        "lm.fit(morris.Height[:,np.newaxis], morris.Weight)"
      ],
      "id": "0a7563f1",
      "execution_count": null,
      "outputs": [
        {
          "name": "stderr",
          "output_type": "stream",
          "text": [
            "C:\\Users\\User\\anaconda3\\envs\\rstudio\\lib\\site-packages\\ipykernel_launcher.py:2: FutureWarning: Support for multi-dimensional indexing (e.g. `obj[:, None]`) is deprecated and will be removed in a future version.  Convert to a numpy array before indexing instead.\n",
            "  \n"
          ]
        },
        {
          "data": {
            "text/plain": [
              "LinearRegression()"
            ]
          },
          "execution_count": 40,
          "metadata": {},
          "output_type": "execute_result"
        }
      ]
    },
    {
      "cell_type": "code",
      "metadata": {
        "id": "decc0f39",
        "outputId": "e25426a3-31c4-4d90-ca56-6a1028e43b28"
      },
      "source": [
        "print ('Intercept is' + str(lm.intercept_)+ '\\n')\n"
      ],
      "id": "decc0f39",
      "execution_count": null,
      "outputs": [
        {
          "name": "stdout",
          "output_type": "stream",
          "text": [
            "Intercept is-350.73719181213664\n",
            "\n"
          ]
        }
      ]
    },
    {
      "cell_type": "code",
      "metadata": {
        "id": "4f4a453e",
        "outputId": "add771d3-150c-4622-8dc7-d74ec3ea1423"
      },
      "source": [
        "print('Coefficient value of the height is ' + str(lm.coef_) + '\\n')"
      ],
      "id": "4f4a453e",
      "execution_count": null,
      "outputs": [
        {
          "name": "stdout",
          "output_type": "stream",
          "text": [
            "Coefficient value of the height is [7.71728764]\n",
            "\n"
          ]
        }
      ]
    },
    {
      "cell_type": "code",
      "metadata": {
        "id": "785a5e61",
        "outputId": "344050b2-5817-4e9d-e08d-1afb4fb9577b"
      },
      "source": [
        "print(pd.DataFrame(zip(morris.columns, lm.coef_), columns = ['features', 'estimatedCoefficients']))"
      ],
      "id": "785a5e61",
      "execution_count": null,
      "outputs": [
        {
          "name": "stdout",
          "output_type": "stream",
          "text": [
            "  features  estimatedCoefficients\n",
            "0   Gender               7.717288\n"
          ]
        }
      ]
    },
    {
      "cell_type": "code",
      "metadata": {
        "scrolled": true,
        "id": "68e93817",
        "outputId": "b80652a0-71ab-4e54-b9ba-2cf30db98b08"
      },
      "source": [
        "fig, ax = plt.subplots(1,1)\n",
        "ax.scatter(morris.Height, morris.Weight)\n",
        "ax.plot(morris.Height,lm.predict(morris.Height[:, np.newaxis]), color = 'red')\n",
        "\n",
        "ax.set_xlabel('Height')\n",
        "ax.set_xlabel('Weight')\n",
        "plt.show()"
      ],
      "id": "68e93817",
      "execution_count": null,
      "outputs": [
        {
          "name": "stderr",
          "output_type": "stream",
          "text": [
            "C:\\Users\\User\\anaconda3\\envs\\rstudio\\lib\\site-packages\\ipykernel_launcher.py:3: FutureWarning: Support for multi-dimensional indexing (e.g. `obj[:, None]`) is deprecated and will be removed in a future version.  Convert to a numpy array before indexing instead.\n",
            "  This is separate from the ipykernel package so we can avoid doing imports until\n"
          ]
        },
        {
          "data": {
            "image/png": "[encoded data removed]",
            "text/plain": [
              "<Figure size 432x288 with 1 Axes>"
            ]
          },
          "metadata": {
            "needs_background": "light"
          },
          "output_type": "display_data"
        }
      ]
    },
    {
      "cell_type": "code",
      "metadata": {
        "id": "704f2698"
      },
      "source": [
        "morris = pd.read_csv(r\"C:\\Users\\User\\Downloads\\train_data_1.csv\") #, header=None, delim_whitespace=True)"
      ],
      "id": "704f2698",
      "execution_count": null,
      "outputs": []
    },
    {
      "cell_type": "code",
      "metadata": {
        "id": "04fd4a48"
      },
      "source": [
        "#morris"
      ],
      "id": "04fd4a48",
      "execution_count": null,
      "outputs": []
    },
    {
      "cell_type": "code",
      "metadata": {
        "id": "fa266d6f"
      },
      "source": [
        "#drop unwanted columns\n",
        "cleanmorris=morris.drop(columns=['ID','Unnamed: 6','Unnamed: 7'])"
      ],
      "id": "fa266d6f",
      "execution_count": null,
      "outputs": []
    },
    {
      "cell_type": "code",
      "metadata": {
        "id": "421248c4"
      },
      "source": [
        "#change the column name Average points scored per game to Average\n",
        "cleanmorris = cleanmorris.rename(columns={\"Average points scored per game\":\"Average\"})"
      ],
      "id": "421248c4",
      "execution_count": null,
      "outputs": []
    },
    {
      "cell_type": "code",
      "metadata": {
        "id": "38bd5163",
        "outputId": "c9042ee2-8192-4a8d-f1f7-05e8b6259074"
      },
      "source": [
        "cleanmorris.head(5)"
      ],
      "id": "38bd5163",
      "execution_count": null,
      "outputs": [
        {
          "data": {
            "text/html": [
              "<div>\n",
              "<style scoped>\n",
              "    .dataframe tbody tr th:only-of-type {\n",
              "        vertical-align: middle;\n",
              "    }\n",
              "\n",
              "    .dataframe tbody tr th {\n",
              "        vertical-align: top;\n",
              "    }\n",
              "\n",
              "    .dataframe thead th {\n",
              "        text-align: right;\n",
              "    }\n",
              "</style>\n",
              "<table border=\"1\" class=\"dataframe\">\n",
              "  <thead>\n",
              "    <tr style=\"text-align: right;\">\n",
              "      <th></th>\n",
              "      <th>Height</th>\n",
              "      <th>Weight</th>\n",
              "      <th>% Success_Field Goals</th>\n",
              "      <th>%percent of successful free throws</th>\n",
              "      <th>Average</th>\n",
              "    </tr>\n",
              "  </thead>\n",
              "  <tbody>\n",
              "    <tr>\n",
              "      <th>0</th>\n",
              "      <td>6.7</td>\n",
              "      <td>240</td>\n",
              "      <td>0.516</td>\n",
              "      <td>0.728</td>\n",
              "      <td>8.9</td>\n",
              "    </tr>\n",
              "    <tr>\n",
              "      <th>1</th>\n",
              "      <td>7.3</td>\n",
              "      <td>263</td>\n",
              "      <td>0.482</td>\n",
              "      <td>0.655</td>\n",
              "      <td>7.2</td>\n",
              "    </tr>\n",
              "    <tr>\n",
              "      <th>2</th>\n",
              "      <td>6.3</td>\n",
              "      <td>185</td>\n",
              "      <td>0.374</td>\n",
              "      <td>0.709</td>\n",
              "      <td>8.1</td>\n",
              "    </tr>\n",
              "    <tr>\n",
              "      <th>3</th>\n",
              "      <td>6.8</td>\n",
              "      <td>210</td>\n",
              "      <td>0.402</td>\n",
              "      <td>0.739</td>\n",
              "      <td>8.7</td>\n",
              "    </tr>\n",
              "    <tr>\n",
              "      <th>4</th>\n",
              "      <td>5.8</td>\n",
              "      <td>180</td>\n",
              "      <td>0.425</td>\n",
              "      <td>0.872</td>\n",
              "      <td>11.8</td>\n",
              "    </tr>\n",
              "  </tbody>\n",
              "</table>\n",
              "</div>"
            ],
            "text/plain": [
              "   Height  Weight  % Success_Field Goals  %percent of successful free throws  \\\n",
              "0     6.7     240                  0.516                               0.728   \n",
              "1     7.3     263                  0.482                               0.655   \n",
              "2     6.3     185                  0.374                               0.709   \n",
              "3     6.8     210                  0.402                               0.739   \n",
              "4     5.8     180                  0.425                               0.872   \n",
              "\n",
              "   Average  \n",
              "0      8.9  \n",
              "1      7.2  \n",
              "2      8.1  \n",
              "3      8.7  \n",
              "4     11.8  "
            ]
          },
          "execution_count": 117,
          "metadata": {},
          "output_type": "execute_result"
        }
      ]
    },
    {
      "cell_type": "code",
      "metadata": {
        "id": "6664a7bc",
        "outputId": "d33ca4c4-4a44-41ca-b118-70d7650de472"
      },
      "source": [
        "cleanmorris.describe()"
      ],
      "id": "6664a7bc",
      "execution_count": null,
      "outputs": [
        {
          "data": {
            "text/html": [
              "<div>\n",
              "<style scoped>\n",
              "    .dataframe tbody tr th:only-of-type {\n",
              "        vertical-align: middle;\n",
              "    }\n",
              "\n",
              "    .dataframe tbody tr th {\n",
              "        vertical-align: top;\n",
              "    }\n",
              "\n",
              "    .dataframe thead th {\n",
              "        text-align: right;\n",
              "    }\n",
              "</style>\n",
              "<table border=\"1\" class=\"dataframe\">\n",
              "  <thead>\n",
              "    <tr style=\"text-align: right;\">\n",
              "      <th></th>\n",
              "      <th>Height</th>\n",
              "      <th>Weight</th>\n",
              "      <th>% Success_Field Goals</th>\n",
              "      <th>%percent of successful free throws</th>\n",
              "      <th>Average</th>\n",
              "    </tr>\n",
              "  </thead>\n",
              "  <tbody>\n",
              "    <tr>\n",
              "      <th>count</th>\n",
              "      <td>43.000000</td>\n",
              "      <td>43.000000</td>\n",
              "      <td>43.000000</td>\n",
              "      <td>43.000000</td>\n",
              "      <td>43.000000</td>\n",
              "    </tr>\n",
              "    <tr>\n",
              "      <th>mean</th>\n",
              "      <td>6.597674</td>\n",
              "      <td>210.116279</td>\n",
              "      <td>0.446767</td>\n",
              "      <td>0.735744</td>\n",
              "      <td>11.388372</td>\n",
              "    </tr>\n",
              "    <tr>\n",
              "      <th>std</th>\n",
              "      <td>0.477338</td>\n",
              "      <td>31.051577</td>\n",
              "      <td>0.060579</td>\n",
              "      <td>0.105547</td>\n",
              "      <td>5.496501</td>\n",
              "    </tr>\n",
              "    <tr>\n",
              "      <th>min</th>\n",
              "      <td>5.700000</td>\n",
              "      <td>105.000000</td>\n",
              "      <td>0.291000</td>\n",
              "      <td>0.244000</td>\n",
              "      <td>2.800000</td>\n",
              "    </tr>\n",
              "    <tr>\n",
              "      <th>25%</th>\n",
              "      <td>6.200000</td>\n",
              "      <td>185.000000</td>\n",
              "      <td>0.414500</td>\n",
              "      <td>0.708000</td>\n",
              "      <td>8.000000</td>\n",
              "    </tr>\n",
              "    <tr>\n",
              "      <th>50%</th>\n",
              "      <td>6.700000</td>\n",
              "      <td>210.000000</td>\n",
              "      <td>0.442000</td>\n",
              "      <td>0.747000</td>\n",
              "      <td>9.600000</td>\n",
              "    </tr>\n",
              "    <tr>\n",
              "      <th>75%</th>\n",
              "      <td>6.900000</td>\n",
              "      <td>235.000000</td>\n",
              "      <td>0.484500</td>\n",
              "      <td>0.784500</td>\n",
              "      <td>13.600000</td>\n",
              "    </tr>\n",
              "    <tr>\n",
              "      <th>max</th>\n",
              "      <td>7.600000</td>\n",
              "      <td>263.000000</td>\n",
              "      <td>0.599000</td>\n",
              "      <td>0.900000</td>\n",
              "      <td>25.000000</td>\n",
              "    </tr>\n",
              "  </tbody>\n",
              "</table>\n",
              "</div>"
            ],
            "text/plain": [
              "          Height      Weight  % Success_Field Goals  \\\n",
              "count  43.000000   43.000000              43.000000   \n",
              "mean    6.597674  210.116279               0.446767   \n",
              "std     0.477338   31.051577               0.060579   \n",
              "min     5.700000  105.000000               0.291000   \n",
              "25%     6.200000  185.000000               0.414500   \n",
              "50%     6.700000  210.000000               0.442000   \n",
              "75%     6.900000  235.000000               0.484500   \n",
              "max     7.600000  263.000000               0.599000   \n",
              "\n",
              "       %percent of successful free throws    Average  \n",
              "count                           43.000000  43.000000  \n",
              "mean                             0.735744  11.388372  \n",
              "std                              0.105547   5.496501  \n",
              "min                              0.244000   2.800000  \n",
              "25%                              0.708000   8.000000  \n",
              "50%                              0.747000   9.600000  \n",
              "75%                              0.784500  13.600000  \n",
              "max                              0.900000  25.000000  "
            ]
          },
          "execution_count": 118,
          "metadata": {},
          "output_type": "execute_result"
        }
      ]
    },
    {
      "cell_type": "code",
      "metadata": {
        "id": "a5092ff1",
        "outputId": "ec90a4d5-eb95-4b52-c6f6-2a0bd7c0e304"
      },
      "source": [
        "cleanmorris.corr()"
      ],
      "id": "a5092ff1",
      "execution_count": null,
      "outputs": [
        {
          "data": {
            "text/html": [
              "<div>\n",
              "<style scoped>\n",
              "    .dataframe tbody tr th:only-of-type {\n",
              "        vertical-align: middle;\n",
              "    }\n",
              "\n",
              "    .dataframe tbody tr th {\n",
              "        vertical-align: top;\n",
              "    }\n",
              "\n",
              "    .dataframe thead th {\n",
              "        text-align: right;\n",
              "    }\n",
              "</style>\n",
              "<table border=\"1\" class=\"dataframe\">\n",
              "  <thead>\n",
              "    <tr style=\"text-align: right;\">\n",
              "      <th></th>\n",
              "      <th>Height</th>\n",
              "      <th>Weight</th>\n",
              "      <th>% Success_Field Goals</th>\n",
              "      <th>%percent of successful free throws</th>\n",
              "      <th>Average</th>\n",
              "    </tr>\n",
              "  </thead>\n",
              "  <tbody>\n",
              "    <tr>\n",
              "      <th>Height</th>\n",
              "      <td>1.000000</td>\n",
              "      <td>0.831628</td>\n",
              "      <td>0.576347</td>\n",
              "      <td>-0.213619</td>\n",
              "      <td>-0.025148</td>\n",
              "    </tr>\n",
              "    <tr>\n",
              "      <th>Weight</th>\n",
              "      <td>0.831628</td>\n",
              "      <td>1.000000</td>\n",
              "      <td>0.606631</td>\n",
              "      <td>-0.232971</td>\n",
              "      <td>-0.060340</td>\n",
              "    </tr>\n",
              "    <tr>\n",
              "      <th>% Success_Field Goals</th>\n",
              "      <td>0.576347</td>\n",
              "      <td>0.606631</td>\n",
              "      <td>1.000000</td>\n",
              "      <td>-0.072287</td>\n",
              "      <td>0.360845</td>\n",
              "    </tr>\n",
              "    <tr>\n",
              "      <th>%percent of successful free throws</th>\n",
              "      <td>-0.213619</td>\n",
              "      <td>-0.232971</td>\n",
              "      <td>-0.072287</td>\n",
              "      <td>1.000000</td>\n",
              "      <td>0.226028</td>\n",
              "    </tr>\n",
              "    <tr>\n",
              "      <th>Average</th>\n",
              "      <td>-0.025148</td>\n",
              "      <td>-0.060340</td>\n",
              "      <td>0.360845</td>\n",
              "      <td>0.226028</td>\n",
              "      <td>1.000000</td>\n",
              "    </tr>\n",
              "  </tbody>\n",
              "</table>\n",
              "</div>"
            ],
            "text/plain": [
              "                                      Height    Weight  % Success_Field Goals  \\\n",
              "Height                              1.000000  0.831628               0.576347   \n",
              "Weight                              0.831628  1.000000               0.606631   \n",
              "% Success_Field Goals               0.576347  0.606631               1.000000   \n",
              "%percent of successful free throws -0.213619 -0.232971              -0.072287   \n",
              "Average                            -0.025148 -0.060340               0.360845   \n",
              "\n",
              "                                    %percent of successful free throws  \\\n",
              "Height                                                       -0.213619   \n",
              "Weight                                                       -0.232971   \n",
              "% Success_Field Goals                                        -0.072287   \n",
              "%percent of successful free throws                            1.000000   \n",
              "Average                                                       0.226028   \n",
              "\n",
              "                                     Average  \n",
              "Height                             -0.025148  \n",
              "Weight                             -0.060340  \n",
              "% Success_Field Goals               0.360845  \n",
              "%percent of successful free throws  0.226028  \n",
              "Average                             1.000000  "
            ]
          },
          "execution_count": 119,
          "metadata": {},
          "output_type": "execute_result"
        }
      ]
    },
    {
      "cell_type": "code",
      "metadata": {
        "id": "13ceac6d",
        "outputId": "9c8a3ef0-4bbd-4f1a-8257-88895436ec06"
      },
      "source": [
        "fig, ax = plt.subplots(1,1)\n",
        "ax.scatter(cleanmorris.Height, cleanmorris.Average)\n",
        "ax.set_xlabel('Height in Centimenters')\n",
        "ax.set_ylabel('Average Point scored per game')\n",
        "plt.show()"
      ],
      "id": "13ceac6d",
      "execution_count": null,
      "outputs": [
        {
          "data": {
            "image/png": "[encoded data removed]",
            "text/plain": [
              "<Figure size 432x288 with 1 Axes>"
            ]
          },
          "metadata": {
            "needs_background": "light"
          },
          "output_type": "display_data"
        }
      ]
    },
    {
      "cell_type": "code",
      "metadata": {
        "id": "349fa876"
      },
      "source": [
        ""
      ],
      "id": "349fa876",
      "execution_count": null,
      "outputs": []
    },
    {
      "cell_type": "code",
      "metadata": {
        "id": "942fe12f"
      },
      "source": [
        ""
      ],
      "id": "942fe12f",
      "execution_count": null,
      "outputs": []
    }
  ]
}