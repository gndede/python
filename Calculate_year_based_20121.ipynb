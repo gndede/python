{
  "nbformat": 4,
  "nbformat_minor": 0,
  "metadata": {
    "colab": {
      "name": "Calculate-year_based_20121.ipynb",
      "private_outputs": true,
      "provenance": [],
      "collapsed_sections": [],
      "authorship_tag": "ABX9TyNK5pWWhHuXFNyz7ZBUF1LD",
      "include_colab_link": true
    },
    "kernelspec": {
      "name": "python3",
      "display_name": "Python 3"
    },
    "language_info": {
      "name": "python"
    }
  },
  "cells": [
    {
      "cell_type": "markdown",
      "metadata": {
        "id": "view-in-github",
        "colab_type": "text"
      },
      "source": [
        "<a href=\"https://colab.research.google.com/github/gndede/python/blob/main/Calculate_year_based_20121.ipynb\" target=\"_parent\"><img src=\"https://colab.research.google.com/assets/colab-badge.svg\" alt=\"Open In Colab\"/></a>"
      ]
    },
    {
      "cell_type": "code",
      "metadata": {
        "id": "0YfRl-sUrcpX"
      },
      "source": [
        "import datetime\n",
        "#3:Enter the customer details\n",
        "first_name = str(input(\"Enter first Name: \"))\n",
        "last_name = str(input(\"Enter last Name: \"))\n",
        "print()\n",
        "birth_year = int(input(\"Enter year of birth: \"))\n",
        "birth_month = int(input(\"Enter month of birth: \"))\n",
        "birth_day = int(input(\"Enter day of birth: \"))\n",
        " \n",
        "current_year = datetime.date.today().year\n",
        "current_month = datetime.date.today().month\n",
        "current_day = datetime.date.today().day\n",
        " \n",
        "age_year = current_year - birth_year\n",
        "age_month = abs(current_month-birth_month)\n",
        "age_day = abs(current_day-birth_day)\n",
        "\n",
        "if age_year > 17:\n",
        "    print (\"Yes, you may watch a R-rated movie\")\n",
        "elif age_year >12 <17:\n",
        "    print (\"Yes, you may watch a movie PG-13 rated\")   \n",
        "else:\n",
        "    print(\"Yes, you may only watch PG-rated movies.\")  \n",
        "print(\"----------------------------------------------\")\n",
        "print(\"Because your exact age is: \", age_year, \"Years\", age_month, \"month(s) and\", age_day, \"days\") "
      ],
      "execution_count": null,
      "outputs": []
    }
  ]
}