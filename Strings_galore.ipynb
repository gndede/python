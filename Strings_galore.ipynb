{
  "nbformat": 4,
  "nbformat_minor": 0,
  "metadata": {
    "colab": {
      "name": "Strings_galore.ipynb",
      "private_outputs": true,
      "provenance": [],
      "collapsed_sections": [],
      "authorship_tag": "ABX9TyNNsvrKFLxhfR9xRs89Diq9",
      "include_colab_link": true
    },
    "kernelspec": {
      "name": "python3",
      "display_name": "Python 3"
    },
    "language_info": {
      "name": "python"
    }
  },
  "cells": [
    {
      "cell_type": "markdown",
      "metadata": {
        "id": "view-in-github",
        "colab_type": "text"
      },
      "source": [
        "<a href=\"https://colab.research.google.com/github/gndede/python/blob/main/Strings_galore.ipynb\" target=\"_parent\"><img src=\"https://colab.research.google.com/assets/colab-badge.svg\" alt=\"Open In Colab\"/></a>"
      ]
    },
    {
      "cell_type": "code",
      "metadata": {
        "id": "cOfrx1QOpe58"
      },
      "source": [
        "#name = George Ndede\n",
        "#a, c\n",
        "\n",
        "name = \"John Jacob Jingleheimer Schmidt\"\n",
        "first, *last = name.split()\n",
        "print(\"First = {first}\".format(first=first))\n",
        "#First = John\n",
        "print(\"Last = {last}\".format(last=\" \".join(last)))\n",
        "#Last = Jacob Jingleheimer Schmidt"
      ],
      "execution_count": null,
      "outputs": []
    },
    {
      "cell_type": "code",
      "metadata": {
        "id": "zO9JyXbgrcx5"
      },
      "source": [
        "name = \"John Schmidt\"\n",
        "first, *last = name.split()\n",
        "print(\"First = {first}\".format(first=first))\n",
        "#First = John\n",
        "print(\"Last = {last}\".format(last=\" \".join(last)))\n",
        "#Last = Schmidt"
      ],
      "execution_count": null,
      "outputs": []
    },
    {
      "cell_type": "code",
      "metadata": {
        "id": "nwQCvWyirnYI"
      },
      "source": [
        "name = \"John Jacob Jingleheimer Schmidt\"\n",
        "first, middle, *last = name.split()\n",
        "print(\"First = {first}\".format(first=first))\n",
        "#First = John\n",
        "print(\"Middle = {middle}\".format(middle=middle))\n",
        "#Middle = Jacob\n",
        "print(\"Last = {last}\".format(last=\" \".join(last)))\n",
        "#Last = Jingleheimer Schmidt"
      ],
      "execution_count": null,
      "outputs": []
    },
    {
      "cell_type": "code",
      "metadata": {
        "id": "ZdTwQjeyrwKy"
      },
      "source": [
        "address = \"John Jacob Jingleheimer Schmidt\"\n",
        "first, middle, *last = address.split()\n",
        "\n",
        "print(\"First = {first}\".format(first=first))\n",
        "\n",
        "#First = John\n",
        "print(\"Middle = {middle}\".format(middle=middle))\n",
        "#Middle = Jacob\n",
        "print(\"Last = {last}\".format(last=\" \".join(last)))\n",
        "#Last = Jingleheimer Schmidt"
      ],
      "execution_count": null,
      "outputs": []
    },
    {
      "cell_type": "code",
      "metadata": {
        "id": "hf9SGdGbsr8v"
      },
      "source": [
        "full_name = \"Jorge M. Ramon\"\n",
        "address = \"405 Rock Plant Lane, Fort Worth, Texas, 76144, email@gmail.com, (817)-323-8783\"\n",
        "first, MiddleInitial, last = full_name.split(\" \", 3)\n",
        "street, street1, street2, street3, street4 = address.split(\" \", 4)\n",
        "#street5 = address.split(\" \", 4)\n",
        "#street, city, state, zipcode = address.split(\" \", 4)\n",
        "print(first+\" \"+MiddleInitial+\" \"+last)\n",
        "\n",
        "print(street+ \" \"+street1+\" \"+street2+\" \"+street3)\n",
        "print(street4)\n",
        "# \" \"+street5 )"
      ],
      "execution_count": null,
      "outputs": []
    },
    {
      "cell_type": "code",
      "metadata": {
        "id": "KPAMDfE92JM0"
      },
      "source": [
        "pip install nameparser"
      ],
      "execution_count": null,
      "outputs": []
    },
    {
      "cell_type": "code",
      "metadata": {
        "id": "19DtLuro2GGO"
      },
      "source": [
        "from nameparser import HumanName\n",
        "\n",
        "# Here's a full name, with a nickname\n",
        "full_name = 'Mr. Mathew \"The Boss\" Oloo'\n",
        "\n",
        "# Extract values\n",
        "parsed_name = HumanName(full_name)\n",
        "\n",
        "# Get just the first and last name\n",
        "f_name = parsed_name.first\n",
        "l_name = parsed_name.last\n",
        "\n",
        "print(f_name, l_name)\n",
        "# Lin-Manuel Miranda\n",
        "\n",
        "# ------------------------------\n",
        "\n",
        "# If you want to see everything:\n",
        "parsed_name.as_dict()\n",
        "{'title': 'Mr.',\n",
        " 'first': 'Mathew',\n",
        " 'middle': '',\n",
        " 'last': 'Oloo',\n",
        " 'suffix': '',\n",
        " 'nickname': 'The Boss'}"
      ],
      "execution_count": null,
      "outputs": []
    },
    {
      "cell_type": "code",
      "metadata": {
        "id": "z5Eob32H2-Oy"
      },
      "source": [
        "txt = \"hello, my name is Peter, I am 26 years old\"\n",
        "\n",
        "x = txt.split(\", \")\n",
        "\n",
        "print(x)"
      ],
      "execution_count": null,
      "outputs": []
    },
    {
      "cell_type": "code",
      "metadata": {
        "id": "gNbUf0Q33bgk"
      },
      "source": [
        "txt = \"413 Rockanne Blvd, Fort Worth, Texas, 76151, email@email.com, 814-325-2254\"\n",
        "\n",
        "x = txt.split(\", \")\n",
        "\n",
        "print(x)"
      ],
      "execution_count": null,
      "outputs": []
    }
  ]
}