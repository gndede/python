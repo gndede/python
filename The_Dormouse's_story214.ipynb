{
  "nbformat": 4,
  "nbformat_minor": 0,
  "metadata": {
    "colab": {
      "name": "The Dormouse's story214.ipynb",
      "private_outputs": true,
      "provenance": [],
      "collapsed_sections": [],
      "authorship_tag": "ABX9TyOM7TBkzw2EPs65GHmTf6NT",
      "include_colab_link": true
    },
    "kernelspec": {
      "name": "python3",
      "display_name": "Python 3"
    },
    "language_info": {
      "name": "python"
    }
  },
  "cells": [
    {
      "cell_type": "markdown",
      "metadata": {
        "id": "view-in-github",
        "colab_type": "text"
      },
      "source": [
        "<a href=\"https://colab.research.google.com/github/gndede/python/blob/main/The_Dormouse's_story214.ipynb\" target=\"_parent\"><img src=\"https://colab.research.google.com/assets/colab-badge.svg\" alt=\"Open In Colab\"/></a>"
      ]
    },
    {
      "cell_type": "code",
      "metadata": {
        "id": "6RS6b-WfyYMs"
      },
      "source": [
        "html_doc = \"\"\"\n",
        "<html><head><title>The Dormouse's story</title></head>\n",
        "<body>\n",
        "<p class=\"title\"><b>The Dormouse's story</b></p>\n",
        "\n",
        "<p class=\"story\">Once upon a time there were three little sisters; and their names were\n",
        "<a href=\"http://example.com/elsie\" class=\"sister\" id=\"link1\">Elsie</a>,\n",
        "<a href=\"http://example.com/lacie\" class=\"sister\" id=\"link2\">Lacie</a> and\n",
        "<a href=\"http://example.com/tillie\" class=\"sister\" id=\"link3\">Tillie</a>;\n",
        "and they lived at the bottom of a well.</p>\n",
        "\n",
        "<p class=\"story\">...</p>\n",
        "\"\"\""
      ],
      "execution_count": null,
      "outputs": []
    },
    {
      "cell_type": "code",
      "metadata": {
        "id": "y8Z6bK5Dykia"
      },
      "source": [
        "from bs4 import BeautifulSoup"
      ],
      "execution_count": null,
      "outputs": []
    },
    {
      "cell_type": "code",
      "metadata": {
        "id": "gOPfMJQbysCO"
      },
      "source": [
        "soup = BeautifulSoup(html_doc, 'html.parser')\n",
        "print(soup.prettify())\n",
        "# <html>\n",
        "#  <head>\n",
        "#   <title>\n",
        "#    The Dormouse's story\n",
        "#   </title>\n",
        "#  </head>\n",
        "#  <body>\n",
        "#   <p class=\"title\">\n",
        "#    <b>\n",
        "#     The Dormouse's story\n",
        "#    </b>\n",
        "#   </p>\n",
        "#   <p class=\"story\">\n",
        "#    Once upon a time there were three little sisters; and their names were\n",
        "#    <a class=\"sister\" href=\"http://example.com/elsie\" id=\"link1\">\n",
        "#     Elsie\n",
        "#    </a>\n",
        "#    ,\n",
        "#    <a class=\"sister\" href=\"http://example.com/lacie\" id=\"link2\">\n",
        "#     Lacie\n",
        "#    </a>\n",
        "#    and\n",
        "#    <a class=\"sister\" href=\"http://example.com/tillie\" id=\"link2\">\n",
        "#     Tillie\n",
        "#    </a>\n",
        "#    ; and they lived at the bottom of a well.\n",
        "#   </p>\n",
        "#   <p class=\"story\">\n",
        "#    ...\n",
        "#   </p>\n",
        "#  </body>\n",
        "# </html>"
      ],
      "execution_count": null,
      "outputs": []
    },
    {
      "cell_type": "code",
      "metadata": {
        "id": "22nOcoeFz_zw"
      },
      "source": [
        "#print(soup.prettify())"
      ],
      "execution_count": null,
      "outputs": []
    },
    {
      "cell_type": "code",
      "metadata": {
        "id": "ytw_knv40eLE"
      },
      "source": [
        "soup.title"
      ],
      "execution_count": null,
      "outputs": []
    },
    {
      "cell_type": "code",
      "metadata": {
        "id": "XArbjR-x0op_"
      },
      "source": [
        "soup.title.name"
      ],
      "execution_count": null,
      "outputs": []
    },
    {
      "cell_type": "code",
      "metadata": {
        "id": "hgK6_coo0y3w"
      },
      "source": [
        "soup.title.string"
      ],
      "execution_count": null,
      "outputs": []
    },
    {
      "cell_type": "code",
      "metadata": {
        "id": "hq3c_IJ707Pr"
      },
      "source": [
        "soup.title.parent.name"
      ],
      "execution_count": null,
      "outputs": []
    },
    {
      "cell_type": "code",
      "metadata": {
        "id": "3On3xDXe1HYg"
      },
      "source": [
        "soup.title.string"
      ],
      "execution_count": null,
      "outputs": []
    },
    {
      "cell_type": "code",
      "metadata": {
        "id": "J1X5pLCv2M7a"
      },
      "source": [
        "soup.p['class']"
      ],
      "execution_count": null,
      "outputs": []
    },
    {
      "cell_type": "code",
      "metadata": {
        "id": "I8p4kh932gkZ"
      },
      "source": [
        "soup.a"
      ],
      "execution_count": null,
      "outputs": []
    },
    {
      "cell_type": "code",
      "metadata": {
        "id": "o0IbSWlF0wbU"
      },
      "source": [
        "soup.title.string\n",
        "# u'The Dormouse's story'\n",
        "\n",
        "soup.title.parent.name\n",
        "# u'head'\n",
        "\n",
        "soup.p\n",
        "# <p class=\"title\"><b>The Dormouse's story</b></p>\n",
        "\n",
        "soup.p['class']\n",
        "# u'title'\n",
        "\n",
        "soup.a\n",
        "# <a class=\"sister\" href=\"http://example.com/elsie\" id=\"link1\">Elsie</a>\n",
        "\n",
        "soup.find_all('a')\n",
        "# [<a class=\"sister\" href=\"http://example.com/elsie\" id=\"link1\">Elsie</a>,\n",
        "#  <a class=\"sister\" href=\"http://example.com/lacie\" id=\"link2\">Lacie</a>,\n",
        "#  <a class=\"sister\" href=\"http://example.com/tillie\" id=\"link3\">Tillie</a>]\n",
        "\n",
        "soup.find(id=\"link3\")\n",
        "# <a class=\"sister\" href=\"http://example.com/tillie\" id=\"link3\">Tillie</a>"
      ],
      "execution_count": null,
      "outputs": []
    },
    {
      "cell_type": "code",
      "metadata": {
        "id": "mh1z_KQn2x4X"
      },
      "source": [
        "soup.find_all('a')"
      ],
      "execution_count": null,
      "outputs": []
    },
    {
      "cell_type": "code",
      "metadata": {
        "id": "1gWwDeUF21Jh"
      },
      "source": [
        "soup.find_all('p')"
      ],
      "execution_count": null,
      "outputs": []
    },
    {
      "cell_type": "code",
      "metadata": {
        "id": "TiOCk5cF27yf"
      },
      "source": [
        "soup.find(id=\"link3\")"
      ],
      "execution_count": null,
      "outputs": []
    },
    {
      "cell_type": "code",
      "metadata": {
        "id": "-VKxcjl63Mnj"
      },
      "source": [
        "for link in soup.find_all('a'):\n",
        "    print(link.get('href'))"
      ],
      "execution_count": null,
      "outputs": []
    },
    {
      "cell_type": "code",
      "metadata": {
        "id": "y1lJjo0u3g4B"
      },
      "source": [
        "print(soup.get_text())"
      ],
      "execution_count": null,
      "outputs": []
    }
  ]
}