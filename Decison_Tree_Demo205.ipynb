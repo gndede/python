{
  "nbformat": 4,
  "nbformat_minor": 0,
  "metadata": {
    "colab": {
      "name": "Decison-Tree-Demo205.ipynb",
      "private_outputs": true,
      "provenance": [],
      "collapsed_sections": [],
      "authorship_tag": "ABX9TyNLjGHEDxqUFBBDQBUcb/n4",
      "include_colab_link": true
    },
    "kernelspec": {
      "name": "python3",
      "display_name": "Python 3"
    },
    "language_info": {
      "name": "python"
    }
  },
  "cells": [
    {
      "cell_type": "markdown",
      "metadata": {
        "id": "view-in-github",
        "colab_type": "text"
      },
      "source": [
        "<a href=\"https://colab.research.google.com/github/gndede/python/blob/main/Decison_Tree_Demo205.ipynb\" target=\"_parent\"><img src=\"https://colab.research.google.com/assets/colab-badge.svg\" alt=\"Open In Colab\"/></a>"
      ]
    },
    {
      "cell_type": "code",
      "metadata": {
        "id": "sewHlo-Ve5Nw"
      },
      "source": [
        "from IPython.core.interactiveshell import InteractiveShell\n",
        "InteractiveShell.ast_node_interactivity = \"all\"\n",
        "import pandas as pd\n",
        "import seaborn as sns\n",
        "import matplotlib.pyplot as plt\n",
        "import numpy as np"
      ],
      "execution_count": null,
      "outputs": []
    },
    {
      "cell_type": "code",
      "metadata": {
        "id": "G-vL3pBNfFec"
      },
      "source": [
        "#1: Load the data into Python\n",
        "df = pd.read_csv('/content/heart_decision.csv')\n",
        "df.head(1)"
      ],
      "execution_count": null,
      "outputs": []
    },
    {
      "cell_type": "code",
      "metadata": {
        "id": "SLtVo-RSfT5D"
      },
      "source": [
        "#Generate descriptive statistics. Descriptive statistics include those that summarize the central tendency, \n",
        "#dispersion and shape of a dataset's distribution. Generate various summary statistics, \n",
        "#excluding NaN values. The output DataFrame index depends on the requested dtypes:\n",
        "df.describe()"
      ],
      "execution_count": null,
      "outputs": []
    },
    {
      "cell_type": "code",
      "metadata": {
        "id": "s16zEkkdf-IO"
      },
      "source": [
        "# select features and targets\n",
        "target = df.target\n",
        "features = df.drop(columns=['target'])\n",
        "\n",
        "features.head()\n",
        "target.head()"
      ],
      "execution_count": null,
      "outputs": []
    },
    {
      "cell_type": "code",
      "metadata": {
        "id": "vRdvD-9BRlZ_"
      },
      "source": [
        "#df.describe"
      ],
      "execution_count": null,
      "outputs": []
    },
    {
      "cell_type": "code",
      "metadata": {
        "id": "OHTkQA4QfXS5"
      },
      "source": [
        "#Create a countplot of the target\n",
        "ax = sns.countplot(x=target,data=df)\n",
        "ax.set(title=\"Heart Disease vs No Disease\")\n",
        "plt.show()"
      ],
      "execution_count": null,
      "outputs": []
    },
    {
      "cell_type": "code",
      "metadata": {
        "id": "cmp2mfdBfqwU"
      },
      "source": [
        "#Create one graph for each of the features.\n",
        "plt.hist(df.chol)\n",
        "plt.show()"
      ],
      "execution_count": null,
      "outputs": []
    },
    {
      "cell_type": "code",
      "metadata": {
        "id": "St9Paoc4VFmy"
      },
      "source": [
        "#Create one graph for each of the features.\n",
        "plt.hist(df.sex)\n",
        "plt.show()"
      ],
      "execution_count": null,
      "outputs": []
    },
    {
      "cell_type": "code",
      "metadata": {
        "id": "0A7Kb5AxVN8s"
      },
      "source": [
        "#Create one graph for each of the features.\n",
        "plt.hist(df.restecg)\n",
        "plt.show()"
      ],
      "execution_count": null,
      "outputs": []
    },
    {
      "cell_type": "markdown",
      "metadata": {
        "id": "C46PuMPSVyeL"
      },
      "source": [
        "A Z-score is a numerical measurement that describes a value's relationship to the mean of a group of values. Z-score is measured in terms of standard deviations from the mean."
      ]
    },
    {
      "cell_type": "code",
      "metadata": {
        "id": "CtqN_y9tgDZs"
      },
      "source": [
        "#Create a DecisionTreeClassifier model\n",
        "# Scale: replaces the values by their Z scores.\n",
        "from sklearn.preprocessing import StandardScaler\n",
        "sc = StandardScaler()\n",
        "\n",
        "scaledfeatures = sc.fit_transform(features) # scale our features"
      ],
      "execution_count": null,
      "outputs": []
    },
    {
      "cell_type": "code",
      "metadata": {
        "id": "Ja0AivT5gHwG"
      },
      "source": [
        "#Fit your model\n",
        "from sklearn.model_selection import train_test_split\n",
        "\n",
        "features_train, features_test,target_train,target_test = train_test_split(scaledfeatures,target)"
      ],
      "execution_count": null,
      "outputs": []
    },
    {
      "cell_type": "code",
      "metadata": {
        "id": "K3rdmTkbgLAs"
      },
      "source": [
        "# Decision tree\n",
        "from sklearn.tree import DecisionTreeClassifier\n",
        "\n",
        "model = DecisionTreeClassifier(random_state=0)\n",
        "model.fit(features_train,target_train)"
      ],
      "execution_count": null,
      "outputs": []
    },
    {
      "cell_type": "code",
      "metadata": {
        "id": "BGUQaaFrgOQq"
      },
      "source": [
        "# predict with your model\n",
        "predictions = model.predict(features_test)\n",
        "predictions"
      ],
      "execution_count": null,
      "outputs": []
    },
    {
      "cell_type": "code",
      "metadata": {
        "id": "xlqRNONAgR-8"
      },
      "source": [
        "# confusion matrix using pd.crosstab\n",
        "predictions = model.predict(features_test)\n",
        "predictions.shape\n",
        "\n",
        "pd.crosstab(target_test, predictions,rownames = ['Actual'],colnames = ['Predicted'])"
      ],
      "execution_count": null,
      "outputs": []
    },
    {
      "cell_type": "code",
      "metadata": {
        "id": "45wt1uz7gVmA"
      },
      "source": [
        "from sklearn.metrics import classification_report\n",
        "# Test Accuracy // Print a classification report of the data\n",
        "print('\\n ****** Classification Report *** \\n\\n')\n",
        "print(classification_report(target_test, predictions))"
      ],
      "execution_count": null,
      "outputs": []
    },
    {
      "cell_type": "code",
      "metadata": {
        "id": "flr88_sygZrW"
      },
      "source": [
        "# plot tree\n",
        "from IPython.display import Image  \n",
        "from sklearn import tree\n",
        "import pydotplus  \n",
        "# conda install pydotplus\n",
        "# Create DOT data\n",
        "dot_data = tree.export_graphviz(model, out_file=None, \n",
        "                                feature_names=features.columns,  \n",
        "                                class_names='target')"
      ],
      "execution_count": null,
      "outputs": []
    },
    {
      "cell_type": "code",
      "metadata": {
        "id": "ul1zILlSgdU2"
      },
      "source": [
        "# Draw graph\n",
        "graph = pydotplus.graph_from_dot_data(dot_data)  \n",
        "Image(graph.create_png())\n",
        "#Gini index or Gini impurity measures the degree or probability of \n",
        "#a particular variable being wrongly classified when it is randomly chosen. \n",
        "#A Gini Index of 0.5 denotes equally distributed elements into some classes.\n",
        "\n",
        "#Value is how the samples to test for information gain are split up. \n",
        "#So at the root node, 32561 samples are divided into 24720 and 7841 samples each."
      ],
      "execution_count": null,
      "outputs": []
    },
    {
      "cell_type": "code",
      "metadata": {
        "id": "H5fK2YmxYRzU"
      },
      "source": [
        "#restecg - resting electrocardiographic results"
      ],
      "execution_count": null,
      "outputs": []
    },
    {
      "cell_type": "markdown",
      "metadata": {
        "id": "1QOtKWE2X_eI"
      },
      "source": [
        "A decision tree is a simple representation for classifying examples. For this section, assume that all of the input features have finite discrete domains, and there is a single target feature called the \"classification\". Each element of the domain of the classification is called a class."
      ]
    }
  ]
}