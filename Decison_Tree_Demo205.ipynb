{
  "nbformat": 4,
  "nbformat_minor": 0,
  "metadata": {
    "colab": {
      "name": "Decison-Tree-Demo205.ipynb",
      "private_outputs": true,
      "provenance": [],
      "authorship_tag": "ABX9TyNFHGj/8a98j8850/gSJn8f",
      "include_colab_link": true
    },
    "kernelspec": {
      "name": "python3",
      "display_name": "Python 3"
    },
    "language_info": {
      "name": "python"
    }
  },
  "cells": [
    {
      "cell_type": "markdown",
      "metadata": {
        "id": "view-in-github",
        "colab_type": "text"
      },
      "source": [
        "<a href=\"https://colab.research.google.com/github/gndede/python/blob/main/Decison_Tree_Demo205.ipynb\" target=\"_parent\"><img src=\"https://colab.research.google.com/assets/colab-badge.svg\" alt=\"Open In Colab\"/></a>"
      ]
    },
    {
      "cell_type": "code",
      "metadata": {
        "id": "sewHlo-Ve5Nw"
      },
      "source": [
        "from IPython.core.interactiveshell import InteractiveShell\n",
        "InteractiveShell.ast_node_interactivity = \"all\"\n",
        "import pandas as pd\n",
        "import seaborn as sns\n",
        "import matplotlib.pyplot as plt\n",
        "import numpy as np"
      ],
      "execution_count": null,
      "outputs": []
    },
    {
      "cell_type": "code",
      "metadata": {
        "id": "G-vL3pBNfFec"
      },
      "source": [
        "df = pd.read_csv('/content/heart_decision.csv')\n",
        "df.head(10)"
      ],
      "execution_count": null,
      "outputs": []
    },
    {
      "cell_type": "code",
      "metadata": {
        "id": "SLtVo-RSfT5D"
      },
      "source": [
        "df.describe()"
      ],
      "execution_count": null,
      "outputs": []
    },
    {
      "cell_type": "code",
      "metadata": {
        "id": "OHTkQA4QfXS5"
      },
      "source": [
        "ax = sns.countplot(x=target,data=df)\n",
        "ax.set(title=\"Heart Disease vs No Disease\")\n",
        "plt.show()"
      ],
      "execution_count": null,
      "outputs": []
    },
    {
      "cell_type": "code",
      "metadata": {
        "id": "cmp2mfdBfqwU"
      },
      "source": [
        "plt.hist(df.chol)\n",
        "plt.show()"
      ],
      "execution_count": null,
      "outputs": []
    },
    {
      "cell_type": "code",
      "metadata": {
        "id": "s16zEkkdf-IO"
      },
      "source": [
        "# select features and targets\n",
        "target = df.target\n",
        "features = df.drop(columns=['target'])\n",
        "\n",
        "features.head()\n",
        "target.head()"
      ],
      "execution_count": null,
      "outputs": []
    },
    {
      "cell_type": "code",
      "metadata": {
        "id": "CtqN_y9tgDZs"
      },
      "source": [
        "# Scale: replaces the values by their Z scores.\n",
        "from sklearn.preprocessing import StandardScaler\n",
        "sc = StandardScaler()\n",
        "\n",
        "scaledfeatures = sc.fit_transform(features) # scale our features"
      ],
      "execution_count": null,
      "outputs": []
    },
    {
      "cell_type": "code",
      "metadata": {
        "id": "Ja0AivT5gHwG"
      },
      "source": [
        "from sklearn.model_selection import train_test_split\n",
        "\n",
        "features_train, features_test,target_train,target_test = train_test_split(scaledfeatures,target)"
      ],
      "execution_count": null,
      "outputs": []
    },
    {
      "cell_type": "code",
      "metadata": {
        "id": "K3rdmTkbgLAs"
      },
      "source": [
        "# Decision tree\n",
        "from sklearn.tree import DecisionTreeClassifier\n",
        "\n",
        "model = DecisionTreeClassifier(random_state=0)\n",
        "model.fit(features_train,target_train)"
      ],
      "execution_count": null,
      "outputs": []
    },
    {
      "cell_type": "code",
      "metadata": {
        "id": "BGUQaaFrgOQq"
      },
      "source": [
        "# predict with your model\n",
        "predictions = model.predict(features_test)\n",
        "predictions"
      ],
      "execution_count": null,
      "outputs": []
    },
    {
      "cell_type": "code",
      "metadata": {
        "id": "xlqRNONAgR-8"
      },
      "source": [
        "# confusion matrix\n",
        "predictions = model.predict(features_test)\n",
        "predictions.shape\n",
        "\n",
        "pd.crosstab(target_test, predictions,rownames = ['Actual'],colnames = ['Predicted'])"
      ],
      "execution_count": null,
      "outputs": []
    },
    {
      "cell_type": "code",
      "metadata": {
        "id": "45wt1uz7gVmA"
      },
      "source": [
        "from sklearn.metrics import classification_report\n",
        "# Test Accuracy\n",
        "print('\\n ****** Classification Report *** \\n\\n')\n",
        "print(classification_report(target_test, predictions))"
      ],
      "execution_count": null,
      "outputs": []
    },
    {
      "cell_type": "code",
      "metadata": {
        "id": "flr88_sygZrW"
      },
      "source": [
        "# plot tree\n",
        "from IPython.display import Image  \n",
        "from sklearn import tree\n",
        "import pydotplus  \n",
        "\n",
        "# conda install pydotplus\n",
        "\n",
        "# Create DOT data\n",
        "dot_data = tree.export_graphviz(model, out_file=None, \n",
        "                                feature_names=features.columns,  \n",
        "                                class_names='target')"
      ],
      "execution_count": null,
      "outputs": []
    },
    {
      "cell_type": "code",
      "metadata": {
        "id": "ul1zILlSgdU2"
      },
      "source": [
        "# Draw graph\n",
        "graph = pydotplus.graph_from_dot_data(dot_data)  \n",
        "Image(graph.create_png())"
      ],
      "execution_count": null,
      "outputs": []
    }
  ]
}