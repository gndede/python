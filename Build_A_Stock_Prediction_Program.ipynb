{
  "nbformat": 4,
  "nbformat_minor": 0,
  "metadata": {
    "colab": {
      "name": "Build A Stock Prediction Program.ipynb",
      "private_outputs": true,
      "provenance": [],
      "collapsed_sections": [],
      "authorship_tag": "ABX9TyMS0orwsNn5+TnYj4uLjcHM",
      "include_colab_link": true
    },
    "kernelspec": {
      "name": "python3",
      "display_name": "Python 3"
    }
  },
  "cells": [
    {
      "cell_type": "markdown",
      "metadata": {
        "id": "view-in-github",
        "colab_type": "text"
      },
      "source": [
        "<a href=\"https://colab.research.google.com/github/gndede/python/blob/main/Build_A_Stock_Prediction_Program.ipynb\" target=\"_parent\"><img src=\"https://colab.research.google.com/assets/colab-badge.svg\" alt=\"Open In Colab\"/></a>"
      ]
    },
    {
      "cell_type": "code",
      "metadata": {
        "id": "QNd0BK2XIst1"
      },
      "source": [
        "pip install quandl"
      ],
      "execution_count": null,
      "outputs": []
    },
    {
      "cell_type": "code",
      "metadata": {
        "id": "Yh9kXGObOg5_"
      },
      "source": [
        "#Install the dependencies\n",
        "import quandl\n",
        "import numpy as np\n",
        "from sklearn.linear_model import LinearRegression\n",
        "from sklearn.svm import SVR #Suppor Vector Model / Support Vector Regression\n",
        "from sklearn.model_selection import train_test_split #for training the data"
      ],
      "execution_count": null,
      "outputs": []
    },
    {
      "cell_type": "code",
      "metadata": {
        "id": "cKbwkC_ROpl6"
      },
      "source": [
        "#Get the stock data\n",
        "df = quandl.get(\"WIKI/FB\") #https://www.quandl.com/"
      ],
      "execution_count": null,
      "outputs": []
    },
    {
      "cell_type": "code",
      "metadata": {
        "id": "LqdswBe5OtI6"
      },
      "source": [
        "#Take a look at the data\n",
        "print(df.head(100))"
      ],
      "execution_count": null,
      "outputs": []
    },
    {
      "cell_type": "code",
      "metadata": {
        "id": "3h1ENcrGPSpX"
      },
      "source": [
        "#Adjusted Close Price\n",
        "df = df[['Adj. Close']]"
      ],
      "execution_count": null,
      "outputs": []
    },
    {
      "cell_type": "code",
      "metadata": {
        "id": "VOtQX-t-PVVn"
      },
      "source": [
        "#Take a look at the new data\n",
        "print(df.head(10))"
      ],
      "execution_count": null,
      "outputs": []
    },
    {
      "cell_type": "code",
      "metadata": {
        "id": "tqQ0yx0BQhO9"
      },
      "source": [
        "# Predict future value of Stock prices - n day(s) into the future\n",
        "forecast_out = 30"
      ],
      "execution_count": null,
      "outputs": []
    },
    {
      "cell_type": "code",
      "metadata": {
        "id": "SR-FFbHUQpJ1"
      },
      "source": [
        "#Create a another column (the target or dependent variable) shifted 'n' units up\n",
        "df['Prediction'] = df[['Adj. Close']].shift(-forecast_out)\n",
        "\n",
        "#print the new data set from head()\n",
        "print(df.head())"
      ],
      "execution_count": null,
      "outputs": []
    },
    {
      "cell_type": "code",
      "metadata": {
        "id": "VnbIdvrKQ3L1"
      },
      "source": [
        "#print the new data set from head()\n",
        "print(df.tail())"
      ],
      "execution_count": null,
      "outputs": []
    },
    {
      "cell_type": "code",
      "metadata": {
        "id": "AZzT6zvxS6Ac"
      },
      "source": [
        "### Create the independent data set (x) #######\n",
        "# Convert the dataframe to a numpy array\n",
        "X = np.array(df.drop(['Prediction'],1)) #a list of list\n",
        "#X = np.array(df['Adj. Close']) #a list\n",
        "#Remove the last 'n' rowa\n",
        "X = X[: -forecast_out]\n",
        "print(X)"
      ],
      "execution_count": null,
      "outputs": []
    },
    {
      "cell_type": "code",
      "metadata": {
        "id": "LR7iOAf0Vvv-"
      },
      "source": [
        "### Create the dependent data set (y) #######\n",
        "# Convert the dataframe to a numpy array (All of the values including the NaN's)\n",
        "y = np.array(df['Prediction'])\n",
        "# Get all the y values except the last 'n' rows\n",
        "y = y[:-forecast_out]\n",
        "print(y)"
      ],
      "execution_count": null,
      "outputs": []
    },
    {
      "cell_type": "code",
      "metadata": {
        "id": "HlsSFdVUWEEf"
      },
      "source": [
        "# Split the data into 80% training and 20% testing\n",
        "x_train, x_test, y_train, y_test = train_test_split(X, y, test_size=0.2)"
      ],
      "execution_count": null,
      "outputs": []
    },
    {
      "cell_type": "code",
      "metadata": {
        "id": "xlaZrdwbWRNr"
      },
      "source": [
        "#Create and train the Support Vector Machine (Regressor)\n",
        "svr_rbf = SVR(kernel='rbf', C=1e3, gamma=0.1) # Radio Basis Kernel //https://en.wikipedia.org/wiki/Radial_basis_function_kernel\n",
        "svr_rbf.fit(x_train, y_train)"
      ],
      "execution_count": null,
      "outputs": []
    },
    {
      "cell_type": "code",
      "metadata": {
        "id": "uqUpYdihZNNO"
      },
      "source": [
        "#Testing Model: Score returns the coefficient of determination R^2 of the prediction. //Better than LR model\n",
        "#The best possible score is 1.0\n",
        "svm_confidence = svr_rbf.score(x_test, y_test)  \n",
        "print(\"SVM confidence: \", svm_confidence)"
      ],
      "execution_count": null,
      "outputs": []
    },
    {
      "cell_type": "code",
      "metadata": {
        "id": "6X5e_21RZ85I"
      },
      "source": [
        "#Create and train the Linear Regression Model\n",
        "lr = LinearRegression()"
      ],
      "execution_count": null,
      "outputs": []
    },
    {
      "cell_type": "code",
      "metadata": {
        "id": "rZcXGI-raNpe"
      },
      "source": [
        "# Train the model\n",
        "lr.fit(x_train, y_train)"
      ],
      "execution_count": null,
      "outputs": []
    },
    {
      "cell_type": "code",
      "metadata": {
        "id": "4b4IVsQWa4Na"
      },
      "source": [
        "#Testing Model: Score returns the coefficient of determination R^2 of the prediction. //Less better than SVM model\n",
        "#The best possible score is 1.0\n",
        "lr_confidence = lr.score(x_test, y_test)\n",
        "print(\"LR confidence: \", lr_confidence)"
      ],
      "execution_count": null,
      "outputs": []
    },
    {
      "cell_type": "code",
      "metadata": {
        "id": "5lYJUra6bNZu"
      },
      "source": [
        "#Set x-forecast equal to the last 30 rows of the original data from the adjusted Close Column\n",
        "x_forecast = np.array(df.drop(['Prediction'],1))[-forecast_out:]\n",
        "print(x_forecast)"
      ],
      "execution_count": null,
      "outputs": []
    },
    {
      "cell_type": "code",
      "metadata": {
        "id": "DQZtPt3SdgT0"
      },
      "source": [
        "# Print support linear regressor model predictions for the next 'n' days\n",
        "lr_prediction = lr.predict(x_forecast)\n",
        "print(lr_prediction)"
      ],
      "execution_count": null,
      "outputs": []
    },
    {
      "cell_type": "code",
      "metadata": {
        "id": "mzk0PpyJd6tZ"
      },
      "source": [
        "# Print support vector regressor model predictions for the next 'n' days\n",
        "svm_prediction = svr_rbf.predict(x_forecast)\n",
        "print(svm_prediction)"
      ],
      "execution_count": null,
      "outputs": []
    }
  ]
}