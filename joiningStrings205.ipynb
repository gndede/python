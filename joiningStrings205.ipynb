{
  "nbformat": 4,
  "nbformat_minor": 0,
  "metadata": {
    "colab": {
      "name": "joiningStrings205.ipynb",
      "private_outputs": true,
      "provenance": [],
      "authorship_tag": "ABX9TyN5ZJA/fPyZev6C9G4hzyvg",
      "include_colab_link": true
    },
    "kernelspec": {
      "name": "python3",
      "display_name": "Python 3"
    },
    "language_info": {
      "name": "python"
    }
  },
  "cells": [
    {
      "cell_type": "markdown",
      "metadata": {
        "id": "view-in-github",
        "colab_type": "text"
      },
      "source": [
        "<a href=\"https://colab.research.google.com/github/gndede/python/blob/main/joiningStrings205.ipynb\" target=\"_parent\"><img src=\"https://colab.research.google.com/assets/colab-badge.svg\" alt=\"Open In Colab\"/></a>"
      ]
    },
    {
      "cell_type": "code",
      "metadata": {
        "id": "34_zziUJykcF"
      },
      "source": [
        "#form a string using the join() method to put together items in the returned list. \n",
        "#The items in my_list are all names of fruits.\n",
        "my_string = \"Apples,Oranges,Pears,Bananas,Berries\"\n",
        "my_list = my_string.split(\",\")\n",
        "\n",
        "# after my_string is split my_list is:\n",
        "['Apples', 'Oranges', 'Pears', 'Bananas', 'Berries']"
      ],
      "execution_count": null,
      "outputs": []
    },
    {
      "cell_type": "code",
      "metadata": {
        "id": "v8pQarZLy5ny"
      },
      "source": [
        "#The above line of code joins items in my_list using a comma followed by a space as the separator.\n",
        "\", \".join(my_list)"
      ],
      "execution_count": null,
      "outputs": []
    },
    {
      "cell_type": "code",
      "metadata": {
        "id": "-FNI-TTZzwx8"
      },
      "source": [
        "#You can specify any separator of your choice. This time, you'll use 3 underscores (___) to join items in my_list.\n",
        "\"___\".join(my_list)"
      ],
      "execution_count": null,
      "outputs": []
    }
  ]
}