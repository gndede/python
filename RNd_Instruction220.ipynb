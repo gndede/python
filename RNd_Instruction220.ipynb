{
  "nbformat": 4,
  "nbformat_minor": 0,
  "metadata": {
    "colab": {
      "name": "RNd_Instruction220.ipynb",
      "private_outputs": true,
      "provenance": [],
      "collapsed_sections": [],
      "include_colab_link": true
    },
    "kernelspec": {
      "name": "python3",
      "display_name": "Python 3"
    },
    "language_info": {
      "name": "python"
    }
  },
  "cells": [
    {
      "cell_type": "markdown",
      "metadata": {
        "id": "view-in-github",
        "colab_type": "text"
      },
      "source": [
        "<a href=\"https://colab.research.google.com/github/gndede/python/blob/main/RNd_Instruction220.ipynb\" target=\"_parent\"><img src=\"https://colab.research.google.com/assets/colab-badge.svg\" alt=\"Open In Colab\"/></a>"
      ]
    },
    {
      "cell_type": "code",
      "metadata": {
        "id": "WKnxNLIotJKI"
      },
      "source": [
        "import pandas as pd\n",
        "df = pd.read_csv('/content/test _123.csv', encoding='unicode_escape')"
      ],
      "execution_count": null,
      "outputs": []
    },
    {
      "cell_type": "code",
      "metadata": {
        "id": "myL0Bh9QtmPh"
      },
      "source": [
        "df"
      ],
      "execution_count": null,
      "outputs": []
    },
    {
      "cell_type": "code",
      "metadata": {
        "id": "3xJtIjFZtoQ7"
      },
      "source": [
        "#drop multiple columns\n",
        "df.drop(columns=['planType','customField4', 'customField5','pdfName'])"
      ],
      "execution_count": null,
      "outputs": []
    },
    {
      "cell_type": "code",
      "metadata": {
        "id": "E4NQ1z5e2AJ-"
      },
      "source": [
        "import phonenumbers\n",
        "from phonenumbers\n",
        "import carrier, timezone, geocoder\n",
        "\n",
        "my_number = phonenumbers.parse(\"+447986123456\", \"GB\")\n",
        "\n",
        "print(phonenumbers.is_valid_number(my_number))\n",
        "print(carrier.name_for_number(my_number, \"en\"))\n",
        "print(timezone.time_zones_for_number(my_number))\n",
        "print(geocoder.description_for_number(my_number, 'en'))"
      ],
      "execution_count": null,
      "outputs": []
    },
    {
      "cell_type": "code",
      "metadata": {
        "id": "9PtF29k-2jCQ"
      },
      "source": [
        "pip install phonenumbers"
      ],
      "execution_count": null,
      "outputs": []
    },
    {
      "cell_type": "code",
      "metadata": {
        "id": "RFoRRp1V23do"
      },
      "source": [
        "# Program to get timezone a phone number\n",
        "  \n",
        "import phonenumbers\n",
        "from phonenumbers import timezone\n",
        "  \n",
        "# Parsing String to Phone number\n",
        "#phoneNumber = phonenumbers.parse(\"+919876543210\")\n",
        "phoneNumber = phonenumbers.parse(\"+1 9198765431\")\n",
        "  \n",
        "# Pass the parsed phone number in below function\n",
        "timeZone = timezone.time_zones_for_number(phoneNumber)\n",
        "  \n",
        "# It print the timezone of a phonenumber\n",
        "print(timeZone)"
      ],
      "execution_count": null,
      "outputs": []
    },
    {
      "cell_type": "code",
      "metadata": {
        "id": "7Q6DLKGj6cLs"
      },
      "source": [
        "# Sorting by column \"isPrimary\"\n",
        "df.sort_values(by=['isPrimary'], ascending=False)"
      ],
      "execution_count": null,
      "outputs": []
    },
    {
      "cell_type": "code",
      "metadata": {
        "id": "GfYbPMbq9VK7"
      },
      "source": [
        "df['phoneNumber']\n",
        "\n",
        "\n",
        "for phone_no in df['phoneNumber']:\n",
        "    contactphone = \"%c-%c%c%c-%c%c%c-%c%c%c%c\" % tuple(map(ord,list(str(phone_no)[:11])))\n",
        "    print(contactphone)"
      ],
      "execution_count": null,
      "outputs": []
    }
  ]
}