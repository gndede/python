{
  "nbformat": 4,
  "nbformat_minor": 0,
  "metadata": {
    "colab": {
      "name": "Calculate-year_based_201.ipynb",
      "private_outputs": true,
      "provenance": [],
      "authorship_tag": "ABX9TyNz1C8ZbT2oHLg+VI9hXlog",
      "include_colab_link": true
    },
    "kernelspec": {
      "name": "python3",
      "display_name": "Python 3"
    },
    "language_info": {
      "name": "python"
    }
  },
  "cells": [
    {
      "cell_type": "markdown",
      "metadata": {
        "id": "view-in-github",
        "colab_type": "text"
      },
      "source": [
        "<a href=\"https://colab.research.google.com/github/gndede/python/blob/main/Calculate_year_based_201.ipynb\" target=\"_parent\"><img src=\"https://colab.research.google.com/assets/colab-badge.svg\" alt=\"Open In Colab\"/></a>"
      ]
    },
    {
      "cell_type": "code",
      "metadata": {
        "id": "ZgHWlXQcjWbB"
      },
      "source": [
        "# Python3 code to  calculate age in years\n",
        "#import the date/time component\n",
        "from datetime import date\n",
        "\n",
        "#2:Enter the customer details\n",
        "first_name = str(input(\"Enter first Name: \"))\n",
        "last_name = str(input(\"Enter last Name: \"))\n",
        "\n",
        "#enter_todays_year = int(input(\"Enter today\\'s year: \")) \n",
        "today = date.today()\n",
        "age = today.year - birthDate.year - ((today.month, today.day) < (birthDate.month, birthDate.day))\n",
        "enter_year_of_birth = int(input(\"Enter year of birth: \"))\n",
        "\n",
        "\n",
        "\n",
        "##calculate-years = \n",
        "#age = date.enter_year_of_birth - today\n",
        "\n",
        "#get the age\n",
        "print(age)\n",
        "\n",
        "\n",
        "\n",
        "#Calories calculation, all we have to do is to multiply the weight (kg), \n",
        "#the metabolic equivalent of a task (MET) and the time of the activity (hr). \n",
        "#Remember that 1 MET = 1 kcal/kg/hr.\n",
        "#compute_calories_spent = (enter_weight * enter_time_taken*enter_MET )\n",
        "#print(\"Calories burned\", compute_calories_spent)\n",
        "#round the number into 2 decimal places\n",
        "#print(\"Calories burned\", round(compute_calories_spent,2))"
      ],
      "execution_count": null,
      "outputs": []
    },
    {
      "cell_type": "code",
      "metadata": {
        "id": "KtYG-8MxpuiA"
      },
      "source": [
        "import datetime\n",
        "\n",
        "import dateutil\n",
        "\n",
        "def birthday(date):\n",
        "    # Get the current date\n",
        "    now = datetime.datetime.utcnow()\n",
        "    now = now.date()\n",
        "\n",
        "    # Get the difference between the current date and the birthday\n",
        "    age = dateutil.relativedelta.relativedelta(now, date)\n",
        "    age = age.years\n",
        "\n",
        "    #return age\n",
        "    #print(age)"
      ],
      "execution_count": null,
      "outputs": []
    },
    {
      "cell_type": "code",
      "metadata": {
        "id": "0YfRl-sUrcpX"
      },
      "source": [
        "import datetime\n",
        "#2:Enter the customer details\n",
        "first_name = str(input(\"Enter first Name: \"))\n",
        "last_name = str(input(\"Enter last Name: \"))\n",
        "print()\n",
        "birth_year = int(input(\"Enter your year of birth: \"))\n",
        "birth_month = int(input(\"Enter your month of birth: \"))\n",
        "birth_day = int(input(\"Enter your day of birth: \"))\n",
        " \n",
        "current_year = datetime.date.today().year\n",
        "current_month = datetime.date.today().month\n",
        "current_day = datetime.date.today().day\n",
        " \n",
        "age_year = current_year - birth_year\n",
        "age_month = abs(current_month-birth_month)\n",
        "age_day = abs(current_day-birth_day)\n",
        "\n",
        "if age_year > 17:\n",
        "    print (\"Yes, you may watch a R-rated movie\")\n",
        "elif age_year >12 <17:\n",
        "    print (\"Yes, you may watch a movie PG-13 rated\")   \n",
        "else:\n",
        "    print(\"Yes, you may only watch PG-rated movies.\")  \n",
        "print(\"----------------------------------------------\")\n",
        "print(\"because your exact age is: \", age_year, \"Years\", age_month, \"month(s) and\", age_day, \"days\") "
      ],
      "execution_count": null,
      "outputs": []
    }
  ]
}