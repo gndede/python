{
  "nbformat": 4,
  "nbformat_minor": 0,
  "metadata": {
    "colab": {
      "name": "Oranges-196.ipynb",
      "private_outputs": true,
      "provenance": [],
      "authorship_tag": "ABX9TyPSQdeKjyaq4xyt86laGQ6b",
      "include_colab_link": true
    },
    "kernelspec": {
      "name": "python3",
      "display_name": "Python 3"
    },
    "language_info": {
      "name": "python"
    }
  },
  "cells": [
    {
      "cell_type": "markdown",
      "metadata": {
        "id": "view-in-github",
        "colab_type": "text"
      },
      "source": [
        "<a href=\"https://colab.research.google.com/github/gndede/python/blob/main/Oranges_196.ipynb\" target=\"_parent\"><img src=\"https://colab.research.google.com/assets/colab-badge.svg\" alt=\"Open In Colab\"/></a>"
      ]
    },
    {
      "cell_type": "code",
      "metadata": {
        "id": "6sWyyeP0xBGF"
      },
      "source": [
        "num_fruits = 14\n",
        "fruit_name = \"oranges\"\n",
        "logging.info(\n",
        "    \"We ate %d of your %s. Thanks!\",\n",
        "    num_fruits, fruit_name)"
      ],
      "execution_count": null,
      "outputs": []
    }
  ]
}