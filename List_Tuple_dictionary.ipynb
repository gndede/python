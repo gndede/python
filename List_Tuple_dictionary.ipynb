{
  "nbformat": 4,
  "nbformat_minor": 0,
  "metadata": {
    "colab": {
      "name": "List-Tuple-dictionary.ipynb",
      "private_outputs": true,
      "provenance": [],
      "collapsed_sections": [],
      "authorship_tag": "ABX9TyOucna8Ez4zvGheM+qHF7CX",
      "include_colab_link": true
    },
    "kernelspec": {
      "name": "python3",
      "display_name": "Python 3"
    },
    "language_info": {
      "name": "python"
    }
  },
  "cells": [
    {
      "cell_type": "markdown",
      "metadata": {
        "id": "view-in-github",
        "colab_type": "text"
      },
      "source": [
        "<a href=\"https://colab.research.google.com/github/gndede/python/blob/main/List_Tuple_dictionary.ipynb\" target=\"_parent\"><img src=\"https://colab.research.google.com/assets/colab-badge.svg\" alt=\"Open In Colab\"/></a>"
      ]
    },
    {
      "cell_type": "code",
      "metadata": {
        "id": "IQwJmdpQqocU"
      },
      "source": [
        "#How to add list and tuples of numbers\n",
        "numbers = [1,2,3,4,5,6]\n",
        "numbers1 = {1,2,3,4,5,6}\n",
        "total = sum(numbers)\n",
        "total1 = sum(numbers1)\n",
        "print(\"Output of the total in list of numbers:\", total)\n",
        "print(\"Output of the total in tuple of numbers:\", total1)"
      ],
      "execution_count": null,
      "outputs": []
    },
    {
      "cell_type": "code",
      "metadata": {
        "id": "vZC4vSqIyqRk"
      },
      "source": [
        "# How to sum the values in a dictionary in Python\n",
        "a_dict = {\"a\":1, \"b\":2, \"c\": 3, \"d\":4, \"e\":5}  #==> The values here are 1, 2, 3, 4, 5\n",
        "values = a_dict.values() # Return values of a dictionary.\n",
        "total = sum(values) #Compute sum of the values.\n",
        "print(\"The tota values are: \", total)"
      ],
      "execution_count": null,
      "outputs": []
    }
  ]
}