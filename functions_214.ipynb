{
  "nbformat": 4,
  "nbformat_minor": 0,
  "metadata": {
    "colab": {
      "name": "functions-214.ipynb",
      "private_outputs": true,
      "provenance": [],
      "authorship_tag": "ABX9TyNyjOQpowMzRrnDQ7VmWwtn",
      "include_colab_link": true
    },
    "kernelspec": {
      "name": "python3",
      "display_name": "Python 3"
    },
    "language_info": {
      "name": "python"
    }
  },
  "cells": [
    {
      "cell_type": "markdown",
      "metadata": {
        "id": "view-in-github",
        "colab_type": "text"
      },
      "source": [
        "<a href=\"https://colab.research.google.com/github/gndede/python/blob/main/functions_214.ipynb\" target=\"_parent\"><img src=\"https://colab.research.google.com/assets/colab-badge.svg\" alt=\"Open In Colab\"/></a>"
      ]
    },
    {
      "cell_type": "code",
      "metadata": {
        "id": "dJrbvU7SviqC"
      },
      "source": [
        "def habari():\n",
        "  name = str(input(\"Enter your name: \"))\n",
        "  if name:\n",
        "    print (\"Habari -\" + str(name))\n",
        "  else:\n",
        "    print(\"Habari yako\") \n",
        "  return \n",
        "  \n",
        "habari()"
      ],
      "execution_count": null,
      "outputs": []
    },
    {
      "cell_type": "code",
      "metadata": {
        "id": "9sEbC13Uxfka"
      },
      "source": [
        "#Exercise 5: Create an inner function to calculate the addition in the following way.\n",
        "\n",
        "#-Create an outer function that will accept two parameters, a and b.\n",
        "#-Create an inner function inside an outer function that will calculate the addition of a and b.\n",
        "#-At last, an outer function will add 5 into addition and return it.\n",
        "\n",
        "# outer function\n",
        "def outer_fun(a, b):\n",
        "    square = a ** 2\n",
        "\n",
        "    # inner function\n",
        "    def addition(a, b):\n",
        "        return a + b\n",
        "\n",
        "# call inner function from outer function\n",
        "    add = addition(a, b)\n",
        "    # add 5 to the result\n",
        "    return add + 5\n",
        "\n",
        "result = outer_fun(5, 10)\n",
        "print(result)"
      ],
      "execution_count": null,
      "outputs": []
    },
    {
      "cell_type": "code",
      "metadata": {
        "id": "MEH7iSsVyaAZ"
      },
      "source": [
        "#Exercise 6: Create a recursive function\n",
        "#Write a program to create a recursive function to calculate the sum of numbers from 0 to 10.\n",
        "\n",
        "#A recursive function is a function that calls itself, again and again.\n",
        "\n",
        "#Expected Output:\n",
        "\n",
        "#55\n",
        "\n"
      ],
      "execution_count": null,
      "outputs": []
    },
    {
      "cell_type": "code",
      "metadata": {
        "id": "scQNjYoI2Qhv"
      },
      "source": [
        "#Exercise 7: Assign a different name to function and call it through the new name\n",
        "\n",
        "#Below is the function display_student(name, age). \n",
        "#Assign a new name show_tudent(name, age) to it and call it using the new name.\n",
        "\n",
        "#*Given:*\n",
        "def display_student(name, age):\n",
        "    print(name, age)\n",
        "\n",
        "display_student(\"Emma\", 26)\n",
        "\n",
        "#*You should be able to call the same function using*\n",
        "\n",
        "show_student(name, age)"
      ],
      "execution_count": null,
      "outputs": []
    },
    {
      "cell_type": "code",
      "metadata": {
        "id": "vht0ecwY2Zr_"
      },
      "source": [
        "#Show Solution\n",
        "def addition(num):\n",
        "    if num:\n",
        "        # call same function by reducing number by 1\n",
        "        return num + addition(num - 1)\n",
        "    else:\n",
        "        return 0\n",
        "\n",
        "res = addition(10)\n",
        "print(res)\n",
        " Run"
      ],
      "execution_count": null,
      "outputs": []
    }
  ]
}