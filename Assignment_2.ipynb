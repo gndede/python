{
  "nbformat": 4,
  "nbformat_minor": 0,
  "metadata": {
    "colab": {
      "name": "Assignment#2.ipynb",
      "private_outputs": true,
      "provenance": [],
      "include_colab_link": true
    },
    "kernelspec": {
      "name": "python3",
      "display_name": "Python 3"
    },
    "language_info": {
      "name": "python"
    }
  },
  "cells": [
    {
      "cell_type": "markdown",
      "metadata": {
        "id": "view-in-github",
        "colab_type": "text"
      },
      "source": [
        "<a href=\"https://colab.research.google.com/github/gndede/python/blob/main/Assignment_2.ipynb\" target=\"_parent\"><img src=\"https://colab.research.google.com/assets/colab-badge.svg\" alt=\"Open In Colab\"/></a>"
      ]
    },
    {
      "cell_type": "code",
      "metadata": {
        "id": "9F-kaDwfVszP"
      },
      "source": [
        "#import the libraries\n",
        "import pandas as pd\n",
        "import seaborn as sns\n",
        "from matplotlib import pyplot as plt\n",
        "import scipy.stats as stats"
      ],
      "execution_count": null,
      "outputs": []
    },
    {
      "cell_type": "code",
      "metadata": {
        "id": "tUAINXg7Xe9W"
      },
      "source": [
        "#1: Load the data file\n",
        "df = pd.read_csv(\"/content/chidata_for_assignment.csv\")\n",
        "df.head()"
      ],
      "execution_count": null,
      "outputs": []
    },
    {
      "cell_type": "code",
      "metadata": {
        "id": "XNUd8B5-XjIq"
      },
      "source": [
        "#2: Display the columns\n",
        "df.columns"
      ],
      "execution_count": null,
      "outputs": []
    },
    {
      "cell_type": "code",
      "metadata": {
        "id": "HW8k8eCZX0iY"
      },
      "source": [
        "#3print and display the column information\n",
        "df.shape"
      ],
      "execution_count": null,
      "outputs": []
    },
    {
      "cell_type": "code",
      "metadata": {
        "id": "kRZmxa0hYElP"
      },
      "source": [
        "#4display the column information\n",
        "df.info()"
      ],
      "execution_count": null,
      "outputs": []
    },
    {
      "cell_type": "code",
      "metadata": {
        "id": "ZUt5o7SPYVTx"
      },
      "source": [
        "#5print out the first 10 records\n",
        "df.head(10)"
      ],
      "execution_count": null,
      "outputs": []
    },
    {
      "cell_type": "code",
      "metadata": {
        "id": "9CTqLf0kZoHa"
      },
      "source": [
        "#Generates a seaborn count plot of gender\n",
        "gender_count = pd.DataFrame(df)\n",
        "gender_Count = sns.countplot(x=\"Gender\", data=df)\n",
        "gender_Count.set_title(\"Categorical Gender\")"
      ],
      "execution_count": null,
      "outputs": []
    },
    {
      "cell_type": "code",
      "metadata": {
        "id": "u0TqN1E-aPtY"
      },
      "source": [
        "#Adding appropriate Chart Title\n",
        "gender_Count.set_title('Categorical Gender difference in health')\n",
        "#sns.regplot(x=\"Gender\", y=\"Insurance\", data=df)"
      ],
      "execution_count": null,
      "outputs": []
    },
    {
      "cell_type": "code",
      "metadata": {
        "id": "3_9jXIzHdmt2"
      },
      "source": [
        "#Generate a count plot for insurance\n",
        "gender_count = pd.DataFrame(df)\n",
        "gender_count = sns.countplot(x=\"Insurance\", data=df)"
      ],
      "execution_count": null,
      "outputs": []
    }
  ]
}