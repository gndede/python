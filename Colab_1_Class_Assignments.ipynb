{
  "nbformat": 4,
  "nbformat_minor": 0,
  "metadata": {
    "colab": {
      "name": "Colab#1-Class-Assignments",
      "provenance": [],
      "collapsed_sections": [],
      "include_colab_link": true
    },
    "kernelspec": {
      "name": "python3",
      "display_name": "Python 3"
    },
    "language_info": {
      "name": "python"
    }
  },
  "cells": [
    {
      "cell_type": "markdown",
      "metadata": {
        "id": "view-in-github",
        "colab_type": "text"
      },
      "source": [
        "<a href=\"https://colab.research.google.com/github/gndede/python/blob/main/Colab_1_Class_Assignments.ipynb\" target=\"_parent\"><img src=\"https://colab.research.google.com/assets/colab-badge.svg\" alt=\"Open In Colab\"/></a>"
      ]
    },
    {
      "cell_type": "code",
      "metadata": {
        "id": "OKlPKvNwRslY"
      },
      "source": [
        "a=\"Morris Obiri\"\n",
        "first_name, last_name= a.split()\n"
      ],
      "execution_count": null,
      "outputs": []
    },
    {
      "cell_type": "code",
      "metadata": {
        "id": "CWmJvpOe_5JG"
      },
      "source": [
        ""
      ],
      "execution_count": null,
      "outputs": []
    },
    {
      "cell_type": "code",
      "metadata": {
        "colab": {
          "base_uri": "https://localhost:8080/"
        },
        "id": "n1Rc-7s2R_G8",
        "outputId": "f2a8be34-c0ff-438f-8910-37e24f084ad5"
      },
      "source": [
        "print(last_name, first_name, sep=\"  \")"
      ],
      "execution_count": null,
      "outputs": [
        {
          "output_type": "stream",
          "name": "stdout",
          "text": [
            "Obiri  Morris\n"
          ]
        }
      ]
    },
    {
      "cell_type": "code",
      "metadata": {
        "id": "yjlnd8Y2SWrC"
      },
      "source": [
        "a=\"Morris Obiri\"\n",
        "b,c= a.split()\n"
      ],
      "execution_count": null,
      "outputs": []
    },
    {
      "cell_type": "code",
      "metadata": {
        "colab": {
          "base_uri": "https://localhost:8080/"
        },
        "id": "Ddx_QHsuSghS",
        "outputId": "6828d1d0-4e45-46db-eaf7-69659e44bb7d"
      },
      "source": [
        "print(c, b , sep='-')"
      ],
      "execution_count": null,
      "outputs": [
        {
          "output_type": "stream",
          "name": "stdout",
          "text": [
            "Obiri-Morris\n"
          ]
        }
      ]
    },
    {
      "cell_type": "code",
      "metadata": {
        "id": "N8T1SCE4TINJ"
      },
      "source": [
        "House= \"Furniture Clothes People\"\n",
        "sit_on, wear, eat = House. split()"
      ],
      "execution_count": null,
      "outputs": []
    },
    {
      "cell_type": "code",
      "metadata": {
        "colab": {
          "base_uri": "https://localhost:8080/"
        },
        "id": "AZrq8yrtUEO5",
        "outputId": "be8d51fb-75db-4b2c-8315-a37d551aeb8d"
      },
      "source": [
        "print(sit_on, wear, eat, sep =\" + \")"
      ],
      "execution_count": null,
      "outputs": [
        {
          "output_type": "stream",
          "name": "stdout",
          "text": [
            "Furniture + Clothes + People\n"
          ]
        }
      ]
    },
    {
      "cell_type": "code",
      "metadata": {
        "id": "SoOfYl4cUWkm"
      },
      "source": [
        "Teacher= \"Ndete Migot\"\n",
        "b,c= Teacher.split()\n"
      ],
      "execution_count": null,
      "outputs": []
    },
    {
      "cell_type": "code",
      "metadata": {
        "colab": {
          "base_uri": "https://localhost:8080/"
        },
        "id": "AOHMaePKUjZ_",
        "outputId": "ad38c403-19e4-4388-834c-65548eb12da7"
      },
      "source": [
        "print(c)"
      ],
      "execution_count": null,
      "outputs": [
        {
          "output_type": "stream",
          "name": "stdout",
          "text": [
            "Migot\n"
          ]
        }
      ]
    },
    {
      "cell_type": "code",
      "metadata": {
        "colab": {
          "base_uri": "https://localhost:8080/"
        },
        "id": "ZeoFwmY_UoRX",
        "outputId": "59e356b6-8481-4418-e957-e90680adf79a"
      },
      "source": [
        "print(c,b, sep= \"-\")"
      ],
      "execution_count": null,
      "outputs": [
        {
          "output_type": "stream",
          "name": "stdout",
          "text": [
            "Migot-Ndete\n"
          ]
        }
      ]
    },
    {
      "cell_type": "code",
      "metadata": {
        "colab": {
          "base_uri": "https://localhost:8080/"
        },
        "id": "yzTWC5CdUyN2",
        "outputId": "1c510bca-6045-4cf8-9c95-1fa072bc0baf"
      },
      "source": [
        "a= \"1,2,3,4,5,6,7\"\n",
        "print(a)"
      ],
      "execution_count": null,
      "outputs": [
        {
          "output_type": "stream",
          "name": "stdout",
          "text": [
            "1,2,3,4,5,6,7\n"
          ]
        }
      ]
    },
    {
      "cell_type": "code",
      "metadata": {
        "colab": {
          "base_uri": "https://localhost:8080/"
        },
        "id": "mP3TqQJdVZUe",
        "outputId": "383726a5-2898-4864-ba11-0f75363339e0"
      },
      "source": [
        "w=\"Peter Obiri Tinega\"\n",
        "First_name, Middle_name, Last_name= w. split()\n",
        "print(First_name, Middle_name, Last_name, sep = \", \")\n"
      ],
      "execution_count": null,
      "outputs": [
        {
          "output_type": "stream",
          "name": "stdout",
          "text": [
            "Peter, Obiri, Tinega\n"
          ]
        }
      ]
    },
    {
      "cell_type": "code",
      "metadata": {
        "id": "BtXHBrwhZ7gx",
        "colab": {
          "base_uri": "https://localhost:8080/"
        },
        "outputId": "30bf79f6-fe5a-4371-c2db-58814385ba8d"
      },
      "source": [
        "Name=\"Morris Kenyaga Obiri\"\n",
        "first_name, middle_name, last_name=Name.split()\n",
        "print(first_name, last_name, sep= \" \")\n"
      ],
      "execution_count": null,
      "outputs": [
        {
          "output_type": "stream",
          "name": "stdout",
          "text": [
            "Morris Obiri\n"
          ]
        }
      ]
    },
    {
      "cell_type": "code",
      "metadata": {
        "colab": {
          "base_uri": "https://localhost:8080/"
        },
        "id": "VIDoQgsmV5fX",
        "outputId": "d6e61da4-9826-4f6d-9e1a-da4392a4693f"
      },
      "source": [
        "print(Middle_name, Last_name, sep=\" \")"
      ],
      "execution_count": null,
      "outputs": [
        {
          "output_type": "stream",
          "name": "stdout",
          "text": [
            "Obiri Tinega\n"
          ]
        }
      ]
    },
    {
      "cell_type": "code",
      "metadata": {
        "colab": {
          "base_uri": "https://localhost:8080/"
        },
        "id": "uFPxjARIWHz1",
        "outputId": "09fb3c67-3a21-4501-b2db-6e50678c3f8a"
      },
      "source": [
        "print(First_name, Middle_name, sep = \" & \")"
      ],
      "execution_count": null,
      "outputs": [
        {
          "output_type": "stream",
          "name": "stdout",
          "text": [
            "Peter & Obiri\n"
          ]
        }
      ]
    },
    {
      "cell_type": "code",
      "metadata": {
        "colab": {
          "base_uri": "https://localhost:8080/"
        },
        "id": "Prye2EoryEHV",
        "outputId": "32572e84-538c-46ed-dc7d-75d8ea064f1e"
      },
      "source": [
        "a,b,c = 7,8,\"George\"\n",
        "print(a)\n",
        "print(b)\n",
        "print(c)"
      ],
      "execution_count": null,
      "outputs": [
        {
          "output_type": "stream",
          "name": "stdout",
          "text": [
            "7\n",
            "8\n",
            "George\n"
          ]
        }
      ]
    },
    {
      "cell_type": "code",
      "metadata": {
        "colab": {
          "base_uri": "https://localhost:8080/"
        },
        "id": "XIK85VR11zRV",
        "outputId": "59c6f3d1-bbde-4898-db66-0de457d02105"
      },
      "source": [
        "#Example code:\n",
        "a, b, c, d = 3, 4, 5, 6\n",
        "print(a,b, c, d)\n"
      ],
      "execution_count": null,
      "outputs": [
        {
          "output_type": "stream",
          "name": "stdout",
          "text": [
            "3 4 5 6\n"
          ]
        }
      ]
    },
    {
      "cell_type": "code",
      "metadata": {
        "colab": {
          "base_uri": "https://localhost:8080/"
        },
        "id": "D6QuXHZ0yRfo",
        "outputId": "ad444d6c-191f-45e6-8472-30e4cb59ee85"
      },
      "source": [
        "a = b = c = d = 65\n",
        "print(a)\n",
        "print(b)\n",
        "print(c)\n",
        "print(d)"
      ],
      "execution_count": null,
      "outputs": [
        {
          "output_type": "stream",
          "name": "stdout",
          "text": [
            "65\n",
            "65\n",
            "65\n",
            "65\n"
          ]
        }
      ]
    },
    {
      "cell_type": "code",
      "metadata": {
        "colab": {
          "base_uri": "https://localhost:8080/"
        },
        "id": "j59uSlwL0Tsq",
        "outputId": "b6373cec-9f1a-4dbb-a05b-9d9de077f376"
      },
      "source": [
        "Habari = \"Habari\"\n",
        "Zenu = \"Zenu\"\n",
        "jambo = Habari + \" \" + Zenu  \n",
        "print(jambo)"
      ],
      "execution_count": null,
      "outputs": [
        {
          "output_type": "stream",
          "name": "stdout",
          "text": [
            "Habari Zenu\n"
          ]
        }
      ]
    },
    {
      "cell_type": "code",
      "metadata": {
        "colab": {
          "base_uri": "https://localhost:8080/"
        },
        "id": "yGyOhwYl016k",
        "outputId": "85322adb-58c8-4206-b59c-5e770fc35f42"
      },
      "source": [
        "moja  = 1\n",
        "mbili = 2\n",
        "tatu = moja + mbili\n",
        "print(tatu) # finding the result ⇒ 3\n"
      ],
      "execution_count": null,
      "outputs": [
        {
          "output_type": "stream",
          "name": "stdout",
          "text": [
            "3\n"
          ]
        }
      ]
    },
    {
      "cell_type": "code",
      "metadata": {
        "colab": {
          "base_uri": "https://localhost:8080/"
        },
        "id": "r1qPQ6ht2IcF",
        "outputId": "ffcec99b-eb30-4737-ca6b-c381f351fe75"
      },
      "source": [
        "# This will not work!\n",
        "one = 1.0\n",
        "two = 2\n",
        "hello = \"Hello\"\n",
        "print(one, two,\" + \",  \"hello\")\n"
      ],
      "execution_count": null,
      "outputs": [
        {
          "output_type": "stream",
          "name": "stdout",
          "text": [
            "1.0 2  +  hello\n"
          ]
        }
      ]
    },
    {
      "cell_type": "code",
      "metadata": {
        "colab": {
          "base_uri": "https://localhost:8080/",
          "height": 129
        },
        "id": "E9FgZ9AB2jJk",
        "outputId": "2921a761-339e-4946-ccb6-031e36129da9"
      },
      "source": [
        "# change this code\n",
        "mystring = None\n",
        "myint = None\n",
        "# testing code\n",
        "if mystring == \"hello\":\n",
        "  print(\"String: %s\" % mystring)\n",
        "  myfloat = 10.0\n",
        "if isinstance(myfloat, float) and myfloat == 10.0:\n",
        "  print(\"Float: %f\" % myfloat)\n",
        "  myint = 20\n",
        "if isinstance(myint, int) and myint == 20:\n",
        "  print(\"Integer: %d\" % myint)\n"
      ],
      "execution_count": null,
      "outputs": [
        {
          "output_type": "error",
          "ename": "SyntaxError",
          "evalue": "ignored",
          "traceback": [
            "\u001b[0;36m  File \u001b[0;32m\"<ipython-input-27-71fb7eefbf1b>\"\u001b[0;36m, line \u001b[0;32m8\u001b[0m\n\u001b[0;31m    if isinstance(myfloat, float) and myfloat = 10.0:\u001b[0m\n\u001b[0m                                              ^\u001b[0m\n\u001b[0;31mSyntaxError\u001b[0m\u001b[0;31m:\u001b[0m invalid syntax\n"
          ]
        }
      ]
    },
    {
      "cell_type": "code",
      "metadata": {
        "id": "3MYHv6Ec7UBz"
      },
      "source": [
        "#Slicing in Python\n",
        "#https://www.w3schools.com/python/python_strings_slicing.asp\n",
        "str = 'WALTER'"
      ],
      "execution_count": null,
      "outputs": []
    },
    {
      "cell_type": "code",
      "metadata": {
        "colab": {
          "base_uri": "https://localhost:8080/"
        },
        "id": "Fj_jgL2u7a7R",
        "outputId": "253fe55d-f6f6-48d1-f579-7b853a6a5883"
      },
      "source": [
        " print (str[2:5])     # Prints characters starting from 3rd indexing (W=0,A=1,L=2,T=3,E=4,R=5) to 5th numbering - W=1,A=2,L=3,T=4,E=5,R=6\n",
        "#LTE"
      ],
      "execution_count": null,
      "outputs": [
        {
          "output_type": "stream",
          "name": "stdout",
          "text": [
            "LTE\n"
          ]
        }
      ]
    },
    {
      "cell_type": "code",
      "metadata": {
        "id": "c0LqaTbh-xX4"
      },
      "source": [
        "str1 = \"The Quick Fox Brown jumped Over the Lazy Dog\""
      ],
      "execution_count": null,
      "outputs": []
    },
    {
      "cell_type": "code",
      "metadata": {
        "colab": {
          "base_uri": "https://localhost:8080/"
        },
        "id": "LhaF82SO97SW",
        "outputId": "2253ff5b-5650-4aa2-b48e-bbe9e3977d5c"
      },
      "source": [
        "print (str1[2:6])      # Prints string starting from 3rd character"
      ],
      "execution_count": null,
      "outputs": [
        {
          "output_type": "stream",
          "name": "stdout",
          "text": [
            "e Qu\n"
          ]
        }
      ]
    },
    {
      "cell_type": "code",
      "metadata": {
        "id": "hvYAK2Os_b_I"
      },
      "source": [
        "#Que1: Enter your first, last name. Also Enter your Email, and physical (123 Hidden Valley Lane, Grand Prairie Texas 75014). Then enter your phone number in the last line.\n",
        "Print something in the form of \n",
        "FirstName, Last_name\n",
        "Email address\n",
        "Physical Address\n",
        "Phone Number"
      ],
      "execution_count": null,
      "outputs": []
    },
    {
      "cell_type": "code",
      "metadata": {
        "colab": {
          "base_uri": "https://localhost:8080/"
        },
        "id": "5scmcUldxTet",
        "outputId": "b6b0f4fd-f36d-4522-f9eb-4a87c43c1017"
      },
      "source": [
        "a,b,c, d, e,f,g  = \"Full Names: Morris Ohare\", \"Email: Ohareconnect@gmail.com\", \"Address: 500 Timberlake Oaks Lane\", \"City: Grand Rapids\", \"State: Michigan\", \"Zip Code: 35052\", \"Phone Number: 9075033226\"\n",
        "print(a)\n",
        "print(b)\n",
        "print(c)\n",
        "print(d)\n",
        "print(e)\n",
        "print(f)\n",
        "print(g)\n"
      ],
      "execution_count": null,
      "outputs": [
        {
          "output_type": "stream",
          "name": "stdout",
          "text": [
            "Full Names: Morris Obiri\n",
            "Email: Obiriconnect@gmail.com\n",
            "Address: 700 Timber Oaks Lane\n",
            "City: Grand Prairie\n",
            "State: Texas\n",
            "Zip Code: 75051\n",
            "Phone Number: 8175003446\n"
          ]
        }
      ]
    },
    {
      "cell_type": "code",
      "metadata": {
        "id": "VAiRohJ-11NY",
        "colab": {
          "base_uri": "https://localhost:8080/"
        },
        "outputId": "e74b193f-855b-4611-f7b0-e047b89b1d78"
      },
      "source": [
        "Asubuhi=\"Habari\"\n",
        "Watu=\"yenu\" \n",
        "Umri= \"Wazee?\"\n",
        "Salamu= Asubuhi + \" \" + Watu +\" \" + Umri\n",
        "print(Salamu)"
      ],
      "execution_count": null,
      "outputs": [
        {
          "output_type": "stream",
          "name": "stdout",
          "text": [
            "Habari yenu Wazee?\n"
          ]
        }
      ]
    },
    {
      "cell_type": "code",
      "metadata": {
        "colab": {
          "base_uri": "https://localhost:8080/"
        },
        "id": "1Zg2EhF9_7i0",
        "outputId": "f12622b0-cf11-4eec-eb21-c45ae68c0aff"
      },
      "source": [
        "names = [\"John\", \"Eric\", \"Jessica\"]\n",
        "names.append (\" Lukas\")\n",
        "print (names)"
      ],
      "execution_count": null,
      "outputs": [
        {
          "output_type": "stream",
          "name": "stdout",
          "text": [
            "['John', 'Eric', 'Jessica', ' Lukas']\n"
          ]
        }
      ]
    },
    {
      "cell_type": "code",
      "metadata": {
        "id": "eZ3NB5LfWhEb"
      },
      "source": [
        "names = [\"John\", \"Eric\", \"Jessica\"]"
      ],
      "execution_count": null,
      "outputs": []
    },
    {
      "cell_type": "code",
      "metadata": {
        "colab": {
          "base_uri": "https://localhost:8080/"
        },
        "id": "zk4sCApj6U87",
        "outputId": "1c8c0964-eba0-4c77-9c4c-996aace287a0"
      },
      "source": [
        "names.append (\" Moses\")\n",
        "print (names)"
      ],
      "execution_count": null,
      "outputs": [
        {
          "output_type": "stream",
          "name": "stdout",
          "text": [
            "['John', 'Eric', 'Jessica', ' Moses', ' Moses', ' Moses']\n"
          ]
        }
      ]
    },
    {
      "cell_type": "code",
      "metadata": {
        "colab": {
          "base_uri": "https://localhost:8080/",
          "height": 35
        },
        "id": "a_yZ7zHtbynI",
        "outputId": "1ae63393-203f-40fd-d979-601bee1f54f9"
      },
      "source": [
        "names.pop()"
      ],
      "execution_count": null,
      "outputs": [
        {
          "output_type": "execute_result",
          "data": {
            "application/vnd.google.colaboratory.intrinsic+json": {
              "type": "string"
            },
            "text/plain": [
              "' Moses'"
            ]
          },
          "metadata": {},
          "execution_count": 9
        }
      ]
    },
    {
      "cell_type": "code",
      "metadata": {
        "colab": {
          "base_uri": "https://localhost:8080/"
        },
        "id": "wxRgcqxicE96",
        "outputId": "b0be72e5-e666-4dd1-86d3-e84aaea0dc4f"
      },
      "source": [
        "names = [\"John\", \"Eric\", \"Jessica\"]\n",
        "names.append (\" Lukas\")\n",
        "print (names)"
      ],
      "execution_count": null,
      "outputs": [
        {
          "output_type": "stream",
          "name": "stdout",
          "text": [
            "['John', 'Eric', 'Jessica', ' Lukas']\n"
          ]
        }
      ]
    },
    {
      "cell_type": "code",
      "metadata": {
        "colab": {
          "base_uri": "https://localhost:8080/"
        },
        "id": "mooLXOx1gldx",
        "outputId": "a8e119f0-044b-4425-d95b-7deaa3110d6c"
      },
      "source": [
        "names.append(\"Judy\")\n",
        "print(names)"
      ],
      "execution_count": null,
      "outputs": [
        {
          "output_type": "stream",
          "name": "stdout",
          "text": [
            "['John', 'Eric', 'Jessica', ' Lukas', 'Judy']\n"
          ]
        }
      ]
    },
    {
      "cell_type": "code",
      "metadata": {
        "colab": {
          "base_uri": "https://localhost:8080/"
        },
        "id": "rQrPgQ5igyFT",
        "outputId": "f37aa7db-79fe-4336-e61b-f8a26cb227e7"
      },
      "source": [
        "names[0]\n",
        "print(names[0])"
      ],
      "execution_count": null,
      "outputs": [
        {
          "output_type": "stream",
          "name": "stdout",
          "text": [
            "John\n"
          ]
        }
      ]
    },
    {
      "cell_type": "code",
      "metadata": {
        "colab": {
          "base_uri": "https://localhost:8080/"
        },
        "id": "_jGjBkmZg0Cd",
        "outputId": "980ec45b-b0a5-47b4-e2e0-c13386ce5713"
      },
      "source": [
        "print (names[2])"
      ],
      "execution_count": null,
      "outputs": [
        {
          "output_type": "stream",
          "name": "stdout",
          "text": [
            "Jessica\n"
          ]
        }
      ]
    },
    {
      "cell_type": "code",
      "metadata": {
        "colab": {
          "base_uri": "https://localhost:8080/"
        },
        "id": "f89-NhE3hU8l",
        "outputId": "c71778b2-5178-47b3-fe5a-221b3c228da0"
      },
      "source": [
        "print(names [2])\n",
        "print(names[0])"
      ],
      "execution_count": null,
      "outputs": [
        {
          "output_type": "stream",
          "name": "stdout",
          "text": [
            "Jessica\n",
            "John\n"
          ]
        }
      ]
    },
    {
      "cell_type": "code",
      "metadata": {
        "id": "PTFgixr2haEV"
      },
      "source": [
        "a=['John', 'Eric', 'Jessica', ' Lukas', 'Judy']\n"
      ],
      "execution_count": null,
      "outputs": []
    },
    {
      "cell_type": "code",
      "metadata": {
        "id": "k2__Hh6kiGy6"
      },
      "source": [
        "temp=a[0]\n",
        "a[0]=a[4]\n",
        "a[4]=temp\n"
      ],
      "execution_count": null,
      "outputs": []
    },
    {
      "cell_type": "code",
      "metadata": {
        "colab": {
          "base_uri": "https://localhost:8080/"
        },
        "id": "0t6JimPXiuio",
        "outputId": "f2dc4437-3c0a-4e21-cda6-7e5a93f97966"
      },
      "source": [
        "print(a)"
      ],
      "execution_count": null,
      "outputs": [
        {
          "output_type": "stream",
          "name": "stdout",
          "text": [
            "['Judy', 'Eric', 'Jessica', ' Lukas', 'John']\n"
          ]
        }
      ]
    },
    {
      "cell_type": "code",
      "metadata": {
        "id": "kfJts1nLjC7H"
      },
      "source": [
        "# Reverse a List\n",
        "list = [100, 200, 300, 400, 500]"
      ],
      "execution_count": null,
      "outputs": []
    },
    {
      "cell_type": "code",
      "metadata": {
        "colab": {
          "base_uri": "https://localhost:8080/"
        },
        "id": "fjkeU3VTk_pl",
        "outputId": "9bda1535-6d56-4803-cd07-c065dee868f1"
      },
      "source": [
        "list.reverse()\n",
        "print(list)"
      ],
      "execution_count": null,
      "outputs": [
        {
          "output_type": "stream",
          "name": "stdout",
          "text": [
            "[500, 400, 300, 200, 100]\n"
          ]
        }
      ]
    },
    {
      "cell_type": "code",
      "metadata": {
        "id": "1NOtC0-vlmfi",
        "colab": {
          "base_uri": "https://localhost:8080/"
        },
        "outputId": "e8314987-6e21-474d-c744-abd10dbf7b50"
      },
      "source": [
        "#Concatenate two lists index-wise\n",
        "list1 = [\"M\", \"nick\", \"i\", \"Mo\"]\n",
        "list2 = [\"y\", \"name\", \"s\", \"rris\"]\n",
        "list3 = [k + l for k, l in zip(list1, list2)]\n",
        "print(list3)"
      ],
      "execution_count": null,
      "outputs": [
        {
          "output_type": "stream",
          "name": "stdout",
          "text": [
            "['My', 'nickname', 'is', 'Morris']\n"
          ]
        }
      ]
    },
    {
      "cell_type": "code",
      "metadata": {
        "colab": {
          "base_uri": "https://localhost:8080/"
        },
        "id": "fAzGtBZS8Jrw",
        "outputId": "b6f6650a-3142-4a6f-f377-a175a891cfcc"
      },
      "source": [
        "#Concatenate two lists index-wise\n",
        "list1a= (\"M\", \"nick\", \"i\", \"Mo\")\n",
        "list2b = (\"y\", \"name\", \"s\", \"rris\")\n",
        "y = zip(list1a, list2b)\n",
        "print(tuple(y))"
      ],
      "execution_count": null,
      "outputs": [
        {
          "output_type": "stream",
          "name": "stdout",
          "text": [
            "(('M', 'y'), ('nick', 'name'), ('i', 's'), ('Mo', 'rris'))\n"
          ]
        }
      ]
    },
    {
      "cell_type": "code",
      "metadata": {
        "id": "5OEqAT5m5Lme"
      },
      "source": [
        "tuplea = (\"John\", \"Charles\", \"Mike\")\n",
        "tupleb = (\"Jenny\", \"Christy\", \"Monica\")\n",
        "\n",
        "x = zip(tuplea, tupleb)"
      ],
      "execution_count": null,
      "outputs": []
    },
    {
      "cell_type": "code",
      "metadata": {
        "colab": {
          "base_uri": "https://localhost:8080/"
        },
        "id": "EcQsb2sx7fCE",
        "outputId": "01d138c0-e047-476f-b294-c3f1d5d62db8"
      },
      "source": [
        "print(x)"
      ],
      "execution_count": null,
      "outputs": [
        {
          "output_type": "stream",
          "name": "stdout",
          "text": [
            "<zip object at 0x7fae396ad7d0>\n"
          ]
        }
      ]
    },
    {
      "cell_type": "code",
      "metadata": {
        "colab": {
          "base_uri": "https://localhost:8080/"
        },
        "id": "fUllJsW6lsoC",
        "outputId": "a183517d-3341-42c7-aa31-9edfb758d778"
      },
      "source": [
        "print(tuple(x))"
      ],
      "execution_count": null,
      "outputs": [
        {
          "output_type": "stream",
          "name": "stdout",
          "text": [
            "(('John', 'Jenny'), ('Charles', 'Christy'), ('Mike', 'Monica'))\n"
          ]
        }
      ]
    },
    {
      "cell_type": "code",
      "metadata": {
        "id": "-9qNKiHA6xQO"
      },
      "source": [
        "1,2,4,5,3 ===> int\n",
        "1.0,9.0,3.14 ===> float\n",
        "[\"Esther\", \"Morris\", \"George\"] ===> list\n",
        "(\"Jenny\", \"Christy\", \"Monica\") ==> tuple\n",
        "{\"Name\": \"Morris\", \"email\":\"email@email.com\"} ===> diction"
      ],
      "execution_count": null,
      "outputs": []
    },
    {
      "cell_type": "code",
      "metadata": {
        "id": "0OuH5fnBxnMG"
      },
      "source": [
        "#Square Lists"
      ],
      "execution_count": null,
      "outputs": []
    },
    {
      "cell_type": "code",
      "metadata": {
        "id": "CKV87XT8ozNq"
      },
      "source": [
        "aList = [1, 2, 3, 4, 5, 6, 7]"
      ],
      "execution_count": null,
      "outputs": []
    },
    {
      "cell_type": "code",
      "metadata": {
        "colab": {
          "base_uri": "https://localhost:8080/"
        },
        "id": "8K-FvRE8t39y",
        "outputId": "d306d1ca-0150-4e2b-a5ac-f478c1ecb949"
      },
      "source": [
        "squared_aList=[]\n",
        "for number in aList:\n",
        " squared_aList.append(number**2)\n",
        "print(squared_aList)"
      ],
      "execution_count": null,
      "outputs": [
        {
          "output_type": "stream",
          "name": "stdout",
          "text": [
            "[1, 4, 9, 16, 25, 36, 49]\n"
          ]
        }
      ]
    },
    {
      "cell_type": "code",
      "metadata": {
        "colab": {
          "base_uri": "https://localhost:8080/"
        },
        "id": "sSraxuSY-mJe",
        "outputId": "0cb6a175-a932-4da3-a5d3-9b00d77bc273"
      },
      "source": [
        "thistuple = (\"apple\",)\n",
        "print(type(thistuple))"
      ],
      "execution_count": null,
      "outputs": [
        {
          "output_type": "stream",
          "name": "stdout",
          "text": [
            "<class 'tuple'>\n"
          ]
        }
      ]
    },
    {
      "cell_type": "code",
      "metadata": {
        "colab": {
          "base_uri": "https://localhost:8080/"
        },
        "id": "RnaJlRrw-qp3",
        "outputId": "391d0dda-acf7-4bfd-fd36-f387a82a62d7"
      },
      "source": [
        "#NOT a tuple\n",
        "thistuple = (\"apple\")\n",
        "print(type(thistuple))"
      ],
      "execution_count": null,
      "outputs": [
        {
          "output_type": "stream",
          "name": "stdout",
          "text": [
            "<class 'str'>\n"
          ]
        }
      ]
    },
    {
      "cell_type": "code",
      "metadata": {
        "colab": {
          "base_uri": "https://localhost:8080/"
        },
        "id": "U2A4v-ShBYQS",
        "outputId": "96b2316f-0803-4038-8c17-0ad0532b6e31"
      },
      "source": [
        "thistuple = (\"apple\", \"banana\", \"cherry\")\n",
        "print(thistuple[-3])\n",
        "print(thistuple[2])\n",
        "print(thistuple[0])"
      ],
      "execution_count": null,
      "outputs": [
        {
          "output_type": "stream",
          "name": "stdout",
          "text": [
            "apple\n",
            "cherry\n",
            "apple\n"
          ]
        }
      ]
    },
    {
      "cell_type": "code",
      "metadata": {
        "colab": {
          "base_uri": "https://localhost:8080/"
        },
        "id": "DF91oZQuCRAi",
        "outputId": "65043d2a-ea04-4144-893c-e23bbea590fa"
      },
      "source": [
        "thislist = [\"apple\", \"banana\", \"cherry\"]\n",
        "thislist.reverse()\n",
        "print(thislist)\n"
      ],
      "execution_count": null,
      "outputs": [
        {
          "output_type": "stream",
          "name": "stdout",
          "text": [
            "['cherry', 'banana', 'apple']\n"
          ]
        }
      ]
    },
    {
      "cell_type": "code",
      "metadata": {
        "colab": {
          "base_uri": "https://localhost:8080/"
        },
        "id": "cCCkz5DfDNDK",
        "outputId": "6f9850fb-af8f-460e-dfd5-6b32e6dbd076"
      },
      "source": [
        "thislist = [\"apple\", \"banana\", \"cherry\"]\n",
        "thislist2 = [\"pinneaple\", \"Oranges\", \"Pawpaw\"]\n",
        "\n",
        "thislist3 = [a + b for a in thislist for b in thislist2]\n",
        "print(thislist3)"
      ],
      "execution_count": null,
      "outputs": [
        {
          "output_type": "stream",
          "name": "stdout",
          "text": [
            "['applepinneaple', 'appleOranges', 'applePawpaw', 'bananapinneaple', 'bananaOranges', 'bananaPawpaw', 'cherrypinneaple', 'cherryOranges', 'cherryPawpaw']\n"
          ]
        }
      ]
    },
    {
      "cell_type": "code",
      "metadata": {
        "id": "x9vAQaMSEd-l"
      },
      "source": [
        "thistuple = (\"apple\", \"banana\", \"cherry\")"
      ],
      "execution_count": null,
      "outputs": []
    },
    {
      "cell_type": "code",
      "metadata": {
        "colab": {
          "base_uri": "https://localhost:8080/"
        },
        "id": "BwP-MFDyEid0",
        "outputId": "7fd161fc-bc91-445a-e433-c69d27a78642"
      },
      "source": [
        "temp= a[0]\n",
        "a[0]=a[1]\n",
        "a[1]=temp\n",
        "print(thistuple)"
      ],
      "execution_count": null,
      "outputs": [
        {
          "output_type": "stream",
          "name": "stdout",
          "text": [
            "('apple', 'banana', 'cherry')\n"
          ]
        }
      ]
    }
  ]
}