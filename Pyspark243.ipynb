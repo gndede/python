{
  "nbformat": 4,
  "nbformat_minor": 0,
  "metadata": {
    "colab": {
      "private_outputs": true,
      "provenance": [],
      "authorship_tag": "ABX9TyMaR73us2qPiZ1SOHiQzlD8",
      "include_colab_link": true
    },
    "kernelspec": {
      "name": "python3",
      "display_name": "Python 3"
    },
    "language_info": {
      "name": "python"
    }
  },
  "cells": [
    {
      "cell_type": "markdown",
      "metadata": {
        "id": "view-in-github",
        "colab_type": "text"
      },
      "source": [
        "<a href=\"https://colab.research.google.com/github/gndede/python/blob/main/Pyspark243.ipynb\" target=\"_parent\"><img src=\"https://colab.research.google.com/assets/colab-badge.svg\" alt=\"Open In Colab\"/></a>"
      ]
    },
    {
      "cell_type": "code",
      "execution_count": null,
      "metadata": {
        "id": "knP7nun7BJcy"
      },
      "outputs": [],
      "source": [
        "pip install pyspark"
      ]
    },
    {
      "cell_type": "code",
      "source": [
        "import pyspark"
      ],
      "metadata": {
        "id": "tM0rb7rRBVsu"
      },
      "execution_count": null,
      "outputs": []
    },
    {
      "cell_type": "code",
      "source": [
        "import spark"
      ],
      "metadata": {
        "id": "TQ078RJNFJ5R"
      },
      "execution_count": null,
      "outputs": []
    },
    {
      "cell_type": "code",
      "source": [
        "#textFile = spark.read.text(\"/content/sample_data/README.md\")\n",
        "from pyspark import SparkFiles\n",
        "url = \"https://opendata.reseaux-energies.fr/explore/dataset/eco2mix-national-tr/download/?format=csv\"\n",
        "spark.sparkContext.addFile(url)"
      ],
      "metadata": {
        "id": "Fx4Ucsh-BdsK"
      },
      "execution_count": null,
      "outputs": []
    },
    {
      "cell_type": "code",
      "source": [
        "url = \"https://opendata.reseaux-energies.fr/explore/dataset/eco2mix-national-tr/download/?format=csv&timezone=Europe/Berlin&lang=fr&use_labels_for_header=true&csv_separator=%3B\"\n",
        "from pyspark import SparkFiles\n",
        "spark.sparkContext.addFile(url)\n",
        "df = spark.read.csv(SparkFiles.get(\"eco2mix-national-tr.csv\"), header=True, inferSchema= True)"
      ],
      "metadata": {
        "id": "8PzgxY0gFCFq"
      },
      "execution_count": null,
      "outputs": []
    },
    {
      "cell_type": "code",
      "source": [
        "url = \"https://opendata.reseaux-energies.fr/explore/dataset/eco2mix-national-tr/download/?format=csv\"\n",
        "from pyspark import SparkFiles\n",
        "sc.addFile(url)\n",
        "\n",
        "path  = SparkFiles.get('download')\n",
        "df = spark.read.csv(\"file://\" + path, header=True, inferSchema= True, sep = \";\")"
      ],
      "metadata": {
        "id": "AZb05cDeQXvw"
      },
      "execution_count": null,
      "outputs": []
    },
    {
      "cell_type": "code",
      "source": [
        "pip install pyspark"
      ],
      "metadata": {
        "id": "Uuo1vfjBgIDW"
      },
      "execution_count": null,
      "outputs": []
    },
    {
      "cell_type": "code",
      "source": [
        "from pyspark.sql import SparkSession\n",
        "spark = SparkSession.builder.getOrCreate()\n",
        "\n",
        "#read CSV into PySpark DataFrame\n",
        "df = spark.read.csv('/content/sales_data.csv', header=True)\n",
        "\n",
        "#view resulting DataFrame\n",
        "df.show()"
      ],
      "metadata": {
        "id": "dNnSJ49mf5Co"
      },
      "execution_count": null,
      "outputs": []
    },
    {
      "cell_type": "code",
      "source": [
        "csv_file = \"/content/sales_data.csv\"\n",
        "\n",
        "df = spark.read \\\n",
        "    .option(\"header\", \"true\") \\\n",
        "    .option(\"inferSchema\", \"true\") \\\n",
        "    .csv(csv_file)"
      ],
      "metadata": {
        "id": "RUo7kfG5d0uD"
      },
      "execution_count": null,
      "outputs": []
    },
    {
      "cell_type": "code",
      "source": [
        "df.createOrReplaceTempView(\"saless_data\")"
      ],
      "metadata": {
        "id": "Z0FrA6h4eKBd"
      },
      "execution_count": null,
      "outputs": []
    },
    {
      "cell_type": "code",
      "source": [
        "result = spark.sql(\"SELECT * FROM saless_data\")\n",
        "result.show()"
      ],
      "metadata": {
        "id": "Kmu0z_DbeKa_"
      },
      "execution_count": null,
      "outputs": []
    },
    {
      "cell_type": "code",
      "source": [
        "result = spark.sql(\"SELECT Product,Order_Quantity,Unit_Cost,Unit_Price,Profit,Cost,Revenue FROM saless_data\")\n",
        "result.show()"
      ],
      "metadata": {
        "id": "AiCFm6CHfBk-"
      },
      "execution_count": null,
      "outputs": []
    },
    {
      "cell_type": "code",
      "source": [
        "# Calculate the total revenue for each product\n",
        "\n",
        "query = \"\"\"\n",
        "SELECT\n",
        "Product,\n",
        "SUM(Order_Quantity * Unit_Price) as TotalRevenue\n",
        "FROM sales_data\n",
        "GROUP BY Product\n",
        "\"\"\"\n",
        "\n",
        "result = spark.sql(query)\n",
        "result.show()"
      ],
      "metadata": {
        "id": "6YsdvmUAfaIC"
      },
      "execution_count": null,
      "outputs": []
    },
    {
      "cell_type": "code",
      "source": [
        "# Load the data into a DataFrame\n",
        "csv_file = \"/content/sales_data.csv\"\n",
        "df = spark.read.option(\"header\", \"true\").option(\"inferSchema\", \"true\").csv(csv_file)\n",
        "\n",
        "# Create a temporary view\n",
        "df.createOrReplaceTempView(\"sales_data\")"
      ],
      "metadata": {
        "id": "TiNWhIg0eggK"
      },
      "execution_count": null,
      "outputs": []
    },
    {
      "cell_type": "code",
      "source": [
        "# Calculate the total revenue for each product\n",
        "\n",
        "query = \"\"\"\n",
        "SELECT\n",
        "Product,\n",
        "SUM(Order_Quantity * Unit_Price) as TotalRevenue\n",
        "FROM sales_data\n",
        "GROUP BY Product\n",
        "\"\"\"\n",
        "\n",
        "result = spark.sql(query)\n",
        "result.show()"
      ],
      "metadata": {
        "id": "PZoN74aZevof"
      },
      "execution_count": null,
      "outputs": []
    },
    {
      "cell_type": "code",
      "source": [
        "#You can also use more complex SQL queries to analyze your data.\n",
        "#For example, to find the top 2 products with the highest revenue\n",
        "query = \"\"\"\n",
        "SELECT\n",
        "    Product,\n",
        "    SUM(Order_Quantity * Unit_Price) as TotalRevenue\n",
        "FROM\n",
        "    sales_data\n",
        "GROUP BY\n",
        "    Product\n",
        "ORDER BY\n",
        "    TotalRevenue DESC\n",
        "LIMIT 2\n",
        "\"\"\"\n",
        "\n",
        "result = spark.sql(query)\n",
        "result.show()"
      ],
      "metadata": {
        "id": "8OUjbRCfinmm"
      },
      "execution_count": null,
      "outputs": []
    }
  ]
}